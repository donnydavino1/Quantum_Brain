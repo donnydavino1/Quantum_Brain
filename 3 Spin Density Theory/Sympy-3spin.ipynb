{
 "cells": [
  {
   "cell_type": "code",
   "id": "86cd4f9e-243a-4398-9543-28b5b90c3088",
   "metadata": {
    "ExecuteTime": {
     "end_time": "2025-01-05T17:06:47.342391Z",
     "start_time": "2025-01-05T17:06:47.328655Z"
    }
   },
   "source": [
    "from sympy import Matrix, symbols, simplify, Rational, nsimplify\n",
    "import numpy as np\n",
    "import qutip as qt\n",
    "import pulsee.plot as psplt\n",
    "import qutip as qt\n",
    "from qutip import Qobj\n",
    "import numpy as np\n",
    "from operators_3spin_new import ThreeSpinOperators, gradient\n",
    "import pulsee.plot as vis"
   ],
   "outputs": [],
   "execution_count": 5
  },
  {
   "cell_type": "code",
   "id": "c3167834-0e1a-49c4-948f-ef6cf984c6b8",
   "metadata": {
    "ExecuteTime": {
     "end_time": "2025-01-05T17:06:47.356672Z",
     "start_time": "2025-01-05T17:06:47.345186Z"
    }
   },
   "source": [
    "j12 = 10000\n",
    "j23 = 1\n",
    "j13 = 1\n",
    "op = ThreeSpinOperators(j12=j12, j13=j13, j23=j23)"
   ],
   "outputs": [],
   "execution_count": 6
  },
  {
   "cell_type": "code",
   "id": "6333ef01-46d8-4dc8-8f5a-bfd30613275b",
   "metadata": {
    "ExecuteTime": {
     "end_time": "2025-01-05T17:06:47.401957Z",
     "start_time": "2025-01-05T17:06:47.356672Z"
    }
   },
   "source": [
    "# Define symbolic constants\n",
    "a, b, c, d = symbols('a b c d')\n",
    "a, b, c, d, e = symbols('hbar gamma B^0 k_b T')\n",
    "\n",
    "# Extract the numerical matrix from the Qobj as a NumPy array\n",
    "op.I1z_numpy = op.I1z.full()\n",
    "op.I2z_numpy = op.I2z.full()\n",
    "op.I3z_numpy = op.I3z.full()\n",
    "\n",
    "# Convert the NumPy array to a SymPy Matrix\n",
    "op.I1z_sympy = Matrix(op.I1z_numpy)\n",
    "op.I2z_sympy = Matrix(op.I2z_numpy)\n",
    "op.I3z_sympy = Matrix(op.I3z_numpy)\n",
    "op.identity_3_sympy = Matrix(op.identity)\n",
    "\n",
    "\n",
    "thermal_state=(1/8)*op.identity_3_sympy+(1/8)*op.I1z_sympy*(a*b*c/(d*e))+(1/8)*op.I2z_sympy*(a*b*c/(d*e))+(1/8)*op.I3z_sympy*(a*b*c/(d*e))\n",
    "thermal_state = thermal_state.applyfunc(nsimplify)\n",
    "#thermal_state = thermal_state.applyfunc(Rational)\n",
    "display(thermal_state)\n",
    "# Display the Qobj matrix\n",
    "#print(\"The resulting Qobj matrix is:\")\n",
    "#print(qutip_matrix)"
   ],
   "outputs": [
    {
     "ename": "FrozenInstanceError",
     "evalue": "cannot assign to field 'I1z_numpy'",
     "output_type": "error",
     "traceback": [
      "\u001B[1;31m---------------------------------------------------------------------------\u001B[0m",
      "\u001B[1;31mFrozenInstanceError\u001B[0m                       Traceback (most recent call last)",
      "Cell \u001B[1;32mIn[7], line 6\u001B[0m\n\u001B[0;32m      3\u001B[0m a, b, c, d, e \u001B[38;5;241m=\u001B[39m symbols(\u001B[38;5;124m'\u001B[39m\u001B[38;5;124mhbar gamma B^0 k_b T\u001B[39m\u001B[38;5;124m'\u001B[39m)\n\u001B[0;32m      5\u001B[0m \u001B[38;5;66;03m# Extract the numerical matrix from the Qobj as a NumPy array\u001B[39;00m\n\u001B[1;32m----> 6\u001B[0m op\u001B[38;5;241m.\u001B[39mI1z_numpy \u001B[38;5;241m=\u001B[39m op\u001B[38;5;241m.\u001B[39mI1z\u001B[38;5;241m.\u001B[39mfull()\n\u001B[0;32m      7\u001B[0m op\u001B[38;5;241m.\u001B[39mI2z_numpy \u001B[38;5;241m=\u001B[39m op\u001B[38;5;241m.\u001B[39mI2z\u001B[38;5;241m.\u001B[39mfull()\n\u001B[0;32m      8\u001B[0m op\u001B[38;5;241m.\u001B[39mI3z_numpy \u001B[38;5;241m=\u001B[39m op\u001B[38;5;241m.\u001B[39mI3z\u001B[38;5;241m.\u001B[39mfull()\n",
      "File \u001B[1;32m<string>:4\u001B[0m, in \u001B[0;36m__setattr__\u001B[1;34m(self, name, value)\u001B[0m\n",
      "\u001B[1;31mFrozenInstanceError\u001B[0m: cannot assign to field 'I1z_numpy'"
     ]
    }
   ],
   "execution_count": 7
  },
  {
   "cell_type": "code",
   "id": "d160d886-cfb9-4096-bc5d-802a84687af9",
   "metadata": {
    "ExecuteTime": {
     "end_time": "2025-01-05T17:06:47.401957Z",
     "start_time": "2025-01-05T17:06:47.401957Z"
    }
   },
   "source": [
    "# Define symbolic constants\n",
    "a, b, c, d = symbols('a b c d')\n",
    "a, b, c, d, e = symbols('hbar gamma B^0 k_b T')\n",
    "\n",
    "a, b, c, d, e =1, 1, 1, 1, 1\n",
    "# Extract the numerical matrix from the Qobj as a NumPy array\n",
    "op.I1z_numpy = op.I1z.full()\n",
    "op.I2z_numpy = op.I2z.full()\n",
    "op.I3z_numpy = op.I3z.full()\n",
    "\n",
    "# Convert the NumPy array to a SymPy Matrix\n",
    "op.I1z_sympy = Matrix(op.I1z_numpy)\n",
    "op.I2z_sympy = Matrix(op.I2z_numpy)\n",
    "op.I3z_sympy = Matrix(op.I3z_numpy)\n",
    "op.identity_3_sympy = Matrix(op.identity)\n",
    "\n",
    "\n",
    "thermal_state=(1/8)*op.identity_3_sympy+(1/8)*op.I1z_sympy*(a*b*c/(d*e))+(1/8)*op.I2z_sympy*(a*b*c/(d*e))+(1/8)*op.I3z_sympy*(a*b*c/(d*e))\n",
    "thermal_state = thermal_state.applyfunc(nsimplify)\n",
    "#thermal_state = thermal_state.applyfunc(Rational)\n",
    "display(thermal_state)\n",
    "# Display the Qobj matrix\n",
    "#print(\"The resulting Qobj matrix is:\")\n",
    "#print(qutip_matrix)"
   ],
   "outputs": [],
   "execution_count": null
  },
  {
   "cell_type": "code",
   "id": "cb5a67b0-3193-4c71-8f50-fb5c3c693dd0",
   "metadata": {},
   "source": [
    "deviation=thermal_state-(1/8)*op.identity_3_sympy"
   ],
   "outputs": [],
   "execution_count": null
  },
  {
   "cell_type": "code",
   "id": "abfa99d4-b1f7-4e6f-a133-95f289092d29",
   "metadata": {},
   "source": [
    "matrix_trace = thermal_state.trace()\n",
    "# Display the trace\n",
    "print(\"The trace of the matrix is:\")\n",
    "print(matrix_trace)"
   ],
   "outputs": [],
   "execution_count": null
  },
  {
   "cell_type": "code",
   "id": "ba50a793-2486-4586-9643-cd81f49c99c2",
   "metadata": {},
   "source": [
    "#visualize thermal state\n",
    "\n",
    "thermal_state1 = np.array(thermal_state).astype(np.complex128)\n",
    "thermal_state2 = Qobj(thermal_state1, dims=[[2, 2, 2], [2, 2, 2]], shape=(8, 8))   # Create the Qobj from the numerical matrix\n",
    "vis.plot_complex_density_matrix(thermal_state2)"
   ],
   "outputs": [],
   "execution_count": null
  },
  {
   "cell_type": "code",
   "id": "009d8ec2-fdc1-4aa4-9156-af3fe28611f3",
   "metadata": {
    "ExecuteTime": {
     "end_time": "2025-01-05T17:06:47.466465Z",
     "start_time": "2025-01-05T17:06:47.439495Z"
    }
   },
   "source": [
    "#visualize deviation\n",
    "\n",
    "deviation1 = np.array(deviation).astype(np.complex128)\n",
    "deviation2 = Qobj(deviation1, dims=[[2, 2, 2], [2, 2, 2]], shape=(8, 8))   # Create the Qobj from the numerical matrix\n",
    "vis.plot_complex_density_matrix(deviation2)"
   ],
   "outputs": [
    {
     "ename": "NameError",
     "evalue": "name 'deviation' is not defined",
     "output_type": "error",
     "traceback": [
      "\u001B[1;31m---------------------------------------------------------------------------\u001B[0m",
      "\u001B[1;31mNameError\u001B[0m                                 Traceback (most recent call last)",
      "Cell \u001B[1;32mIn[8], line 3\u001B[0m\n\u001B[0;32m      1\u001B[0m \u001B[38;5;66;03m#visualize deviation\u001B[39;00m\n\u001B[1;32m----> 3\u001B[0m deviation1 \u001B[38;5;241m=\u001B[39m np\u001B[38;5;241m.\u001B[39marray(deviation)\u001B[38;5;241m.\u001B[39mastype(np\u001B[38;5;241m.\u001B[39mcomplex128)\n\u001B[0;32m      4\u001B[0m deviation2 \u001B[38;5;241m=\u001B[39m Qobj(deviation1, dims\u001B[38;5;241m=\u001B[39m[[\u001B[38;5;241m2\u001B[39m, \u001B[38;5;241m2\u001B[39m, \u001B[38;5;241m2\u001B[39m], [\u001B[38;5;241m2\u001B[39m, \u001B[38;5;241m2\u001B[39m, \u001B[38;5;241m2\u001B[39m]], shape\u001B[38;5;241m=\u001B[39m(\u001B[38;5;241m8\u001B[39m, \u001B[38;5;241m8\u001B[39m))   \u001B[38;5;66;03m# Create the Qobj from the numerical matrix\u001B[39;00m\n\u001B[0;32m      5\u001B[0m vis\u001B[38;5;241m.\u001B[39mplot_complex_density_matrix(deviation2)\n",
      "\u001B[1;31mNameError\u001B[0m: name 'deviation' is not defined"
     ]
    }
   ],
   "execution_count": 8
  },
  {
   "cell_type": "code",
   "id": "3409675f-a0bf-4a29-9092-eb14c58ae029",
   "metadata": {
    "ExecuteTime": {
     "end_time": "2025-01-05T17:06:47.553546Z",
     "start_time": "2025-01-05T17:06:47.513843Z"
    }
   },
   "source": [
    "thermal_state=(1/8)*op.identity_3_sympy+(1/4)*op.I1z_sympy*(a*b*c/(d*e))+(1/4)*op.I2z_sympy*(a*b*c/(d*e))+(1/4)*op.I3z_sympy*(a*b*c/(d*e))\n",
    "display(thermal_state)\n",
    "thermal_state1 = np.array(thermal_state).astype(np.complex128)\n",
    "thermal_state2 = Qobj(thermal_state1, dims=[[2, 2, 2], [2, 2, 2]], shape=(8, 8)) \n",
    "vis.plot_complex_density_matrix(thermal_state2)\n",
    "deviation=thermal_state-(1/8)*op.identity_3_sympy\n",
    "display(deviation)\n",
    "deviation1 = np.array(deviation).astype(np.complex128)\n",
    "deviation2 = Qobj(deviation1, dims=[[2, 2, 2], [2, 2, 2]], shape=(8, 8)) \n",
    "vis.plot_complex_density_matrix(deviation2)"
   ],
   "outputs": [
    {
     "ename": "AttributeError",
     "evalue": "'ThreeSpinOperators' object has no attribute 'identity_3_sympy'",
     "output_type": "error",
     "traceback": [
      "\u001B[1;31m---------------------------------------------------------------------------\u001B[0m",
      "\u001B[1;31mAttributeError\u001B[0m                            Traceback (most recent call last)",
      "Cell \u001B[1;32mIn[9], line 1\u001B[0m\n\u001B[1;32m----> 1\u001B[0m thermal_state\u001B[38;5;241m=\u001B[39m(\u001B[38;5;241m1\u001B[39m\u001B[38;5;241m/\u001B[39m\u001B[38;5;241m8\u001B[39m)\u001B[38;5;241m*\u001B[39mop\u001B[38;5;241m.\u001B[39midentity_3_sympy\u001B[38;5;241m+\u001B[39m(\u001B[38;5;241m1\u001B[39m\u001B[38;5;241m/\u001B[39m\u001B[38;5;241m4\u001B[39m)\u001B[38;5;241m*\u001B[39mop\u001B[38;5;241m.\u001B[39mI1z_sympy\u001B[38;5;241m*\u001B[39m(a\u001B[38;5;241m*\u001B[39mb\u001B[38;5;241m*\u001B[39mc\u001B[38;5;241m/\u001B[39m(d\u001B[38;5;241m*\u001B[39me))\u001B[38;5;241m+\u001B[39m(\u001B[38;5;241m1\u001B[39m\u001B[38;5;241m/\u001B[39m\u001B[38;5;241m4\u001B[39m)\u001B[38;5;241m*\u001B[39mop\u001B[38;5;241m.\u001B[39mI2z_sympy\u001B[38;5;241m*\u001B[39m(a\u001B[38;5;241m*\u001B[39mb\u001B[38;5;241m*\u001B[39mc\u001B[38;5;241m/\u001B[39m(d\u001B[38;5;241m*\u001B[39me))\u001B[38;5;241m+\u001B[39m(\u001B[38;5;241m1\u001B[39m\u001B[38;5;241m/\u001B[39m\u001B[38;5;241m4\u001B[39m)\u001B[38;5;241m*\u001B[39mop\u001B[38;5;241m.\u001B[39mI3z_sympy\u001B[38;5;241m*\u001B[39m(a\u001B[38;5;241m*\u001B[39mb\u001B[38;5;241m*\u001B[39mc\u001B[38;5;241m/\u001B[39m(d\u001B[38;5;241m*\u001B[39me))\n\u001B[0;32m      2\u001B[0m display(thermal_state)\n\u001B[0;32m      3\u001B[0m thermal_state1 \u001B[38;5;241m=\u001B[39m np\u001B[38;5;241m.\u001B[39marray(thermal_state)\u001B[38;5;241m.\u001B[39mastype(np\u001B[38;5;241m.\u001B[39mcomplex128)\n",
      "\u001B[1;31mAttributeError\u001B[0m: 'ThreeSpinOperators' object has no attribute 'identity_3_sympy'"
     ]
    }
   ],
   "execution_count": 9
  },
  {
   "metadata": {
    "ExecuteTime": {
     "end_time": "2025-01-05T17:07:26.009334Z",
     "start_time": "2025-01-05T17:07:25.997158Z"
    }
   },
   "cell_type": "code",
   "source": "op.I1z",
   "id": "cafb7b9a0f34a53c",
   "outputs": [
    {
     "data": {
      "text/plain": [
       "Quantum object: dims=[[2, 2, 2], [2, 2, 2]], shape=(8, 8), type='oper', dtype=CSR, isherm=True\n",
       "Qobj data =\n",
       "[[ 0.5  0.   0.   0.   0.   0.   0.   0. ]\n",
       " [ 0.   0.5  0.   0.   0.   0.   0.   0. ]\n",
       " [ 0.   0.   0.5  0.   0.   0.   0.   0. ]\n",
       " [ 0.   0.   0.   0.5  0.   0.   0.   0. ]\n",
       " [ 0.   0.   0.   0.  -0.5  0.   0.   0. ]\n",
       " [ 0.   0.   0.   0.   0.  -0.5  0.   0. ]\n",
       " [ 0.   0.   0.   0.   0.   0.  -0.5  0. ]\n",
       " [ 0.   0.   0.   0.   0.   0.   0.  -0.5]]"
      ],
      "text/latex": "Quantum object: dims=[[2, 2, 2], [2, 2, 2]], shape=(8, 8), type='oper', dtype=CSR, isherm=True$$\\left(\\begin{array}{cc}0.500 & 0 & 0 & 0 & 0 & 0 & 0 & 0\\\\0 & 0.500 & 0 & 0 & 0 & 0 & 0 & 0\\\\0 & 0 & 0.500 & 0 & 0 & 0 & 0 & 0\\\\0 & 0 & 0 & 0.500 & 0 & 0 & 0 & 0\\\\0 & 0 & 0 & 0 & -0.500 & 0 & 0 & 0\\\\0 & 0 & 0 & 0 & 0 & -0.500 & 0 & 0\\\\0 & 0 & 0 & 0 & 0 & 0 & -0.500 & 0\\\\0 & 0 & 0 & 0 & 0 & 0 & 0 & -0.500\\end{array}\\right)$$"
     },
     "execution_count": 14,
     "metadata": {},
     "output_type": "execute_result"
    }
   ],
   "execution_count": 14
  }
 ],
 "metadata": {
  "kernelspec": {
   "display_name": "Python 3 (ipykernel)",
   "language": "python",
   "name": "python3"
  },
  "language_info": {
   "codemirror_mode": {
    "name": "ipython",
    "version": 3
   },
   "file_extension": ".py",
   "mimetype": "text/x-python",
   "name": "python",
   "nbconvert_exporter": "python",
   "pygments_lexer": "ipython3",
   "version": "3.11.7"
  }
 },
 "nbformat": 4,
 "nbformat_minor": 5
}

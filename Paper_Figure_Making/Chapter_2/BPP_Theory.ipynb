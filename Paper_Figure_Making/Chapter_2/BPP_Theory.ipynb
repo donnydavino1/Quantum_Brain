{
 "cells": [
  {
   "cell_type": "code",
   "id": "initial_id",
   "metadata": {
    "collapsed": true,
    "ExecuteTime": {
     "end_time": "2025-01-23T19:36:07.458132Z",
     "start_time": "2025-01-23T19:36:07.095338Z"
    }
   },
   "source": [
    "SFO1 = 202.4744410 * 10 ** 6\n",
    "SFO2 = 202.4751948 * 10 ** 6\n",
    "import numpy as np\n",
    "(SFO1-SFO2)**2*4*np.pi*((0.35)*10**(-11))**2 "
   ],
   "outputs": [
    {
     "data": {
      "text/plain": [
       "8.746981721078084e-17"
      ]
     },
     "execution_count": 1,
     "metadata": {},
     "output_type": "execute_result"
    }
   ],
   "execution_count": 1
  },
  {
   "metadata": {
    "ExecuteTime": {
     "end_time": "2025-01-23T19:37:09.014840Z",
     "start_time": "2025-01-23T19:37:09.002918Z"
    }
   },
   "cell_type": "code",
   "source": "(SFO1-SFO2)",
   "id": "3df5c071bca37497",
   "outputs": [
    {
     "data": {
      "text/plain": [
       "-753.8000000119209"
      ]
     },
     "execution_count": 2,
     "metadata": {},
     "output_type": "execute_result"
    }
   ],
   "execution_count": 2
  },
  {
   "metadata": {
    "ExecuteTime": {
     "end_time": "2025-01-23T20:07:20.106475Z",
     "start_time": "2025-01-23T20:07:20.100385Z"
    }
   },
   "cell_type": "code",
   "source": [
    "r=4e-10\n",
    "tau_c=0.35*10e-11\n",
    "gamma=1.083e8\n",
    "h=6.62607015e-34\n",
    "hbar=h/(2*np.pi)\n",
    "\n",
    "(10*r**6)/(9*tau_c*gamma**4*hbar**2)"
   ],
   "id": "20737aee82dc03e7",
   "outputs": [
    {
     "data": {
      "text/plain": [
       "8.499301697033044e-11"
      ]
     },
     "execution_count": 10,
     "metadata": {},
     "output_type": "execute_result"
    }
   ],
   "execution_count": 10
  },
  {
   "metadata": {
    "ExecuteTime": {
     "end_time": "2025-01-23T23:21:31.030582Z",
     "start_time": "2025-01-23T23:21:31.019246Z"
    }
   },
   "cell_type": "code",
   "source": "",
   "id": "b63621df90c48a71",
   "outputs": [
    {
     "name": "stdout",
     "output_type": "stream",
     "text": [
      "0.10107223563166387\n"
     ]
    },
    {
     "data": {
      "text/plain": [
       "9.89391392948194"
      ]
     },
     "execution_count": 179,
     "metadata": {},
     "output_type": "execute_result"
    }
   ],
   "execution_count": 179
  },
  {
   "metadata": {
    "ExecuteTime": {
     "end_time": "2025-01-23T22:25:47.958043Z",
     "start_time": "2025-01-23T22:25:47.951052Z"
    }
   },
   "cell_type": "code",
   "source": [
    "#cgs    centimeter, gram, second       erg, gauss\n",
    "# \n",
    "b=1.5e-8    #cm\n",
    "h=6.626196*10**(-27)    #erg*s\n",
    "hbar=h/(2*np.pi)\n",
    "\n",
    "tau_c=0.35*10e-11     #s\n",
    "\n",
    "gamma=2.675*10**4   #rad s-1 gauss-1\n",
    "#gamma=42.577478518*10**6/10000 #Hz/Gauss\n",
    "\n",
    "s_n1=(9*tau_c*(gamma**4)*(hbar**2))/(10*b**6)\n",
    "print(s_n1)\n",
    "s_n1**-1"
   ],
   "id": "f3610950e6bf58cf",
   "outputs": [
    {
     "name": "stdout",
     "output_type": "stream",
     "text": [
      "1.574805649513879\n"
     ]
    },
    {
     "data": {
      "text/plain": [
       "0.6349989919763663"
      ]
     },
     "execution_count": 164,
     "metadata": {},
     "output_type": "execute_result"
    }
   ],
   "execution_count": 164
  },
  {
   "metadata": {
    "ExecuteTime": {
     "end_time": "2025-01-23T22:26:40.247134Z",
     "start_time": "2025-01-23T22:26:40.242138Z"
    }
   },
   "cell_type": "code",
   "source": "1.57/(2*np.pi)",
   "id": "bda1bc97ede871cc",
   "outputs": [
    {
     "data": {
      "text/plain": [
       "0.2498732606542757"
      ]
     },
     "execution_count": 165,
     "metadata": {},
     "output_type": "execute_result"
    }
   ],
   "execution_count": 165
  },
  {
   "metadata": {
    "ExecuteTime": {
     "end_time": "2025-01-23T22:21:43.607520Z",
     "start_time": "2025-01-23T22:21:43.602640Z"
    }
   },
   "cell_type": "code",
   "source": [
    "#Formulas for physical laws of electromagnetism (such as Maxwell's equations) take a form that depends on which system of units is being used, because the electromagnetic quantities are defined differently in SI and in CGS. Furthermore, within CGS, there are several plausible ways to define electromagnetic quantities, leading to different \"sub-systems\", including Gaussian units, \"ESU\", \"EMU\", and Heaviside–Lorentz units. Among these choices, Gaussian units are the most common today[according to whom?], and \"CGS units\" is often intended to refer to CGS-Gaussian units[citation needed].\n",
    "\n"
   ],
   "id": "7976ab8a0d8f2406",
   "outputs": [
    {
     "data": {
      "text/plain": [
       "0.25510204081632654"
      ]
     },
     "execution_count": 153,
     "metadata": {},
     "output_type": "execute_result"
    }
   ],
   "execution_count": 153
  },
  {
   "metadata": {
    "ExecuteTime": {
     "end_time": "2025-01-23T22:47:44.500325Z",
     "start_time": "2025-01-23T22:47:44.492916Z"
    }
   },
   "cell_type": "code",
   "source": [
    "#cgs (GAUSS)   \n",
    "# \n",
    "b=1.5e-8    #cm\n",
    "tau_c=0.35*10e-11     #s\n",
    "\n",
    "\n",
    "h=6.626196*10**(-27)    #erg*s\n",
    "gamma=1.5*10**4   #rad s-1 gauss-1\n",
    "\n",
    "\n",
    "hbar=h/(2*np.pi)\n",
    "s_n1=(9*tau_c*(gamma**4)*(hbar**2))/(10*b**6)\n",
    "print(s_n1)\n",
    "s_n1**-1"
   ],
   "id": "abb0f3031329b8bf",
   "outputs": [
    {
     "name": "stdout",
     "output_type": "stream",
     "text": [
      "0.15570295501357123\n"
     ]
    },
    {
     "data": {
      "text/plain": [
       "6.422485687011136"
      ]
     },
     "execution_count": 168,
     "metadata": {},
     "output_type": "execute_result"
    }
   ],
   "execution_count": 168
  },
  {
   "metadata": {},
   "cell_type": "code",
   "outputs": [],
   "execution_count": null,
   "source": "esu vs gaussian vs emu",
   "id": "e7c452573c84db2f"
  },
  {
   "metadata": {
    "ExecuteTime": {
     "end_time": "2025-01-24T01:06:23.803416Z",
     "start_time": "2025-01-24T01:06:23.792272Z"
    }
   },
   "cell_type": "code",
   "source": "",
   "id": "f41b876582e28c6d",
   "outputs": [
    {
     "name": "stdout",
     "output_type": "stream",
     "text": [
      "0.06987849336879681\n"
     ]
    },
    {
     "data": {
      "text/plain": [
       "14.310554675561093"
      ]
     },
     "execution_count": 226,
     "metadata": {},
     "output_type": "execute_result"
    }
   ],
   "execution_count": 226
  },
  {
   "metadata": {
    "ExecuteTime": {
     "end_time": "2025-01-24T00:53:20.624539Z",
     "start_time": "2025-01-24T00:53:20.617698Z"
    }
   },
   "cell_type": "code",
   "source": [
    "#SI   gyro in paper\n",
    "b=1.5e-10    #m\n",
    "tau_c=0.35e-11     #s\n",
    "I=1/2\n",
    "\n",
    "mu_N=5.050783e-27 #J*T-1\n",
    "h=6.62607015e-34  #J*s\n",
    "mu_p=2.279285*mu_N\n",
    "\n",
    "gamma=(2*np.pi*mu_p)/(I*h)\n",
    "hbar=h/(2*np.pi)\n",
    "s_n1=(9*tau_c*(gamma**4)*(hbar**2))/(10*b**6)\n",
    "print(s_n1)\n",
    "s_n1**-1"
   ],
   "id": "63dbaa71f16a037e",
   "outputs": [
    {
     "name": "stdout",
     "output_type": "stream",
     "text": [
      "6988114782059.287\n"
     ]
    },
    {
     "data": {
      "text/plain": [
       "1.431001108578408e-13"
      ]
     },
     "execution_count": 218,
     "metadata": {},
     "output_type": "execute_result"
    }
   ],
   "execution_count": 218
  },
  {
   "metadata": {
    "ExecuteTime": {
     "end_time": "2025-01-24T00:55:22.289184Z",
     "start_time": "2025-01-24T00:55:22.282601Z"
    }
   },
   "cell_type": "code",
   "source": [
    "#SI   gyro on wiki\n",
    "b=1.5e-10    #m\n",
    "tau_c=0.35e-11     #s\n",
    "I=1/2\n",
    "\n",
    "mu_N=5.050783e-27 #J*T-1\n",
    "h=6.62607015e-34  #J*s\n",
    "hbar=h/(2*np.pi)\n",
    "mu_p=2.279285*mu_N\n",
    "\n",
    "gamma=(5.585*mu_N)/hbar\n",
    "\n",
    "s_n1=(9*tau_c*(gamma**4)*(hbar**2))/(10*b**6)\n",
    "print(s_n1)\n",
    "s_n1**-1"
   ],
   "id": "85a7a26fa954164b",
   "outputs": [
    {
     "name": "stdout",
     "output_type": "stream",
     "text": [
      "15744839116052.82\n"
     ]
    },
    {
     "data": {
      "text/plain": [
       "6.351287508428328e-14"
      ]
     },
     "execution_count": 219,
     "metadata": {},
     "output_type": "execute_result"
    }
   ],
   "execution_count": 219
  },
  {
   "metadata": {
    "ExecuteTime": {
     "end_time": "2025-01-24T01:19:08.956060Z",
     "start_time": "2025-01-24T01:19:08.948343Z"
    }
   },
   "cell_type": "code",
   "source": [
    "#cgs (GAUSS)   gyro in paper\n",
    "#The paper uses Gaussian CGS units, which are evident from the consistent references to quantities like magnetic fields in Gauss (G) and angular frequencies in radians per second (rad/s). \n",
    "# \n",
    "b=1.5e-8    #cm\n",
    "tau_c=0.35e-11     #s\n",
    "I=1/2\n",
    "\n",
    "h=6.626196e-27   #erg*s\n",
    "hbar=h/(2*np.pi)\n",
    "\n",
    "\n",
    "mu_N=5.050783e-24 #erg*G-1\n",
    "gamma=(5.585*mu_N)/(hbar)\n",
    "\n",
    "\n",
    "s_n1=(9*tau_c*(gamma**4)*(hbar**2))/(10*b**6)\n",
    "print(s_n1)\n",
    "s_n1**-1"
   ],
   "id": "8fa620ab5c54b0b2",
   "outputs": [
    {
     "name": "stdout",
     "output_type": "stream",
     "text": [
      "0.1574424104464482\n"
     ]
    },
    {
     "data": {
      "text/plain": [
       "6.351528772739006"
      ]
     },
     "execution_count": 246,
     "metadata": {},
     "output_type": "execute_result"
    }
   ],
   "execution_count": 246
  },
  {
   "metadata": {
    "ExecuteTime": {
     "end_time": "2025-01-24T01:20:08.882464Z",
     "start_time": "2025-01-24T01:20:08.878573Z"
    }
   },
   "cell_type": "code",
   "source": "gamma",
   "id": "90fecf767643f271",
   "outputs": [
    {
     "data": {
      "text/plain": [
       "26753.168925350034"
      ]
     },
     "execution_count": 249,
     "metadata": {},
     "output_type": "execute_result"
    }
   ],
   "execution_count": 249
  },
  {
   "metadata": {
    "ExecuteTime": {
     "end_time": "2025-01-24T01:19:09.442079Z",
     "start_time": "2025-01-24T01:19:09.437202Z"
    }
   },
   "cell_type": "code",
   "source": ".1574424104464482/.19",
   "id": "6dfb4661ee7f8724",
   "outputs": [
    {
     "data": {
      "text/plain": [
       "0.828644265507622"
      ]
     },
     "execution_count": 247,
     "metadata": {},
     "output_type": "execute_result"
    }
   ],
   "execution_count": 247
  },
  {
   "metadata": {
    "ExecuteTime": {
     "end_time": "2025-01-24T01:19:09.724587Z",
     "start_time": "2025-01-24T01:19:09.716785Z"
    }
   },
   "cell_type": "code",
   "source": [
    "#cgs (GAUSS)   gyro in paper\n",
    "#The paper uses Gaussian CGS units, which are evident from the consistent references to quantities like magnetic fields in Gauss (G) and angular frequencies in radians per second (rad/s). \n",
    "# \n",
    "b=1.5e-8    #cm\n",
    "tau_c=0.35e-11     #s\n",
    "I=1/2\n",
    "\n",
    "h=6.626196e-27   #erg*s\n",
    "hbar=h/(2*np.pi)\n",
    "\n",
    "\n",
    "mu_N=5.050783e-24 #erg*G-1\n",
    "mu_p=2.793*mu_N \n",
    "\n",
    "gamma=(2*np.pi*mu_p)/(I*h)\n",
    "\n",
    "s_n1=(9*tau_c*(gamma**4)*(hbar**2))/(10*b**6)\n",
    "print(s_n1)\n",
    "s_n1**-1"
   ],
   "id": "e3178583c7d52cdf",
   "outputs": [
    {
     "name": "stdout",
     "output_type": "stream",
     "text": [
      "0.15755520163773398\n"
     ]
    },
    {
     "data": {
      "text/plain": [
       "6.346981817200144"
      ]
     },
     "execution_count": 248,
     "metadata": {},
     "output_type": "execute_result"
    }
   ],
   "execution_count": 248
  },
  {
   "metadata": {
    "ExecuteTime": {
     "end_time": "2025-01-24T01:20:27.069275Z",
     "start_time": "2025-01-24T01:20:27.064122Z"
    }
   },
   "cell_type": "code",
   "source": "gamma",
   "id": "a4d4706350c62f0a",
   "outputs": [
    {
     "data": {
      "text/plain": [
       "26753.168925350034"
      ]
     },
     "execution_count": 250,
     "metadata": {},
     "output_type": "execute_result"
    }
   ],
   "execution_count": 250
  },
  {
   "metadata": {},
   "cell_type": "code",
   "outputs": [],
   "execution_count": null,
   "source": "",
   "id": "bc9cbba1a9e3a3cf"
  }
 ],
 "metadata": {
  "kernelspec": {
   "display_name": "Python 3",
   "language": "python",
   "name": "python3"
  },
  "language_info": {
   "codemirror_mode": {
    "name": "ipython",
    "version": 2
   },
   "file_extension": ".py",
   "mimetype": "text/x-python",
   "name": "python",
   "nbconvert_exporter": "python",
   "pygments_lexer": "ipython2",
   "version": "2.7.6"
  }
 },
 "nbformat": 4,
 "nbformat_minor": 5
}

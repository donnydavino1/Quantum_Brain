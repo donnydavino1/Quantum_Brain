{
 "cells": [
  {
   "cell_type": "code",
   "metadata": {
    "ExecuteTime": {
     "end_time": "2024-12-12T21:11:40.601264Z",
     "start_time": "2024-12-12T21:11:38.679573Z"
    }
   },
   "source": [
    "import os\n",
    "import pickle\n",
    "from statistics import median\n",
    "\n",
    "import matplotlib\n",
    "import matplotlib.pyplot as plt\n",
    "import numpy as np\n",
    "import qutip as qt\n",
    "import nmrglue as ng\n",
    "\n",
    "# import pulsee.simulation as sim\n",
    "\n",
    "# Determining the resolution of the plots for displaying & saving\n",
    "import tomography.operators as op\n",
    "import tomography.global_constants as glob\n",
    "import tomography.tomography_helper_functions as helper\n",
    "from tomography.coeff_groups_class import CoefficientGroups, clean_dm\n",
    "\n",
    "from tomography.plot_dm import plot_complex_density_matrix\n",
    "\n",
    "# commented out cuz it causes my computer to not plot anything:\n",
    "#%matplotlib notebook\n",
    "\n",
    "\n",
    "DPI_DISPLAY = glob.DPI_DISPLAY\n",
    "DPI_SAVE = glob.DPI_SAVE\n",
    "\n",
    "plt.rcParams['figure.dpi'] = DPI_DISPLAY\n",
    "plt.rcParams['font.family'] = ['Helvetica']\n",
    "\n",
    "\"\"\" This is to save plots as PDF with editable text (so that Adobe illustrator recognizes text) \"\"\"\n",
    "matplotlib.rcParams['pdf.fonttype'] = 42\n",
    "matplotlib.rcParams['ps.fonttype'] = 42"
   ],
   "outputs": [],
   "execution_count": 1
  },
  {
   "cell_type": "code",
   "source": [
    "FILE_TYPE = \"pdf\"\n",
    "FIGURE_FOLDER = f\"C:/Users/lemon/OneDrive - Brown University/CNOT project/Publication/images/tomography/{FILE_TYPE}\""
   ],
   "metadata": {
    "collapsed": false,
    "ExecuteTime": {
     "end_time": "2024-12-12T21:11:40.606836Z",
     "start_time": "2024-12-12T21:11:40.602288Z"
    }
   },
   "outputs": [],
   "execution_count": 2
  },
  {
   "cell_type": "markdown",
   "source": [
    "# Importing Data\n",
    "Rearranged folders (from Donny's usual format) so that both P1 and P2 files are in the same folder. This way I don't have to deal with separate \"P1\" and \"P2\" folders."
   ],
   "metadata": {
    "collapsed": false
   }
  },
  {
   "cell_type": "code",
   "source": [
    "p1_folder = \"0010_1_V6\"\n",
    "p2_folder = \"0010_2_V6\"\n",
    "Bruker_folders_path = \"C:/Users/lemon/OneDrive - Brown University/CNOT project/tomography/data/Bruker_folders/2024_02_28/\""
   ],
   "metadata": {
    "collapsed": false,
    "ExecuteTime": {
     "end_time": "2024-12-12T21:11:40.613522Z",
     "start_time": "2024-12-12T21:11:40.607843Z"
    }
   },
   "outputs": [],
   "execution_count": 3
  },
  {
   "cell_type": "markdown",
   "source": [
    "Making sure the folder names are sorted by increasing NUMBER value not string value (the difference matters when numbers are 1 digit vs 2 digits)"
   ],
   "metadata": {
    "collapsed": false
   }
  },
  {
   "cell_type": "code",
   "source": [
    "p1_folder_nums = os.listdir(f\"{Bruker_folders_path}/{p1_folder}\")\n",
    "p1_folder_nums = [str(s) for s in (sorted([int(x) for x in p1_folder_nums]))]\n",
    "p1_folder_nums"
   ],
   "metadata": {
    "collapsed": false,
    "ExecuteTime": {
     "end_time": "2024-12-12T21:11:40.624287Z",
     "start_time": "2024-12-12T21:11:40.614567Z"
    }
   },
   "outputs": [
    {
     "data": {
      "text/plain": [
       "['31', '32', '33', '34', '35', '36', '37']"
      ]
     },
     "execution_count": 4,
     "metadata": {},
     "output_type": "execute_result"
    }
   ],
   "execution_count": 4
  },
  {
   "cell_type": "code",
   "source": [
    "p2_folder_nums = os.listdir(f\"{Bruker_folders_path}/{p2_folder}\")\n",
    "p2_folder_nums = [str(s) for s in (sorted([int(x) for x in p2_folder_nums]))]\n",
    "p2_folder_nums"
   ],
   "metadata": {
    "collapsed": false,
    "ExecuteTime": {
     "end_time": "2024-12-12T21:11:40.631357Z",
     "start_time": "2024-12-12T21:11:40.625291Z"
    }
   },
   "outputs": [
    {
     "data": {
      "text/plain": [
       "['38', '39', '40', '41', '42', '43', '44']"
      ]
     },
     "execution_count": 5,
     "metadata": {},
     "output_type": "execute_result"
    }
   ],
   "execution_count": 5
  },
  {
   "cell_type": "code",
   "source": [
    "def get_folder_path(p_type, fn):\n",
    "    if p_type == 'p1':\n",
    "        return f\"{Bruker_folders_path}/{p1_folder}/{fn}/pdata/1\"\n",
    "    elif p_type == 'p2':\n",
    "        return f\"{Bruker_folders_path}/{p2_folder}/{fn}/pdata/1\"\n",
    "    else:\n",
    "        raise\n",
    "\n",
    "    # all_components=True to get both the real & imaginary spectra\n",
    "\n",
    "\n",
    "all_data = []\n",
    "for folder_num in p1_folder_nums:\n",
    "    all_data.append(ng.bruker.read_pdata(get_folder_path('p1', folder_num), all_components=True)[1])\n",
    "\n",
    "for folder_num in p2_folder_nums:\n",
    "    all_data.append(ng.bruker.read_pdata(get_folder_path('p2', folder_num), all_components=True)[1])\n",
    "\n",
    "all_data = np.array(all_data)"
   ],
   "metadata": {
    "collapsed": false,
    "ExecuteTime": {
     "end_time": "2024-12-12T21:11:40.830277Z",
     "start_time": "2024-12-12T21:11:40.634587Z"
    }
   },
   "outputs": [],
   "execution_count": 6
  },
  {
   "cell_type": "code",
   "source": [
    "all_raw_spectra = []\n",
    "for real, imag in all_data:\n",
    "    all_raw_spectra.append(real)\n",
    "    all_raw_spectra.append(imag)\n",
    "\n",
    "all_raw_spectra = np.array(all_raw_spectra)\n",
    "all_raw_spectra.shape"
   ],
   "metadata": {
    "collapsed": false,
    "ExecuteTime": {
     "end_time": "2024-12-12T21:11:40.865420Z",
     "start_time": "2024-12-12T21:11:40.832286Z"
    }
   },
   "outputs": [
    {
     "data": {
      "text/plain": [
       "(28, 524288)"
      ]
     },
     "execution_count": 7,
     "metadata": {},
     "output_type": "execute_result"
    }
   ],
   "execution_count": 7
  },
  {
   "cell_type": "markdown",
   "source": [
    "Flip the frequency axis"
   ],
   "metadata": {
    "collapsed": false
   }
  },
  {
   "cell_type": "code",
   "source": [
    "all_spectra_unphased = np.flip(all_raw_spectra, axis=1)"
   ],
   "metadata": {
    "collapsed": false,
    "ExecuteTime": {
     "end_time": "2024-12-12T21:11:40.872359Z",
     "start_time": "2024-12-12T21:11:40.867417Z"
    }
   },
   "outputs": [],
   "execution_count": 8
  },
  {
   "cell_type": "markdown",
   "metadata": {},
   "source": [
    "# Calculating the frequency axis for the spectrum\n",
    "All data in below cell is from Donny's email & Bruker plots\n",
    "\n",
    "According to Bruker's software, the middle of the spectrum should be the experimental larmor frequency (with chemical shift included), and we can set this to 0 Hz. In other words, the frequency axis range is: (-spectrum_width/2, spectrum/2), with 0 in the middle, and left peak should occur at -$J$ and right peak at $J$"
   ]
  },
  {
   "cell_type": "markdown",
   "source": [
    "All relevant parameters for this measurement:"
   ],
   "metadata": {
    "collapsed": false
   }
  },
  {
   "cell_type": "code",
   "source": [
    "# Actually relevant:\n",
    "SPECTRUM_WIDTH = 242.813  #Spectral Width Hertz\n",
    "BF1 = 242.9532690e6  #BF1 is the basic transmitter frequency. Effectively it is the reference freq. (Levitt pg. 53)\n",
    "SFO1 = 242.9516108e6  #SFO1 is the transmitter frequency\n",
    "SF = BF1  #SF is interpreted by display and plot routines for generating the axis (scale) calibration in Bruker (Bruker data graphs SF as the center). Ideally this SF=BF1, as this is the convention in our paper. \n",
    "\n",
    "freqs = np.linspace(-SPECTRUM_WIDTH / 2, SPECTRUM_WIDTH / 2, all_spectra_unphased.shape[1])\n",
    "\n",
    "J = 22.22  # Hz\n",
    "L_FREQ = -J / 2\n",
    "R_FREQ = J / 2\n",
    "\n",
    "# probably won't need...?\n",
    "SFO2 = 242.9507187e6\n",
    "bruker_offset = -1658.16\n",
    "QA = 0.3998008\n",
    "\n",
    "B_0 = 14.0921  # Tesla\n",
    "TEMP = 310  # Kelvin"
   ],
   "metadata": {
    "collapsed": false,
    "ExecuteTime": {
     "end_time": "2024-12-12T21:11:40.882836Z",
     "start_time": "2024-12-12T21:11:40.873514Z"
    }
   },
   "outputs": [],
   "execution_count": 9
  },
  {
   "cell_type": "markdown",
   "metadata": {},
   "source": [
    "# Doing a 90 degree global phase shift on our plots\n",
    "Our receiver phase was set to -y, but our theory appears to set the receiver phase to +x\n",
    "I also put a negative in front of the imaginary spectra because the relationship between the peak phases between the real & imaginary spectra does not line up with the standard theory (Levitt pg 103).\n",
    "It appears that we need to multiply -1 to our imaginary spectra to agree with the theory. Seems a bit sketchy but works"
   ]
  },
  {
   "cell_type": "code",
   "source": [
    "complex_spectra = []\n",
    "for i in range(0, len(all_spectra_unphased), 2):\n",
    "    real = all_spectra_unphased[i]\n",
    "    imag = all_spectra_unphased[i + 1]\n",
    "    complex_spectra.append(real - 1j * imag)  # MULTIPLYING -1 TO IMAGINARY SPECTRA\n",
    "\n",
    "complex_spectra = np.array(complex_spectra)\n",
    "complex_spectra_transformed = complex_spectra * np.exp(1j * np.pi / 2)\n",
    "\n",
    "all_spectra_transformed = []\n",
    "for spectrum in complex_spectra_transformed:\n",
    "    all_spectra_transformed.append(spectrum.real)\n",
    "    all_spectra_transformed.append(spectrum.imag)\n",
    "\n",
    "all_spectra = np.array(all_spectra_transformed)"
   ],
   "metadata": {
    "collapsed": false,
    "ExecuteTime": {
     "end_time": "2024-12-12T21:11:41.113232Z",
     "start_time": "2024-12-12T21:11:40.883878Z"
    }
   },
   "outputs": [],
   "execution_count": 10
  },
  {
   "cell_type": "code",
   "source": [
    "SFO1_centered_x_axis = np.linspace(SFO1 + SPECTRUM_WIDTH / 2, SFO1 - SPECTRUM_WIDTH / 2,\n",
    "                                   len(freqs))  #SFO1 is center of spectrum\n",
    "SF_centered_x_axis = np.linspace(SF + SPECTRUM_WIDTH / 2, SF - SPECTRUM_WIDTH / 2,\n",
    "                                 len(freqs))  #SF is center of spectrum\n",
    "BF1_centered_x_axis = np.linspace(BF1 + SPECTRUM_WIDTH / 2, BF1 - SPECTRUM_WIDTH / 2,\n",
    "                                  len(freqs))  #BF1 is center of spectrum\n",
    "\n",
    "#We want to form an x-axis where these are centered at 0\n",
    "freqs_zero_centered = SFO1_centered_x_axis - median(SFO1_centered_x_axis)\n",
    "freqs_bruker = freqs_zero_centered - (\n",
    "            median(SF_centered_x_axis) - median(SFO1_centered_x_axis))  #SF is centered, this is how Bruker graphs data\n",
    "new_freqs = freqs_zero_centered - (median(BF1_centered_x_axis) - median(\n",
    "    SFO1_centered_x_axis))  #Data centered with BF1=0, This is how we will do it in the paper"
   ],
   "metadata": {
    "collapsed": false,
    "ExecuteTime": {
     "end_time": "2024-12-12T21:11:41.339522Z",
     "start_time": "2024-12-12T21:11:41.116247Z"
    }
   },
   "outputs": [],
   "execution_count": 11
  },
  {
   "cell_type": "code",
   "source": [
    "median(freqs_bruker)"
   ],
   "metadata": {
    "collapsed": false,
    "ExecuteTime": {
     "end_time": "2024-12-12T21:11:41.375997Z",
     "start_time": "2024-12-12T21:11:41.339522Z"
    }
   },
   "outputs": [
    {
     "data": {
      "text/plain": [
       "-1658.199999988079"
      ]
     },
     "execution_count": 12,
     "metadata": {},
     "output_type": "execute_result"
    }
   ],
   "execution_count": 12
  },
  {
   "cell_type": "code",
   "source": [
    "median(new_freqs)"
   ],
   "metadata": {
    "collapsed": false,
    "ExecuteTime": {
     "end_time": "2024-12-12T21:11:41.474383Z",
     "start_time": "2024-12-12T21:11:41.375997Z"
    }
   },
   "outputs": [
    {
     "data": {
      "text/plain": [
       "-1658.199999988079"
      ]
     },
     "execution_count": 13,
     "metadata": {},
     "output_type": "execute_result"
    }
   ],
   "execution_count": 13
  },
  {
   "cell_type": "code",
   "source": [
    "freqs"
   ],
   "metadata": {
    "collapsed": false,
    "ExecuteTime": {
     "end_time": "2024-12-12T21:11:41.483924Z",
     "start_time": "2024-12-12T21:11:41.476664Z"
    }
   },
   "outputs": [
    {
     "data": {
      "text/plain": [
       "array([-121.4065    , -121.40603687, -121.40557374, ...,  121.40557374,\n",
       "        121.40603687,  121.4065    ])"
      ]
     },
     "execution_count": 14,
     "metadata": {},
     "output_type": "execute_result"
    }
   ],
   "execution_count": 14
  },
  {
   "cell_type": "code",
   "source": [
    "SFO1_centered_x_axis = np.linspace(SFO1 + SPECTRUM_WIDTH / 2, SFO1 - SPECTRUM_WIDTH / 2,\n",
    "                                   len(freqs))  #SFO1 is center of spectrum\n",
    "SF_centered_x_axis = np.linspace(SF + SPECTRUM_WIDTH / 2, SF - SPECTRUM_WIDTH / 2,\n",
    "                                 len(freqs))  #SF is center of spectrum\n",
    "BF1_centered_x_axis = np.linspace(BF1 + SPECTRUM_WIDTH / 2, BF1 - SPECTRUM_WIDTH / 2,\n",
    "                                  len(freqs))  #BF1 is center of spectrum\n",
    "\n",
    "#We want to form an x-axis where these are centered at 0\n",
    "freqs_zero_centered = SFO1_centered_x_axis - SFO1\n",
    "freqs_bruker = SFO1_centered_x_axis - SF  #SF is centered, this is how Bruker graphs data\n",
    "new_freqs = freqs_zero_centered + SFO1 - BF1  #Data centered with BF1=0, This is how we will do it in the paper"
   ],
   "metadata": {
    "collapsed": false,
    "ExecuteTime": {
     "end_time": "2024-12-12T21:11:41.504090Z",
     "start_time": "2024-12-12T21:11:41.485778Z"
    }
   },
   "outputs": [],
   "execution_count": 15
  },
  {
   "cell_type": "markdown",
   "source": [
    "`freqs_bruker` and `new_freqs` are identical!\n",
    "\n",
    "Flipping `new_freqs` so it's increasing"
   ],
   "metadata": {
    "collapsed": false
   }
  },
  {
   "cell_type": "code",
   "source": [
    "new_freqs = np.flip(new_freqs)"
   ],
   "metadata": {
    "collapsed": false,
    "ExecuteTime": {
     "end_time": "2024-12-12T21:11:41.509917Z",
     "start_time": "2024-12-12T21:11:41.505237Z"
    }
   },
   "outputs": [],
   "execution_count": 16
  },
  {
   "cell_type": "code",
   "source": [
    "def hz_to_ppm(x):  #transform\n",
    "    return (x / BF1) * 1E6\n",
    "\n",
    "\n",
    "def ppm_to_hz(x):  #inverse transform\n",
    "    return x * 1E-6 * BF1"
   ],
   "metadata": {
    "collapsed": false,
    "ExecuteTime": {
     "end_time": "2024-12-12T21:11:41.514924Z",
     "start_time": "2024-12-12T21:11:41.511184Z"
    }
   },
   "outputs": [],
   "execution_count": 17
  },
  {
   "cell_type": "code",
   "source": [
    "def khz_to_ppm(x):\n",
    "    return hz_to_ppm(x) * 1000\n",
    "\n",
    "\n",
    "def ppm_to_khz(x):\n",
    "    return ppm_to_hz(x) / 1000"
   ],
   "metadata": {
    "collapsed": false,
    "ExecuteTime": {
     "end_time": "2024-12-12T21:11:41.523470Z",
     "start_time": "2024-12-12T21:11:41.515932Z"
    }
   },
   "outputs": [],
   "execution_count": 18
  },
  {
   "cell_type": "code",
   "source": [
    "# spectrum = all_spectra[12] * 1e-8\n",
    "# \n",
    "# fig, ax = plt.subplots(constrained_layout=True)\n",
    "# \n",
    "# ax.plot(new_freqs, spectrum, color='black')\n",
    "# ax.set_xlabel('Offset Frequency (Hz)')\n",
    "# ax.set_ylabel('Signal (a.u.)')\n",
    "# ax.set_title('Spectrum Paper Calibrated')\n",
    "# secax = ax.secondary_xaxis('top', functions=(hz_to_ppm, ppm_to_hz), color='black')\n",
    "# secax.set_xlabel('Offset Frequency (PPM)', color='black')\n",
    "# \n",
    "# ax.spines['top'].set_color('black')\n",
    "# ax.spines['bottom'].set_color('black')\n",
    "# ax.xaxis.label.set_color('black')\n",
    "# \n",
    "# secax.tick_params(direction='in', axis='x', colors='black')\n",
    "# ax.tick_params(direction='in', axis='x', colors='black')\n",
    "# ax.tick_params(direction='in', axis='y', colors='black')\n",
    "# \n",
    "# ax.fill_between(new_freqs, spectrum, color='#334c80')\n",
    "# ax.fill_between(new_freqs, spectrum, where=new_freqs > -2578,\n",
    "#                 color='#759ebc')\n",
    "# \n",
    "# ax.fill_between(new_freqs, spectrum, where=new_freqs > -2200,\n",
    "#                 color='#9c4629')\n",
    "# ax.fill_between(new_freqs, spectrum, where=new_freqs > -1649,\n",
    "#                 color='#6f1d20')\n",
    "# \n",
    "# #plt.ticklabel_format(style='plain', axis='x', scilimits=(0,0), useOffset=+2.4295e8)\n",
    "# # ax.xaxis.get_offset_text().set_fontsize(16)\n",
    "# ax.xaxis.set_tick_params()\n",
    "# ax.yaxis.set_tick_params()\n",
    "# secax.xaxis.set_tick_params()\n",
    "# #Force the y-axis ticks to use 1e-9 as a base exponent \n",
    "# #ax.xaxis.set_major_formatter(FuncFormatter(lambda x, pos: ('%.1f')%(x*1e-8)))\n",
    "# \n",
    "# \n",
    "# # plt.xlim(-2900, -1250)\n",
    "# #plt.ylim(-.1 , 4)\n",
    "# \n",
    "# \n",
    "# plt.show()"
   ],
   "metadata": {
    "collapsed": false,
    "ExecuteTime": {
     "end_time": "2024-12-12T21:11:41.528320Z",
     "start_time": "2024-12-12T21:11:41.525595Z"
    }
   },
   "outputs": [],
   "execution_count": 19
  },
  {
   "cell_type": "markdown",
   "source": [
    "# Plots for Publication!!\n",
    "Adding a offset to the center by eye, since the doublet isn't exactly centered at the median of the frequency."
   ],
   "metadata": {
    "collapsed": false
   }
  },
  {
   "cell_type": "code",
   "source": [
    "EYEBALL_OFFSET = 5.3\n",
    "new_center = median(new_freqs) + EYEBALL_OFFSET\n",
    "\n",
    "J = 22.22  # Hz\n",
    "L_FREQ = new_center - J / 2\n",
    "R_FREQ = new_center + J / 2\n"
   ],
   "metadata": {
    "collapsed": false,
    "ExecuteTime": {
     "end_time": "2024-12-12T21:11:41.574402Z",
     "start_time": "2024-12-12T21:11:41.529401Z"
    }
   },
   "outputs": [],
   "execution_count": 20
  },
  {
   "cell_type": "markdown",
   "source": [
    "Converting Hz into kHz"
   ],
   "metadata": {
    "collapsed": false
   }
  },
  {
   "cell_type": "code",
   "source": [
    "new_freqs = new_freqs / 1000\n",
    "int_width = J / 1000\n",
    "new_center = new_center / 1000\n",
    "l_center = L_FREQ / 1000\n",
    "r_center = R_FREQ / 1000"
   ],
   "metadata": {
    "collapsed": false,
    "ExecuteTime": {
     "end_time": "2024-12-12T21:11:41.581538Z",
     "start_time": "2024-12-12T21:11:41.575533Z"
    }
   },
   "outputs": [],
   "execution_count": 21
  },
  {
   "cell_type": "code",
   "source": [
    "spectrum = all_spectra[12] * -1e-4  # multiplying negative so the spectrum shows positive y values\n",
    "LABEL_SIZE = 20\n",
    "\n",
    "fig, ax = plt.subplots(figsize=(8, 6))\n",
    "# ax.set_title(\"NMR spectrum of Q1: Pulse X1X2, imaginary part\", fontsize=16)\n",
    "ax.set_xlabel(\"$\\omega - \\omega_0$ (kHz)\", fontsize=LABEL_SIZE)\n",
    "ax.set_ylabel(\"Signal (a.u.)\", fontsize=LABEL_SIZE)\n",
    "\n",
    "ax.plot(new_freqs, spectrum, color='black')\n",
    "ax.set_xlim(new_center - 25 / 1000, new_center + 30 / 1000)\n",
    "ax.set_ylim(0, 5.5)\n",
    "\n",
    "# centers verified by eyeballing vertical lines\n",
    "i_l_lo = np.absolute(new_freqs - (l_center - int_width / 2)).argmin()\n",
    "i_l_hi = np.absolute(new_freqs - (l_center + int_width / 2)).argmin()\n",
    "i_r_lo = np.absolute(new_freqs - (r_center - int_width / 2)).argmin()\n",
    "i_r_hi = np.absolute(new_freqs - (r_center + int_width / 2)).argmin()\n",
    "\n",
    "ax.fill_between(new_freqs[i_l_lo: i_l_hi], spectrum[i_l_lo: i_l_hi], color=glob.Q1_L_COLOR)\n",
    "# Adjusting left & right fill limits of the right peak, so fill doesn't go below x axis.\n",
    "fill_adjust = (0, 30000)\n",
    "ax.fill_between(new_freqs[i_r_lo + fill_adjust[0]: i_r_hi + fill_adjust[1]],\n",
    "                spectrum[i_r_lo + fill_adjust[0]: i_r_hi + fill_adjust[1]], color=glob.Q1_R_COLOR)\n",
    "\n",
    "# setting the second x-axis at the top\n",
    "sec_ax = ax.secondary_xaxis('top', functions=(khz_to_ppm, ppm_to_khz))\n",
    "sec_ax.set_xlabel('Chemical Shift (ppm)', fontsize=LABEL_SIZE, labelpad=10)\n",
    "# sec_ax.xaxis.set_label_coords(1.02, 0.9)\n",
    "# sec_ax.xaxis.set_label_coords(1.02, 20)\n",
    "\n",
    "\n",
    "# making axis tick labels smaller\n",
    "\n",
    "ax.tick_params(axis='both', which='major', direction='in', labelsize=LABEL_SIZE, width=1.5, length=5)\n",
    "sec_ax.tick_params(axis='both', which='major', direction='in', labelsize=LABEL_SIZE, width=1.5, length=5)\n",
    "# sec_ax.set_xticks(sec_ax.get_xticks()[::2])\n",
    "# ax.tick_params(axis='both', which='minor', labelsize=1)\n",
    "\n",
    "# ax.grid() # Get rid of grid, since publications don't like them?\n",
    "# ax.axvline(L_FREQ, color='r', alpha=0.5)\n",
    "# ax.axvline(R_FREQ, color='r', alpha=0.5)\n",
    "# ax.axvline(new_center, color='orange', alpha=0.5)\n",
    "\n",
    "\n",
    "plt.savefig(f\"{FIGURE_FOLDER}/spectrum_8_6_tight.pdf\", transparent=True, dpi=DPI_SAVE, bbox_inches='tight')"
   ],
   "metadata": {
    "collapsed": false,
    "ExecuteTime": {
     "end_time": "2024-12-12T21:11:45.869492Z",
     "start_time": "2024-12-12T21:11:41.582698Z"
    }
   },
   "outputs": [
    {
     "name": "stderr",
     "output_type": "stream",
     "text": [
      "findfont: Font family ['STIXSizeTwoSym'] not found. Falling back to DejaVu Sans.\n",
      "findfont: Font family ['STIXSizeThreeSym'] not found. Falling back to DejaVu Sans.\n",
      "findfont: Font family ['cmsy10'] not found. Falling back to DejaVu Sans.\n",
      "findfont: Font family ['cmr10'] not found. Falling back to DejaVu Sans.\n",
      "findfont: Font family ['cmtt10'] not found. Falling back to DejaVu Sans.\n",
      "findfont: Font family ['cmmi10'] not found. Falling back to DejaVu Sans.\n",
      "findfont: Font family ['cmb10'] not found. Falling back to DejaVu Sans.\n",
      "findfont: Font family ['cmss10'] not found. Falling back to DejaVu Sans.\n",
      "findfont: Font family ['cmex10'] not found. Falling back to DejaVu Sans.\n",
      "findfont: Font family ['DejaVu Sans Mono'] not found. Falling back to DejaVu Sans.\n"
     ]
    },
    {
     "ename": "FileNotFoundError",
     "evalue": "[Errno 2] No such file or directory: 'C:/Users/lemon/OneDrive - Brown University/CNOT project/Publication/images/tomography/pdf/spectrum_8_6_tight.pdf'",
     "output_type": "error",
     "traceback": [
      "\u001B[1;31m---------------------------------------------------------------------------\u001B[0m",
      "\u001B[1;31mFileNotFoundError\u001B[0m                         Traceback (most recent call last)",
      "Cell \u001B[1;32mIn[22], line 45\u001B[0m\n\u001B[0;32m     35\u001B[0m sec_ax\u001B[38;5;241m.\u001B[39mtick_params(axis\u001B[38;5;241m=\u001B[39m\u001B[38;5;124m'\u001B[39m\u001B[38;5;124mboth\u001B[39m\u001B[38;5;124m'\u001B[39m, which\u001B[38;5;241m=\u001B[39m\u001B[38;5;124m'\u001B[39m\u001B[38;5;124mmajor\u001B[39m\u001B[38;5;124m'\u001B[39m, direction\u001B[38;5;241m=\u001B[39m\u001B[38;5;124m'\u001B[39m\u001B[38;5;124min\u001B[39m\u001B[38;5;124m'\u001B[39m, labelsize\u001B[38;5;241m=\u001B[39mLABEL_SIZE, width\u001B[38;5;241m=\u001B[39m\u001B[38;5;241m1.5\u001B[39m, length\u001B[38;5;241m=\u001B[39m\u001B[38;5;241m5\u001B[39m)\n\u001B[0;32m     36\u001B[0m \u001B[38;5;66;03m# sec_ax.set_xticks(sec_ax.get_xticks()[::2])\u001B[39;00m\n\u001B[0;32m     37\u001B[0m \u001B[38;5;66;03m# ax.tick_params(axis='both', which='minor', labelsize=1)\u001B[39;00m\n\u001B[0;32m     38\u001B[0m \n\u001B[1;32m   (...)\u001B[0m\n\u001B[0;32m     41\u001B[0m \u001B[38;5;66;03m# ax.axvline(R_FREQ, color='r', alpha=0.5)\u001B[39;00m\n\u001B[0;32m     42\u001B[0m \u001B[38;5;66;03m# ax.axvline(new_center, color='orange', alpha=0.5)\u001B[39;00m\n\u001B[1;32m---> 45\u001B[0m plt\u001B[38;5;241m.\u001B[39msavefig(\u001B[38;5;124mf\u001B[39m\u001B[38;5;124m\"\u001B[39m\u001B[38;5;132;01m{\u001B[39;00mFIGURE_FOLDER\u001B[38;5;132;01m}\u001B[39;00m\u001B[38;5;124m/spectrum_8_6_tight.pdf\u001B[39m\u001B[38;5;124m\"\u001B[39m, transparent\u001B[38;5;241m=\u001B[39m\u001B[38;5;28;01mTrue\u001B[39;00m, dpi\u001B[38;5;241m=\u001B[39mDPI_SAVE, bbox_inches\u001B[38;5;241m=\u001B[39m\u001B[38;5;124m'\u001B[39m\u001B[38;5;124mtight\u001B[39m\u001B[38;5;124m'\u001B[39m)\n",
      "File \u001B[1;32m~\\anaconda3\\envs\\pulsee_env\\Lib\\site-packages\\matplotlib\\pyplot.py:1228\u001B[0m, in \u001B[0;36msavefig\u001B[1;34m(*args, **kwargs)\u001B[0m\n\u001B[0;32m   1225\u001B[0m fig \u001B[38;5;241m=\u001B[39m gcf()\n\u001B[0;32m   1226\u001B[0m \u001B[38;5;66;03m# savefig default implementation has no return, so mypy is unhappy\u001B[39;00m\n\u001B[0;32m   1227\u001B[0m \u001B[38;5;66;03m# presumably this is here because subclasses can return?\u001B[39;00m\n\u001B[1;32m-> 1228\u001B[0m res \u001B[38;5;241m=\u001B[39m fig\u001B[38;5;241m.\u001B[39msavefig(\u001B[38;5;241m*\u001B[39margs, \u001B[38;5;241m*\u001B[39m\u001B[38;5;241m*\u001B[39mkwargs)  \u001B[38;5;66;03m# type: ignore[func-returns-value]\u001B[39;00m\n\u001B[0;32m   1229\u001B[0m fig\u001B[38;5;241m.\u001B[39mcanvas\u001B[38;5;241m.\u001B[39mdraw_idle()  \u001B[38;5;66;03m# Need this if 'transparent=True', to reset colors.\u001B[39;00m\n\u001B[0;32m   1230\u001B[0m \u001B[38;5;28;01mreturn\u001B[39;00m res\n",
      "File \u001B[1;32m~\\anaconda3\\envs\\pulsee_env\\Lib\\site-packages\\matplotlib\\figure.py:3395\u001B[0m, in \u001B[0;36mFigure.savefig\u001B[1;34m(self, fname, transparent, **kwargs)\u001B[0m\n\u001B[0;32m   3393\u001B[0m     \u001B[38;5;28;01mfor\u001B[39;00m ax \u001B[38;5;129;01min\u001B[39;00m \u001B[38;5;28mself\u001B[39m\u001B[38;5;241m.\u001B[39maxes:\n\u001B[0;32m   3394\u001B[0m         _recursively_make_axes_transparent(stack, ax)\n\u001B[1;32m-> 3395\u001B[0m \u001B[38;5;28mself\u001B[39m\u001B[38;5;241m.\u001B[39mcanvas\u001B[38;5;241m.\u001B[39mprint_figure(fname, \u001B[38;5;241m*\u001B[39m\u001B[38;5;241m*\u001B[39mkwargs)\n",
      "File \u001B[1;32m~\\anaconda3\\envs\\pulsee_env\\Lib\\site-packages\\matplotlib\\backend_bases.py:2204\u001B[0m, in \u001B[0;36mFigureCanvasBase.print_figure\u001B[1;34m(self, filename, dpi, facecolor, edgecolor, orientation, format, bbox_inches, pad_inches, bbox_extra_artists, backend, **kwargs)\u001B[0m\n\u001B[0;32m   2200\u001B[0m \u001B[38;5;28;01mtry\u001B[39;00m:\n\u001B[0;32m   2201\u001B[0m     \u001B[38;5;66;03m# _get_renderer may change the figure dpi (as vector formats\u001B[39;00m\n\u001B[0;32m   2202\u001B[0m     \u001B[38;5;66;03m# force the figure dpi to 72), so we need to set it again here.\u001B[39;00m\n\u001B[0;32m   2203\u001B[0m     \u001B[38;5;28;01mwith\u001B[39;00m cbook\u001B[38;5;241m.\u001B[39m_setattr_cm(\u001B[38;5;28mself\u001B[39m\u001B[38;5;241m.\u001B[39mfigure, dpi\u001B[38;5;241m=\u001B[39mdpi):\n\u001B[1;32m-> 2204\u001B[0m         result \u001B[38;5;241m=\u001B[39m print_method(\n\u001B[0;32m   2205\u001B[0m             filename,\n\u001B[0;32m   2206\u001B[0m             facecolor\u001B[38;5;241m=\u001B[39mfacecolor,\n\u001B[0;32m   2207\u001B[0m             edgecolor\u001B[38;5;241m=\u001B[39medgecolor,\n\u001B[0;32m   2208\u001B[0m             orientation\u001B[38;5;241m=\u001B[39morientation,\n\u001B[0;32m   2209\u001B[0m             bbox_inches_restore\u001B[38;5;241m=\u001B[39m_bbox_inches_restore,\n\u001B[0;32m   2210\u001B[0m             \u001B[38;5;241m*\u001B[39m\u001B[38;5;241m*\u001B[39mkwargs)\n\u001B[0;32m   2211\u001B[0m \u001B[38;5;28;01mfinally\u001B[39;00m:\n\u001B[0;32m   2212\u001B[0m     \u001B[38;5;28;01mif\u001B[39;00m bbox_inches \u001B[38;5;129;01mand\u001B[39;00m restore_bbox:\n",
      "File \u001B[1;32m~\\anaconda3\\envs\\pulsee_env\\Lib\\site-packages\\matplotlib\\backend_bases.py:2054\u001B[0m, in \u001B[0;36mFigureCanvasBase._switch_canvas_and_return_print_method.<locals>.<lambda>\u001B[1;34m(*args, **kwargs)\u001B[0m\n\u001B[0;32m   2050\u001B[0m     optional_kws \u001B[38;5;241m=\u001B[39m {  \u001B[38;5;66;03m# Passed by print_figure for other renderers.\u001B[39;00m\n\u001B[0;32m   2051\u001B[0m         \u001B[38;5;124m\"\u001B[39m\u001B[38;5;124mdpi\u001B[39m\u001B[38;5;124m\"\u001B[39m, \u001B[38;5;124m\"\u001B[39m\u001B[38;5;124mfacecolor\u001B[39m\u001B[38;5;124m\"\u001B[39m, \u001B[38;5;124m\"\u001B[39m\u001B[38;5;124medgecolor\u001B[39m\u001B[38;5;124m\"\u001B[39m, \u001B[38;5;124m\"\u001B[39m\u001B[38;5;124morientation\u001B[39m\u001B[38;5;124m\"\u001B[39m,\n\u001B[0;32m   2052\u001B[0m         \u001B[38;5;124m\"\u001B[39m\u001B[38;5;124mbbox_inches_restore\u001B[39m\u001B[38;5;124m\"\u001B[39m}\n\u001B[0;32m   2053\u001B[0m     skip \u001B[38;5;241m=\u001B[39m optional_kws \u001B[38;5;241m-\u001B[39m {\u001B[38;5;241m*\u001B[39minspect\u001B[38;5;241m.\u001B[39msignature(meth)\u001B[38;5;241m.\u001B[39mparameters}\n\u001B[1;32m-> 2054\u001B[0m     print_method \u001B[38;5;241m=\u001B[39m functools\u001B[38;5;241m.\u001B[39mwraps(meth)(\u001B[38;5;28;01mlambda\u001B[39;00m \u001B[38;5;241m*\u001B[39margs, \u001B[38;5;241m*\u001B[39m\u001B[38;5;241m*\u001B[39mkwargs: meth(\n\u001B[0;32m   2055\u001B[0m         \u001B[38;5;241m*\u001B[39margs, \u001B[38;5;241m*\u001B[39m\u001B[38;5;241m*\u001B[39m{k: v \u001B[38;5;28;01mfor\u001B[39;00m k, v \u001B[38;5;129;01min\u001B[39;00m kwargs\u001B[38;5;241m.\u001B[39mitems() \u001B[38;5;28;01mif\u001B[39;00m k \u001B[38;5;129;01mnot\u001B[39;00m \u001B[38;5;129;01min\u001B[39;00m skip}))\n\u001B[0;32m   2056\u001B[0m \u001B[38;5;28;01melse\u001B[39;00m:  \u001B[38;5;66;03m# Let third-parties do as they see fit.\u001B[39;00m\n\u001B[0;32m   2057\u001B[0m     print_method \u001B[38;5;241m=\u001B[39m meth\n",
      "File \u001B[1;32m~\\anaconda3\\envs\\pulsee_env\\Lib\\site-packages\\matplotlib\\backends\\backend_pdf.py:2792\u001B[0m, in \u001B[0;36mFigureCanvasPdf.print_pdf\u001B[1;34m(self, filename, bbox_inches_restore, metadata)\u001B[0m\n\u001B[0;32m   2790\u001B[0m     file \u001B[38;5;241m=\u001B[39m filename\u001B[38;5;241m.\u001B[39m_ensure_file()\n\u001B[0;32m   2791\u001B[0m \u001B[38;5;28;01melse\u001B[39;00m:\n\u001B[1;32m-> 2792\u001B[0m     file \u001B[38;5;241m=\u001B[39m PdfFile(filename, metadata\u001B[38;5;241m=\u001B[39mmetadata)\n\u001B[0;32m   2793\u001B[0m \u001B[38;5;28;01mtry\u001B[39;00m:\n\u001B[0;32m   2794\u001B[0m     file\u001B[38;5;241m.\u001B[39mnewPage(width, height)\n",
      "File \u001B[1;32m~\\anaconda3\\envs\\pulsee_env\\Lib\\site-packages\\matplotlib\\backends\\backend_pdf.py:688\u001B[0m, in \u001B[0;36mPdfFile.__init__\u001B[1;34m(self, filename, metadata)\u001B[0m\n\u001B[0;32m    686\u001B[0m \u001B[38;5;28mself\u001B[39m\u001B[38;5;241m.\u001B[39moriginal_file_like \u001B[38;5;241m=\u001B[39m \u001B[38;5;28;01mNone\u001B[39;00m\n\u001B[0;32m    687\u001B[0m \u001B[38;5;28mself\u001B[39m\u001B[38;5;241m.\u001B[39mtell_base \u001B[38;5;241m=\u001B[39m \u001B[38;5;241m0\u001B[39m\n\u001B[1;32m--> 688\u001B[0m fh, opened \u001B[38;5;241m=\u001B[39m cbook\u001B[38;5;241m.\u001B[39mto_filehandle(filename, \u001B[38;5;124m\"\u001B[39m\u001B[38;5;124mwb\u001B[39m\u001B[38;5;124m\"\u001B[39m, return_opened\u001B[38;5;241m=\u001B[39m\u001B[38;5;28;01mTrue\u001B[39;00m)\n\u001B[0;32m    689\u001B[0m \u001B[38;5;28;01mif\u001B[39;00m \u001B[38;5;129;01mnot\u001B[39;00m opened:\n\u001B[0;32m    690\u001B[0m     \u001B[38;5;28;01mtry\u001B[39;00m:\n",
      "File \u001B[1;32m~\\anaconda3\\envs\\pulsee_env\\Lib\\site-packages\\matplotlib\\cbook.py:483\u001B[0m, in \u001B[0;36mto_filehandle\u001B[1;34m(fname, flag, return_opened, encoding)\u001B[0m\n\u001B[0;32m    481\u001B[0m         fh \u001B[38;5;241m=\u001B[39m bz2\u001B[38;5;241m.\u001B[39mBZ2File(fname, flag)\n\u001B[0;32m    482\u001B[0m     \u001B[38;5;28;01melse\u001B[39;00m:\n\u001B[1;32m--> 483\u001B[0m         fh \u001B[38;5;241m=\u001B[39m \u001B[38;5;28mopen\u001B[39m(fname, flag, encoding\u001B[38;5;241m=\u001B[39mencoding)\n\u001B[0;32m    484\u001B[0m     opened \u001B[38;5;241m=\u001B[39m \u001B[38;5;28;01mTrue\u001B[39;00m\n\u001B[0;32m    485\u001B[0m \u001B[38;5;28;01melif\u001B[39;00m \u001B[38;5;28mhasattr\u001B[39m(fname, \u001B[38;5;124m'\u001B[39m\u001B[38;5;124mseek\u001B[39m\u001B[38;5;124m'\u001B[39m):\n",
      "\u001B[1;31mFileNotFoundError\u001B[0m: [Errno 2] No such file or directory: 'C:/Users/lemon/OneDrive - Brown University/CNOT project/Publication/images/tomography/pdf/spectrum_8_6_tight.pdf'"
     ]
    },
    {
     "data": {
      "text/plain": [
       "<Figure size 800x600 with 1 Axes>"
      ],
      "image/png": "[encoded data removed]"
     },
     "metadata": {},
     "output_type": "display_data"
    }
   ],
   "execution_count": 22
  },
  {
   "cell_type": "code",
   "source": [
    "MATRIX_LABEL_SIZE = 16\n",
    "\n",
    "RESULT_FILENAME = r\"C:\\Users\\lemon\\OneDrive - Brown University\\CNOT project\\tomography\\ADP\\2024_02_28\\result_0010_V6.pickle\"\n",
    "with open(RESULT_FILENAME, \"rb\") as result_file:\n",
    "    measured_0010 = pickle.load(result_file)[0]"
   ],
   "metadata": {
    "collapsed": false,
    "ExecuteTime": {
     "end_time": "2024-12-12T21:13:02.394006Z",
     "start_time": "2024-12-12T21:13:02.384441Z"
    }
   },
   "outputs": [],
   "execution_count": 23
  },
  {
   "cell_type": "code",
   "source": [
    "def dm_savefig_wrapper(dm, name, file_type=FILE_TYPE, show_phase=False, add_shade=False):\n",
    "    fig_dm, ax_dm = plot_complex_density_matrix(dm, label_qubit=True, label_size=MATRIX_LABEL_SIZE,\n",
    "                                                    fig_dpi=DPI_SAVE, show_legend=show_phase, show=False, add_shade=add_shade)\n",
    "    ax_dm.tick_params(axis='x', direction='in', pad=10)\n",
    "    ax_dm.tick_params(axis='z', direction='in', pad=0)\n",
    "    fig_dm.savefig(f\"{FIGURE_FOLDER}/{name}.{file_type}\", transparent=True, dpi=DPI_SAVE, bbox_inches='tight')"
   ],
   "metadata": {
    "collapsed": false,
    "ExecuteTime": {
     "end_time": "2024-12-12T21:17:11.488022Z",
     "start_time": "2024-12-12T21:17:11.479011Z"
    }
   },
   "outputs": [],
   "execution_count": 38
  },
  {
   "cell_type": "code",
   "source": "dm_savefig_wrapper(measured_0010, \"0010_measured\")",
   "metadata": {
    "collapsed": false,
    "ExecuteTime": {
     "end_time": "2024-12-12T21:17:36.262674Z",
     "start_time": "2024-12-12T21:17:36.186531Z"
    }
   },
   "outputs": [
    {
     "ename": "AssertionError",
     "evalue": "",
     "output_type": "error",
     "traceback": [
      "\u001B[1;31m---------------------------------------------------------------------------\u001B[0m",
      "\u001B[1;31mAssertionError\u001B[0m                            Traceback (most recent call last)",
      "Cell \u001B[1;32mIn[41], line 1\u001B[0m\n\u001B[1;32m----> 1\u001B[0m dm_savefig_wrapper(measured_0010, \u001B[38;5;124m\"\u001B[39m\u001B[38;5;124m0010_measured\u001B[39m\u001B[38;5;124m\"\u001B[39m)\n",
      "Cell \u001B[1;32mIn[38], line 2\u001B[0m, in \u001B[0;36mdm_savefig_wrapper\u001B[1;34m(dm, name, file_type, show_phase, add_shade)\u001B[0m\n\u001B[0;32m      1\u001B[0m \u001B[38;5;28;01mdef\u001B[39;00m \u001B[38;5;21mdm_savefig_wrapper\u001B[39m(dm, name, file_type\u001B[38;5;241m=\u001B[39mFILE_TYPE, show_phase\u001B[38;5;241m=\u001B[39m\u001B[38;5;28;01mFalse\u001B[39;00m, add_shade\u001B[38;5;241m=\u001B[39m\u001B[38;5;28;01mFalse\u001B[39;00m):\n\u001B[1;32m----> 2\u001B[0m     fig_dm, ax_dm \u001B[38;5;241m=\u001B[39m plot_complex_density_matrix(dm, label_qubit\u001B[38;5;241m=\u001B[39m\u001B[38;5;28;01mTrue\u001B[39;00m, label_size\u001B[38;5;241m=\u001B[39mMATRIX_LABEL_SIZE,\n\u001B[0;32m      3\u001B[0m                                                     fig_dpi\u001B[38;5;241m=\u001B[39mDPI_SAVE, show_legend\u001B[38;5;241m=\u001B[39mshow_phase, show\u001B[38;5;241m=\u001B[39m\u001B[38;5;28;01mFalse\u001B[39;00m, add_shade\u001B[38;5;241m=\u001B[39madd_shade)\n\u001B[0;32m      4\u001B[0m     ax_dm\u001B[38;5;241m.\u001B[39mtick_params(axis\u001B[38;5;241m=\u001B[39m\u001B[38;5;124m'\u001B[39m\u001B[38;5;124mx\u001B[39m\u001B[38;5;124m'\u001B[39m, direction\u001B[38;5;241m=\u001B[39m\u001B[38;5;124m'\u001B[39m\u001B[38;5;124min\u001B[39m\u001B[38;5;124m'\u001B[39m, pad\u001B[38;5;241m=\u001B[39m\u001B[38;5;241m10\u001B[39m)\n\u001B[0;32m      5\u001B[0m     ax_dm\u001B[38;5;241m.\u001B[39mtick_params(axis\u001B[38;5;241m=\u001B[39m\u001B[38;5;124m'\u001B[39m\u001B[38;5;124mz\u001B[39m\u001B[38;5;124m'\u001B[39m, direction\u001B[38;5;241m=\u001B[39m\u001B[38;5;124m'\u001B[39m\u001B[38;5;124min\u001B[39m\u001B[38;5;124m'\u001B[39m, pad\u001B[38;5;241m=\u001B[39m\u001B[38;5;241m0\u001B[39m)\n",
      "File \u001B[1;32m~\\Documents\\GitHub\\Quantum_Brain\\plot_dm.py:109\u001B[0m, in \u001B[0;36mplot_complex_density_matrix\u001B[1;34m(dm, dm_theory, many_spin_indexing, show, phase_limits, show_legend, fig_dpi, save_to, fig_size, label_size, label_qubit, view_angle, zlim, add_shade)\u001B[0m\n\u001B[0;32m    106\u001B[0m \u001B[38;5;28;01mif\u001B[39;00m many_spin_indexing \u001B[38;5;129;01mis\u001B[39;00m \u001B[38;5;28;01mNone\u001B[39;00m:\n\u001B[0;32m    107\u001B[0m     many_spin_indexing \u001B[38;5;241m=\u001B[39m dm\u001B[38;5;241m.\u001B[39mdims[\u001B[38;5;241m0\u001B[39m]\n\u001B[1;32m--> 109\u001B[0m \u001B[38;5;28;01massert\u001B[39;00m np\u001B[38;5;241m.\u001B[39marray_equal(np\u001B[38;5;241m.\u001B[39marray(dm), dm\u001B[38;5;241m.\u001B[39mfull())\n\u001B[0;32m    110\u001B[0m dm \u001B[38;5;241m=\u001B[39m np\u001B[38;5;241m.\u001B[39marray(dm)\n\u001B[0;32m    111\u001B[0m n \u001B[38;5;241m=\u001B[39m dm\u001B[38;5;241m.\u001B[39msize\n",
      "\u001B[1;31mAssertionError\u001B[0m: "
     ]
    }
   ],
   "execution_count": 41
  },
  {
   "cell_type": "code",
   "source": [
    "dm_savefig_wrapper(-op.Iz, \"Iz_tomography\")"
   ],
   "metadata": {
    "collapsed": false,
    "ExecuteTime": {
     "end_time": "2024-12-12T21:15:10.177392Z",
     "start_time": "2024-12-12T21:15:10.108854Z"
    }
   },
   "outputs": [
    {
     "ename": "AssertionError",
     "evalue": "",
     "output_type": "error",
     "traceback": [
      "\u001B[1;31m---------------------------------------------------------------------------\u001B[0m",
      "\u001B[1;31mAssertionError\u001B[0m                            Traceback (most recent call last)",
      "Cell \u001B[1;32mIn[29], line 1\u001B[0m\n\u001B[1;32m----> 1\u001B[0m dm_savefig_wrapper(\u001B[38;5;241m-\u001B[39mop\u001B[38;5;241m.\u001B[39mIz, \u001B[38;5;124m\"\u001B[39m\u001B[38;5;124mIz_tomography\u001B[39m\u001B[38;5;124m\"\u001B[39m)\n",
      "Cell \u001B[1;32mIn[24], line 2\u001B[0m, in \u001B[0;36mdm_savefig_wrapper\u001B[1;34m(dm, name, file_type, show_phase, add_shade)\u001B[0m\n\u001B[0;32m      1\u001B[0m \u001B[38;5;28;01mdef\u001B[39;00m \u001B[38;5;21mdm_savefig_wrapper\u001B[39m(dm, name, file_type\u001B[38;5;241m=\u001B[39mFILE_TYPE, show_phase\u001B[38;5;241m=\u001B[39m\u001B[38;5;28;01mFalse\u001B[39;00m, add_shade\u001B[38;5;241m=\u001B[39m\u001B[38;5;28;01mFalse\u001B[39;00m):\n\u001B[1;32m----> 2\u001B[0m     fig_dm, ax_dm \u001B[38;5;241m=\u001B[39m plot_complex_density_matrix(dm, label_qubit\u001B[38;5;241m=\u001B[39m\u001B[38;5;28;01mTrue\u001B[39;00m, label_size\u001B[38;5;241m=\u001B[39mMATRIX_LABEL_SIZE,\n\u001B[0;32m      3\u001B[0m                                                     fig_dpi\u001B[38;5;241m=\u001B[39mDPI_SAVE, show_legend\u001B[38;5;241m=\u001B[39mshow_phase, show\u001B[38;5;241m=\u001B[39m\u001B[38;5;28;01mFalse\u001B[39;00m, add_shade\u001B[38;5;241m=\u001B[39madd_shade)\n\u001B[0;32m      4\u001B[0m     ax_dm\u001B[38;5;241m.\u001B[39mtick_params(axis\u001B[38;5;241m=\u001B[39m\u001B[38;5;124m'\u001B[39m\u001B[38;5;124mx\u001B[39m\u001B[38;5;124m'\u001B[39m, direction\u001B[38;5;241m=\u001B[39m\u001B[38;5;124m'\u001B[39m\u001B[38;5;124min\u001B[39m\u001B[38;5;124m'\u001B[39m, pad\u001B[38;5;241m=\u001B[39m\u001B[38;5;241m10\u001B[39m)\n\u001B[0;32m      5\u001B[0m     ax_dm\u001B[38;5;241m.\u001B[39mtick_params(axis\u001B[38;5;241m=\u001B[39m\u001B[38;5;124m'\u001B[39m\u001B[38;5;124mz\u001B[39m\u001B[38;5;124m'\u001B[39m, direction\u001B[38;5;241m=\u001B[39m\u001B[38;5;124m'\u001B[39m\u001B[38;5;124min\u001B[39m\u001B[38;5;124m'\u001B[39m, pad\u001B[38;5;241m=\u001B[39m\u001B[38;5;241m0\u001B[39m)\n",
      "File \u001B[1;32m~\\Documents\\GitHub\\Quantum_Brain\\plot_dm.py:109\u001B[0m, in \u001B[0;36mplot_complex_density_matrix\u001B[1;34m(dm, dm_theory, many_spin_indexing, show, phase_limits, show_legend, fig_dpi, save_to, fig_size, label_size, label_qubit, view_angle, zlim, add_shade)\u001B[0m\n\u001B[0;32m    106\u001B[0m \u001B[38;5;28;01mif\u001B[39;00m many_spin_indexing \u001B[38;5;129;01mis\u001B[39;00m \u001B[38;5;28;01mNone\u001B[39;00m:\n\u001B[0;32m    107\u001B[0m     many_spin_indexing \u001B[38;5;241m=\u001B[39m dm\u001B[38;5;241m.\u001B[39mdims[\u001B[38;5;241m0\u001B[39m]\n\u001B[1;32m--> 109\u001B[0m \u001B[38;5;28;01massert\u001B[39;00m np\u001B[38;5;241m.\u001B[39marray_equal(np\u001B[38;5;241m.\u001B[39marray(dm), dm\u001B[38;5;241m.\u001B[39mfull())\n\u001B[0;32m    110\u001B[0m dm \u001B[38;5;241m=\u001B[39m np\u001B[38;5;241m.\u001B[39marray(dm)\n\u001B[0;32m    111\u001B[0m n \u001B[38;5;241m=\u001B[39m dm\u001B[38;5;241m.\u001B[39msize\n",
      "\u001B[1;31mAssertionError\u001B[0m: "
     ]
    }
   ],
   "execution_count": 29
  },
  {
   "cell_type": "code",
   "source": [
    "dm_savefig_wrapper(op.IzSx, \"IzSx_tomography\")"
   ],
   "metadata": {
    "collapsed": false
   },
   "outputs": [],
   "execution_count": null
  },
  {
   "cell_type": "code",
   "source": [
    "display(-op.Iz)\n",
    "display(op.IzSx)"
   ],
   "metadata": {
    "collapsed": false,
    "ExecuteTime": {
     "end_time": "2024-12-12T21:11:45.876690Z",
     "start_time": "2024-12-12T21:11:45.876690Z"
    }
   },
   "outputs": [],
   "execution_count": null
  },
  {
   "cell_type": "markdown",
   "source": [
    "I think this operator (IzSy) from the X1X2 imaginary spectra looks better? Cuz of the black & white?\n",
    "But maybe not worth the extra effort of switching everything from Y1Y2 real to X1X2 imag. "
   ],
   "metadata": {
    "collapsed": false
   }
  },
  {
   "cell_type": "code",
   "source": [
    "# fig_IzSx, ax_IzSx = plot_complex_density_matrix(op.IzSy * 0.3, label_qubit=True, label_size=MATRIX_LABEL_SIZE, fig_dpi=DPI_SAVE, show_legend=False, show=False)\n",
    "# ax_IzSx.tick_params(axis='x', direction='in', pad=10)\n",
    "# ax_IzSx.tick_params(axis='z', direction='in', pad=0)\n",
    "# plt.show()"
   ],
   "metadata": {
    "collapsed": false
   },
   "outputs": [],
   "execution_count": null
  }
 ],
 "metadata": {
  "kernelspec": {
   "name": "python3",
   "language": "python",
   "display_name": "Python 3 (ipykernel)"
  },
  "language_info": {
   "codemirror_mode": {
    "name": "ipython",
    "version": 3
   },
   "file_extension": ".py",
   "mimetype": "text/x-python",
   "name": "python",
   "nbconvert_exporter": "python",
   "pygments_lexer": "ipython3",
   "version": "3.11.6"
  }
 },
 "nbformat": 4,
 "nbformat_minor": 4
}

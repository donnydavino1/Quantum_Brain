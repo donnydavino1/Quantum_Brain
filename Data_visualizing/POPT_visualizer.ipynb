{
 "cells": [
  {
   "cell_type": "code",
   "metadata": {
    "ExecuteTime": {
     "end_time": "2025-02-14T15:39:11.843980Z",
     "start_time": "2025-02-14T15:39:11.840627Z"
    }
   },
   "source": [
    "#This code uses Topspin pulse program: cpmg. In order for this version of the code to run, experiment should be calibrated\n",
    "#with the same parameters that allow zg spectrum to be centerd on only doublet.\n",
    "\n",
    "#It may be possible to change this code to analyze multiple doublets, but have to think more about how chemical shift evolution would affect this, and how to account for correct x axis with multiple peaks."
   ],
   "outputs": [],
   "execution_count": 1
  },
  {
   "cell_type": "code",
   "metadata": {
    "ExecuteTime": {
     "end_time": "2025-02-14T15:39:13.008055Z",
     "start_time": "2025-02-14T15:39:11.845190Z"
    }
   },
   "source": [
    "import os\n",
    "\n",
    "import matplotlib as mpl\n",
    "import matplotlib.pyplot as plt\n",
    "import nmrglue as ng\n",
    "import numpy as np\n",
    "from scipy import integrate\n",
    "from scipy.optimize import curve_fit\n",
    "\n",
    "import global_constants as glob\n",
    "\n",
    "#%matplotlib notebook # commented out cuz it causes my computer to not plot anything\n",
    "# import pulsee.simulation as sim\n",
    "# from statistics import median\n",
    "plt.rcParams['figure.dpi'] = glob.DPI_DISPLAY\n",
    "\n",
    "plt.rcParams['font.family'] = ['Helvetica']\n",
    "\"\"\" This is to save plots as PDF with editable text (so that Adobe illustrator recognizes text) \"\"\"\n",
    "mpl.rcParams['pdf.fonttype'] = 42\n",
    "mpl.rcParams['ps.fonttype'] = 42\n",
    "\n"
   ],
   "outputs": [],
   "execution_count": 2
  },
  {
   "metadata": {},
   "cell_type": "markdown",
   "source": "# Helper Functions"
  },
  {
   "metadata": {
    "ExecuteTime": {
     "end_time": "2025-02-14T15:39:13.012107Z",
     "start_time": "2025-02-14T15:39:13.008055Z"
    }
   },
   "cell_type": "code",
   "source": [
    "def combine_to_magnitude(real, imag):\n",
    "    assert len(real) == len(imag)\n",
    "    return np.sqrt(real ** 2 + imag ** 2)\n",
    "\n",
    "\n",
    "def get_folder_path(f_n):\n",
    "    return fr\"{Bruker_folders_path}\\{f_n}\\pdata\\1\"\n",
    "\n",
    "# Inversion Recovery\n",
    "def t1_func(tau, a, t1):\n",
    "    return a * (1 - 2 * np.exp(-tau / t1))\n",
    "\n",
    "def t2_func(x, t2, a, b, k, offset):\n",
    "    return a * np.exp(-x / t2) + b * np.sin(k * x) + offset\n",
    "\n",
    "\n",
    "def t2_func_exp(x, T2, A, omega, Tj, C, offset1, offset2):\n",
    "    return (A * np.cos(omega * x + offset2) * np.exp(-x / Tj) + C) * np.exp(-x / T2) + offset1"
   ],
   "outputs": [],
   "execution_count": 3
  },
  {
   "cell_type": "markdown",
   "metadata": {
    "jupyter": {
     "outputs_hidden": false
    }
   },
   "source": [
    "# Importing Data\n",
    "#### Select Filepath to CPMG Experiment"
   ]
  },
  {
   "cell_type": "code",
   "metadata": {
    "jupyter": {
     "outputs_hidden": false
    },
    "ExecuteTime": {
     "end_time": "2025-02-14T15:39:13.115732Z",
     "start_time": "2025-02-14T15:39:13.012107Z"
    }
   },
   "source": [
    "# Bruker_folders_path = r\"C:\\Users\\donny\\Desktop\\desktop_files\\Brown\\All_data\\All_data_after_7_25\\Sample132_05_07_2024\"\n",
    "Bruker_folders_path = r\"C:\\Users\\donny\\Desktop\\desktop_files\\Brown\\All_data\\MIT\\ADP_Sample_143-12_20_2024_GO\""
   ],
   "outputs": [],
   "execution_count": 4
  },
  {
   "cell_type": "code",
   "metadata": {
    "jupyter": {
     "outputs_hidden": false
    },
    "ExecuteTime": {
     "end_time": "2025-02-14T15:39:13.121716Z",
     "start_time": "2025-02-14T15:39:13.117150Z"
    }
   },
   "source": [
    "folder_nums = os.listdir(f\"{Bruker_folders_path}\")\n",
    "folder_nums_sorted = sorted(folder_nums, key=lambda x: int(''.join(filter(str.isdigit, x))))\n",
    "print(folder_nums_sorted)\n",
    "folder_name = folder_nums_sorted[134]\n",
    "#folder_nums = [str(s) for s in (sorted([int(x) for x in folder_nums]))] # ordering by increasing number value\n",
    "print(folder_name)"
   ],
   "outputs": [
    {
     "name": "stdout",
     "output_type": "stream",
     "text": [
      "['76', '77', '78', '79', '80', '81', '82', '83', '84', '85', '86', '87', '88', '89', '90', '91', '92', '93', '94', '95', '96', '97', '98', '99', '100', '101', '102', '103', '104', '105', '106', '107', '108', '109', '110', '111', '112', '113', '114', '115', '116', '117', '118', '119', '120', '121', '122', '123', '124', '125', '126', '127', '128', '129', '130', '131', '132', '133', '134', '135', '136', '137', '138', '139', '140', '141', '142', '143', '144', '145', '146', '147', '148', '149', '150', '151', '152', '153', '154', '155', '156', '157', '158', '159', '160', '161', '162', '163', '164', '165', '166', '167', '168', '169', '170', '171', '172', '173', '174', '175', '176', '177', '178', '179', '180', '181', '182', '183', '184', '185', '186', '187', '188', '189', '190', '191', '192', '193', '194', '195', '196', '197', '198', '199', '200', '201', '202', '203', '204', '205', '206', '207', '208', '209', '210', '211', '212', '213', '214', '215', '216', '217', '218', '219', '220', '221', '222', '223', '224', '225', '226', '227', '228', '229', '230', '231', '232', '233', '234', '235', '236', '237', '238', '239', '240', '241', '242', '243', '244', '245', '246', '247', '248', '249', '250', '251', '252', '253', '254', '255', '256', '257', '258', '259', '260', '442', '897', '898', '899']\n",
      "210\n"
     ]
    }
   ],
   "execution_count": 5
  },
  {
   "metadata": {
    "ExecuteTime": {
     "end_time": "2025-02-14T15:39:13.128700Z",
     "start_time": "2025-02-14T15:39:13.121716Z"
    }
   },
   "cell_type": "code",
   "source": "get_folder_path(folder_name)",
   "outputs": [
    {
     "data": {
      "text/plain": [
       "'C:\\\\Users\\\\donny\\\\Desktop\\\\desktop_files\\\\Brown\\\\All_data\\\\MIT\\\\ADP_Sample_143-12_20_2024_GO\\\\210\\\\pdata\\\\1'"
      ]
     },
     "execution_count": 6,
     "metadata": {},
     "output_type": "execute_result"
    }
   ],
   "execution_count": 6
  },
  {
   "cell_type": "code",
   "metadata": {
    "jupyter": {
     "outputs_hidden": false
    },
    "ExecuteTime": {
     "end_time": "2025-02-14T15:39:13.165798Z",
     "start_time": "2025-02-14T15:39:13.130047Z"
    }
   },
   "source": [
    "# all_components=True to get both the real & imaginary spectra\n",
    "all_data = ng.bruker.read_pdata(get_folder_path(folder_name), all_components=True)[1]\n",
    "all_data = np.array(all_data)\n",
    "print(all_data.shape)\n",
    "#this step will not work without \"XF2\" which makes 2ii file from 2rr\n",
    "print(\n",
    "    'Output of this cell should look something like \"(2, 1024, 32768)\". If it is only 2 numbers long you need to open the Topspin file and run \"XF2\".')"
   ],
   "outputs": [
    {
     "name": "stdout",
     "output_type": "stream",
     "text": [
      "(2, 32768)\n",
      "Output of this cell should look something like \"(2, 1024, 32768)\". If it is only 2 numbers long you need to open the Topspin file and run \"XF2\".\n"
     ]
    }
   ],
   "execution_count": 7
  },
  {
   "metadata": {
    "ExecuteTime": {
     "end_time": "2025-02-14T15:39:13.185891Z",
     "start_time": "2025-02-14T15:39:13.166889Z"
    }
   },
   "cell_type": "code",
   "source": [
    "import nmrglue as ng\n",
    "import matplotlib.pyplot as plt\n",
    "\n",
    "# read in the bruker formatted data\n",
    "dic, data = ng.fileio.bruker.read_pdata(r\"C:\\Users\\donny\\Desktop\\desktop_files\\Brown\\All_data\\MIT\\ADP_Sample_143-12_20_2024_GO\\210\\pdata\\997\")\n",
    "\n",
    "data\n"
   ],
   "outputs": [
    {
     "data": {
      "text/plain": [
       "array([-116779., -156348., -199721., ...,  437872.,  510883.,  580273.])"
      ]
     },
     "execution_count": 8,
     "metadata": {},
     "output_type": "execute_result"
    }
   ],
   "execution_count": 8
  },
  {
   "metadata": {
    "ExecuteTime": {
     "end_time": "2025-02-14T15:39:13.582579Z",
     "start_time": "2025-02-14T15:39:13.185891Z"
    }
   },
   "cell_type": "code",
   "source": [
    "import pandas as pd\n",
    "# Create a DataFrame with real, imaginary, and time values\n",
    "time = np.linspace(0, 7, len(data))\n",
    "df = pd.DataFrame({\n",
    "    \"Time\": time,\n",
    "    \"Real\": data,\n",
    "})\n",
    "\n",
    "# Plot Real and Imaginary FID on the same plot\n",
    "plt.figure(figsize=(10, 6))\n",
    "plt.plot(df[\"Time\"], df[\"Real\"], label=\"Real\")\n",
    "plt.xlabel('Time (s)', fontsize=18)\n",
    "plt.ylabel('Signal (a.u.)', fontsize=18)\n",
    "plt.title('Real and Imaginary FID', fontsize=26)\n",
    "plt.legend()\n",
    "plt.grid(True)\n",
    "plt.show()"
   ],
   "outputs": [
    {
     "data": {
      "text/plain": [
       "<Figure size 1000x600 with 1 Axes>"
      ],
      "image/png": "[encoded data removed]"
     },
     "metadata": {},
     "output_type": "display_data"
    }
   ],
   "execution_count": 9
  },
  {
   "cell_type": "markdown",
   "metadata": {},
   "source": [
    "# Define Parameters Needed for Calculation"
   ]
  },
  {
   "cell_type": "code",
   "metadata": {
    "ExecuteTime": {
     "end_time": "2025-02-14T15:39:13.585986Z",
     "start_time": "2025-02-14T15:39:13.582579Z"
    }
   },
   "source": [
    "SIZE_OF_FID = 44\n",
    "VD_START = 0\n",
    "VD_END = .245\n",
    "VD_STEP_SIZE = 0.005\n",
    "VDS = np.linspace(VD_START, VD_END, SIZE_OF_FID)  # inclusive of start & end\n",
    "\n",
    "PULSE_DURATION_90 = 16.6E-6  # (s)\n",
    "PULSE_DURATION_180 = 33.1E-6  # (s)\n",
    "# d20 = 1.25E-3  # (s) [d20-180-d20] loop\n",
    "SPECTRUM_WIDTH = 8196.721  # Hz #for F2 I believe\n",
    "J = 21.77  # Hz\n",
    "#ns 8\n",
    "\n",
    "# DO NOT NEED FOR CALCULATION\n",
    "#B_0 = 9  # Tesla\n",
    "#SPECTRUM_OFFSET = 49697.66\n",
    "#w_1_Bruker = 242950699.7  # Hz\n",
    "#w_2_Bruker = 242951648.8  # Hz\n",
    "#TEMP = 310  # Kelvin\n",
    "#BF1 = 161.9755930"
   ],
   "outputs": [],
   "execution_count": 10
  },
  {
   "cell_type": "markdown",
   "metadata": {
    "jupyter": {
     "outputs_hidden": false
    }
   },
   "source": [
    "### Plot Bruker Spectrum Data"
   ]
  },
  {
   "cell_type": "code",
   "metadata": {
    "jupyter": {
     "outputs_hidden": false
    },
    "ExecuteTime": {
     "end_time": "2025-02-14T15:39:14.336800Z",
     "start_time": "2025-02-14T15:39:13.585986Z"
    }
   },
   "source": [
    "all_data = np.flip(all_data, axis=2)  #Flip the frequency axis\n",
    "# Cut off all zero data point\n",
    "all_data = all_data[:, :SIZE_OF_FID, :]  #(-1 python starts at index zero)\n",
    "\n",
    "\n",
    "# data_mag = combine_to_magnitude(all_data[0], all_data[1])\n",
    "data_mag = all_data[0]  # wrong name! but keeping it for now\n",
    "print(all_data.shape, data_mag.shape)"
   ],
   "outputs": [
    {
     "ename": "AxisError",
     "evalue": "axis 2 is out of bounds for array of dimension 2",
     "output_type": "error",
     "traceback": [
      "\u001B[1;31m---------------------------------------------------------------------------\u001B[0m",
      "\u001B[1;31mAxisError\u001B[0m                                 Traceback (most recent call last)",
      "Cell \u001B[1;32mIn[11], line 1\u001B[0m\n\u001B[1;32m----> 1\u001B[0m all_data \u001B[38;5;241m=\u001B[39m np\u001B[38;5;241m.\u001B[39mflip(all_data, axis\u001B[38;5;241m=\u001B[39m\u001B[38;5;241m2\u001B[39m)  \u001B[38;5;66;03m#Flip the frequency axis\u001B[39;00m\n\u001B[0;32m      2\u001B[0m \u001B[38;5;66;03m# Cut off all zero data point\u001B[39;00m\n\u001B[0;32m      3\u001B[0m all_data \u001B[38;5;241m=\u001B[39m all_data[:, :SIZE_OF_FID, :]  \u001B[38;5;66;03m#(-1 python starts at index zero)\u001B[39;00m\n",
      "File \u001B[1;32m~\\anaconda3\\envs\\pulsee_env\\Lib\\site-packages\\numpy\\lib\\function_base.py:340\u001B[0m, in \u001B[0;36mflip\u001B[1;34m(m, axis)\u001B[0m\n\u001B[0;32m    338\u001B[0m     indexer \u001B[38;5;241m=\u001B[39m (np\u001B[38;5;241m.\u001B[39ms_[::\u001B[38;5;241m-\u001B[39m\u001B[38;5;241m1\u001B[39m],) \u001B[38;5;241m*\u001B[39m m\u001B[38;5;241m.\u001B[39mndim\n\u001B[0;32m    339\u001B[0m \u001B[38;5;28;01melse\u001B[39;00m:\n\u001B[1;32m--> 340\u001B[0m     axis \u001B[38;5;241m=\u001B[39m _nx\u001B[38;5;241m.\u001B[39mnormalize_axis_tuple(axis, m\u001B[38;5;241m.\u001B[39mndim)\n\u001B[0;32m    341\u001B[0m     indexer \u001B[38;5;241m=\u001B[39m [np\u001B[38;5;241m.\u001B[39ms_[:]] \u001B[38;5;241m*\u001B[39m m\u001B[38;5;241m.\u001B[39mndim\n\u001B[0;32m    342\u001B[0m     \u001B[38;5;28;01mfor\u001B[39;00m ax \u001B[38;5;129;01min\u001B[39;00m axis:\n",
      "File \u001B[1;32m~\\anaconda3\\envs\\pulsee_env\\Lib\\site-packages\\numpy\\core\\numeric.py:1380\u001B[0m, in \u001B[0;36mnormalize_axis_tuple\u001B[1;34m(axis, ndim, argname, allow_duplicate)\u001B[0m\n\u001B[0;32m   1378\u001B[0m         \u001B[38;5;28;01mpass\u001B[39;00m\n\u001B[0;32m   1379\u001B[0m \u001B[38;5;66;03m# Going via an iterator directly is slower than via list comprehension.\u001B[39;00m\n\u001B[1;32m-> 1380\u001B[0m axis \u001B[38;5;241m=\u001B[39m \u001B[38;5;28mtuple\u001B[39m([normalize_axis_index(ax, ndim, argname) \u001B[38;5;28;01mfor\u001B[39;00m ax \u001B[38;5;129;01min\u001B[39;00m axis])\n\u001B[0;32m   1381\u001B[0m \u001B[38;5;28;01mif\u001B[39;00m \u001B[38;5;129;01mnot\u001B[39;00m allow_duplicate \u001B[38;5;129;01mand\u001B[39;00m \u001B[38;5;28mlen\u001B[39m(\u001B[38;5;28mset\u001B[39m(axis)) \u001B[38;5;241m!=\u001B[39m \u001B[38;5;28mlen\u001B[39m(axis):\n\u001B[0;32m   1382\u001B[0m     \u001B[38;5;28;01mif\u001B[39;00m argname:\n",
      "File \u001B[1;32m~\\anaconda3\\envs\\pulsee_env\\Lib\\site-packages\\numpy\\core\\numeric.py:1380\u001B[0m, in \u001B[0;36m<listcomp>\u001B[1;34m(.0)\u001B[0m\n\u001B[0;32m   1378\u001B[0m         \u001B[38;5;28;01mpass\u001B[39;00m\n\u001B[0;32m   1379\u001B[0m \u001B[38;5;66;03m# Going via an iterator directly is slower than via list comprehension.\u001B[39;00m\n\u001B[1;32m-> 1380\u001B[0m axis \u001B[38;5;241m=\u001B[39m \u001B[38;5;28mtuple\u001B[39m([normalize_axis_index(ax, ndim, argname) \u001B[38;5;28;01mfor\u001B[39;00m ax \u001B[38;5;129;01min\u001B[39;00m axis])\n\u001B[0;32m   1381\u001B[0m \u001B[38;5;28;01mif\u001B[39;00m \u001B[38;5;129;01mnot\u001B[39;00m allow_duplicate \u001B[38;5;129;01mand\u001B[39;00m \u001B[38;5;28mlen\u001B[39m(\u001B[38;5;28mset\u001B[39m(axis)) \u001B[38;5;241m!=\u001B[39m \u001B[38;5;28mlen\u001B[39m(axis):\n\u001B[0;32m   1382\u001B[0m     \u001B[38;5;28;01mif\u001B[39;00m argname:\n",
      "\u001B[1;31mAxisError\u001B[0m: axis 2 is out of bounds for array of dimension 2"
     ]
    }
   ],
   "execution_count": 11
  },
  {
   "cell_type": "code",
   "metadata": {
    "ExecuteTime": {
     "end_time": "2025-02-14T15:39:27.685742Z",
     "start_time": "2025-02-14T15:39:27.683434Z"
    }
   },
   "source": [
    "#2nd method\n",
    "# #Auto Phase Data\n",
    "# complex_data = np.array(all_data[0] + 1j * all_data[1])\n",
    "# fixed=ng.process.proc_autophase.autops(complex_data, \"acme\", p0=0.0, p1=0.0)\n",
    "# real_part = np.real(fixed)\n",
    "# imaginary_part = np.imag(fixed)\n",
    "\n",
    "# tt=np.sqrt(real_part**2 + imaginary_part**2)\n",
    "# tt.shape\n",
    "# plt.plot(tt[8])"
   ],
   "outputs": [],
   "execution_count": 12
  },
  {
   "cell_type": "code",
   "metadata": {
    "jupyter": {
     "outputs_hidden": false
    },
    "ExecuteTime": {
     "end_time": "2025-02-14T15:39:28.201645Z",
     "start_time": "2025-02-14T15:39:28.184912Z"
    }
   },
   "source": [
    "plt.plot(data_mag[0])\n",
    "plt.plot(data_mag[round(SIZE_OF_FID / 8)])\n",
    "plt.plot(data_mag[round(SIZE_OF_FID / 2)])\n",
    "plt.plot(data_mag[SIZE_OF_FID - 1])"
   ],
   "outputs": [
    {
     "ename": "NameError",
     "evalue": "name 'data_mag' is not defined",
     "output_type": "error",
     "traceback": [
      "\u001B[1;31m---------------------------------------------------------------------------\u001B[0m",
      "\u001B[1;31mNameError\u001B[0m                                 Traceback (most recent call last)",
      "Cell \u001B[1;32mIn[13], line 1\u001B[0m\n\u001B[1;32m----> 1\u001B[0m plt\u001B[38;5;241m.\u001B[39mplot(data_mag[\u001B[38;5;241m0\u001B[39m])\n\u001B[0;32m      2\u001B[0m plt\u001B[38;5;241m.\u001B[39mplot(data_mag[\u001B[38;5;28mround\u001B[39m(SIZE_OF_FID \u001B[38;5;241m/\u001B[39m \u001B[38;5;241m8\u001B[39m)])\n\u001B[0;32m      3\u001B[0m plt\u001B[38;5;241m.\u001B[39mplot(data_mag[\u001B[38;5;28mround\u001B[39m(SIZE_OF_FID \u001B[38;5;241m/\u001B[39m \u001B[38;5;241m2\u001B[39m)])\n",
      "\u001B[1;31mNameError\u001B[0m: name 'data_mag' is not defined"
     ]
    }
   ],
   "execution_count": 13
  },
  {
   "cell_type": "markdown",
   "metadata": {},
   "source": [
    "# Calculating the frequency axis for the spectrum\n",
    "According to Bruker's software, the middle of the spectrum should be the experimental larmor frequency (with chemical shift included), and we can set this to 0 Hz. In other words, the frequency axis range is: (-spectrum_width/2, spectrum/2), with 0 in the middle, and left peak should occur at -$J$ and right peak at $J$"
   ]
  },
  {
   "cell_type": "code",
   "metadata": {
    "ExecuteTime": {
     "end_time": "2025-02-14T15:39:28.299353Z",
     "start_time": "2025-02-14T15:39:28.287014Z"
    }
   },
   "source": [
    "freqs = np.linspace(-SPECTRUM_WIDTH / 2, SPECTRUM_WIDTH / 2, data_mag.shape[1])\n",
    "L_FREQ = -J / 2\n",
    "R_FREQ = J / 2"
   ],
   "outputs": [
    {
     "ename": "NameError",
     "evalue": "name 'data_mag' is not defined",
     "output_type": "error",
     "traceback": [
      "\u001B[1;31m---------------------------------------------------------------------------\u001B[0m",
      "\u001B[1;31mNameError\u001B[0m                                 Traceback (most recent call last)",
      "Cell \u001B[1;32mIn[14], line 1\u001B[0m\n\u001B[1;32m----> 1\u001B[0m freqs \u001B[38;5;241m=\u001B[39m np\u001B[38;5;241m.\u001B[39mlinspace(\u001B[38;5;241m-\u001B[39mSPECTRUM_WIDTH \u001B[38;5;241m/\u001B[39m \u001B[38;5;241m2\u001B[39m, SPECTRUM_WIDTH \u001B[38;5;241m/\u001B[39m \u001B[38;5;241m2\u001B[39m, data_mag\u001B[38;5;241m.\u001B[39mshape[\u001B[38;5;241m1\u001B[39m])\n\u001B[0;32m      2\u001B[0m L_FREQ \u001B[38;5;241m=\u001B[39m \u001B[38;5;241m-\u001B[39mJ \u001B[38;5;241m/\u001B[39m \u001B[38;5;241m2\u001B[39m\n\u001B[0;32m      3\u001B[0m R_FREQ \u001B[38;5;241m=\u001B[39m J \u001B[38;5;241m/\u001B[39m \u001B[38;5;241m2\u001B[39m\n",
      "\u001B[1;31mNameError\u001B[0m: name 'data_mag' is not defined"
     ]
    }
   ],
   "execution_count": 14
  },
  {
   "metadata": {
    "ExecuteTime": {
     "end_time": "2025-02-14T15:39:28.414579Z",
     "start_time": "2025-02-14T15:39:28.345149Z"
    }
   },
   "cell_type": "code",
   "source": [
    "I_RANDOM = 0\n",
    "fig, ax = plt.subplots()\n",
    "Y_OFFSET = 1E8\n",
    "\n",
    "for i in range(SIZE_OF_FID):\n",
    "    ax.plot(freqs, data_mag[i] + Y_OFFSET * i)\n",
    "ax.set_xlim(-820, -720)"
   ],
   "outputs": [
    {
     "ename": "NameError",
     "evalue": "name 'freqs' is not defined",
     "output_type": "error",
     "traceback": [
      "\u001B[1;31m---------------------------------------------------------------------------\u001B[0m",
      "\u001B[1;31mNameError\u001B[0m                                 Traceback (most recent call last)",
      "Cell \u001B[1;32mIn[15], line 6\u001B[0m\n\u001B[0;32m      3\u001B[0m Y_OFFSET \u001B[38;5;241m=\u001B[39m \u001B[38;5;241m1E8\u001B[39m\n\u001B[0;32m      5\u001B[0m \u001B[38;5;28;01mfor\u001B[39;00m i \u001B[38;5;129;01min\u001B[39;00m \u001B[38;5;28mrange\u001B[39m(SIZE_OF_FID):\n\u001B[1;32m----> 6\u001B[0m     ax\u001B[38;5;241m.\u001B[39mplot(freqs, data_mag[i] \u001B[38;5;241m+\u001B[39m Y_OFFSET \u001B[38;5;241m*\u001B[39m i)\n\u001B[0;32m      7\u001B[0m ax\u001B[38;5;241m.\u001B[39mset_xlim(\u001B[38;5;241m-\u001B[39m\u001B[38;5;241m820\u001B[39m, \u001B[38;5;241m-\u001B[39m\u001B[38;5;241m720\u001B[39m)\n",
      "\u001B[1;31mNameError\u001B[0m: name 'freqs' is not defined"
     ]
    },
    {
     "data": {
      "text/plain": [
       "<Figure size 640x480 with 1 Axes>"
      ],
      "image/png": "[encoded data removed]"
     },
     "metadata": {},
     "output_type": "display_data"
    }
   ],
   "execution_count": 15
  },
  {
   "cell_type": "markdown",
   "metadata": {},
   "source": [
    "# Plotting a Few Spectra"
   ]
  },
  {
   "cell_type": "code",
   "metadata": {
    "ExecuteTime": {
     "end_time": "2025-02-14T15:39:28.444861Z",
     "start_time": "2025-02-14T15:39:28.423056Z"
    }
   },
   "source": [
    "DISPLAY_INDICES = [0, round(SIZE_OF_FID / 8), round(SIZE_OF_FID / 2),\n",
    "                   SIZE_OF_FID - 1]  #Python starts couting at 0, while Bruker starts counting at zero hence the \"-1\"\n",
    "N_DISPLAY = len(DISPLAY_INDICES)\n",
    "\n",
    "INTGR_WIDTH = 10  # in Hz. The width to integrate over.\n",
    "X_LIMS_DISPLAY = [-20, 20]\n",
    "i_L = np.absolute(freqs - X_LIMS_DISPLAY[0]).argmin()\n",
    "i_R = np.absolute(freqs - X_LIMS_DISPLAY[1]).argmin()\n",
    "\n",
    "fig, axs = plt.subplots(N_DISPLAY, 1, figsize=(2 * N_DISPLAY, 8), sharex=True, sharey=False)\n",
    "\n",
    "# Making an offset so the red lines visually line up with the peaks\n",
    "intgr_offset = 0\n",
    "intgr_centers = (L_FREQ + intgr_offset, R_FREQ + intgr_offset)\n",
    "\n",
    "for i_axis, i_spectrum in enumerate(DISPLAY_INDICES):\n",
    "    # plot the spectrum\n",
    "    ax = axs[i_axis]\n",
    "    ax.plot(freqs[i_L: i_R + 1], data_mag[i_spectrum][i_L: i_R + 1])\n",
    "    ax.grid(alpha=0.5)\n",
    "    ax.set(xlabel='Offset Freq (Hz)')\n",
    "    ax.label_outer()\n",
    "    ax.tick_params(direction='in')\n",
    "\n",
    "    # red centers\n",
    "    ax.axvline(intgr_centers[0], color='r', alpha=0.5)\n",
    "    ax.axvline(intgr_centers[1], color='r', alpha=0.5)\n",
    "    # orange integration window\n",
    "    ax.axvspan(intgr_centers[0] - INTGR_WIDTH / 2, intgr_centers[0] + INTGR_WIDTH / 2, color='orange', alpha=0.5)\n",
    "    ax.axvspan(intgr_centers[1] - INTGR_WIDTH / 2, intgr_centers[1] + INTGR_WIDTH / 2, color='orange', alpha=0.5)\n",
    "\n",
    "    # plot integration lines\n",
    "\n",
    "fig.suptitle('Spectra_Theory for T2')\n",
    "fig.tight_layout()\n",
    "plt.show()"
   ],
   "outputs": [
    {
     "ename": "NameError",
     "evalue": "name 'freqs' is not defined",
     "output_type": "error",
     "traceback": [
      "\u001B[1;31m---------------------------------------------------------------------------\u001B[0m",
      "\u001B[1;31mNameError\u001B[0m                                 Traceback (most recent call last)",
      "Cell \u001B[1;32mIn[16], line 7\u001B[0m\n\u001B[0;32m      5\u001B[0m INTGR_WIDTH \u001B[38;5;241m=\u001B[39m \u001B[38;5;241m10\u001B[39m  \u001B[38;5;66;03m# in Hz. The width to integrate over.\u001B[39;00m\n\u001B[0;32m      6\u001B[0m X_LIMS_DISPLAY \u001B[38;5;241m=\u001B[39m [\u001B[38;5;241m-\u001B[39m\u001B[38;5;241m20\u001B[39m, \u001B[38;5;241m20\u001B[39m]\n\u001B[1;32m----> 7\u001B[0m i_L \u001B[38;5;241m=\u001B[39m np\u001B[38;5;241m.\u001B[39mabsolute(freqs \u001B[38;5;241m-\u001B[39m X_LIMS_DISPLAY[\u001B[38;5;241m0\u001B[39m])\u001B[38;5;241m.\u001B[39margmin()\n\u001B[0;32m      8\u001B[0m i_R \u001B[38;5;241m=\u001B[39m np\u001B[38;5;241m.\u001B[39mabsolute(freqs \u001B[38;5;241m-\u001B[39m X_LIMS_DISPLAY[\u001B[38;5;241m1\u001B[39m])\u001B[38;5;241m.\u001B[39margmin()\n\u001B[0;32m     10\u001B[0m fig, axs \u001B[38;5;241m=\u001B[39m plt\u001B[38;5;241m.\u001B[39msubplots(N_DISPLAY, \u001B[38;5;241m1\u001B[39m, figsize\u001B[38;5;241m=\u001B[39m(\u001B[38;5;241m2\u001B[39m \u001B[38;5;241m*\u001B[39m N_DISPLAY, \u001B[38;5;241m8\u001B[39m), sharex\u001B[38;5;241m=\u001B[39m\u001B[38;5;28;01mTrue\u001B[39;00m, sharey\u001B[38;5;241m=\u001B[39m\u001B[38;5;28;01mFalse\u001B[39;00m)\n",
      "\u001B[1;31mNameError\u001B[0m: name 'freqs' is not defined"
     ]
    }
   ],
   "execution_count": 16
  },
  {
   "cell_type": "markdown",
   "metadata": {},
   "source": [
    "# Integrate each spectrum to get the peak intensities\n",
    "1. Integrate sample points using (`scipy.integrate.trapezoid`)\n",
    "2. Integrate sample points using (`scipy.integrate.simpson`)"
   ]
  },
  {
   "cell_type": "code",
   "metadata": {
    "ExecuteTime": {
     "end_time": "2025-02-14T15:39:28.485586Z",
     "start_time": "2025-02-14T15:39:28.476039Z"
    }
   },
   "source": [
    "def integrate_doublet(spectrum):\n",
    "    i_L_lo = np.abs(freqs - (intgr_centers[0] - INTGR_WIDTH / 2)).argmin()\n",
    "    i_L_hi = np.abs(freqs - (intgr_centers[0] + INTGR_WIDTH / 2)).argmin()\n",
    "    i_R_lo = np.abs(freqs - (intgr_centers[1] - INTGR_WIDTH / 2)).argmin()\n",
    "    i_R_hi = np.abs(freqs - (intgr_centers[1] + INTGR_WIDTH / 2)).argmin()\n",
    "\n",
    "    area_L = integrate.trapezoid(spectrum[i_L_lo: i_L_hi])\n",
    "    area_R = integrate.trapezoid(spectrum[i_R_lo: i_R_hi])\n",
    "    return area_L, area_R"
   ],
   "outputs": [],
   "execution_count": 17
  },
  {
   "cell_type": "code",
   "metadata": {
    "jupyter": {
     "outputs_hidden": false
    },
    "ExecuteTime": {
     "end_time": "2025-02-14T15:39:28.547376Z",
     "start_time": "2025-02-14T15:39:28.536467Z"
    }
   },
   "source": [
    "areas_all = [integrate_doublet(spectrum) for spectrum in data_mag]\n",
    "areas_all = np.array(areas_all)\n",
    "areas_all.shape"
   ],
   "outputs": [
    {
     "ename": "NameError",
     "evalue": "name 'data_mag' is not defined",
     "output_type": "error",
     "traceback": [
      "\u001B[1;31m---------------------------------------------------------------------------\u001B[0m",
      "\u001B[1;31mNameError\u001B[0m                                 Traceback (most recent call last)",
      "Cell \u001B[1;32mIn[18], line 1\u001B[0m\n\u001B[1;32m----> 1\u001B[0m areas_all \u001B[38;5;241m=\u001B[39m [integrate_doublet(spectrum) \u001B[38;5;28;01mfor\u001B[39;00m spectrum \u001B[38;5;129;01min\u001B[39;00m data_mag]\n\u001B[0;32m      2\u001B[0m areas_all \u001B[38;5;241m=\u001B[39m np\u001B[38;5;241m.\u001B[39marray(areas_all)\n\u001B[0;32m      3\u001B[0m areas_all\u001B[38;5;241m.\u001B[39mshape\n",
      "\u001B[1;31mNameError\u001B[0m: name 'data_mag' is not defined"
     ]
    }
   ],
   "execution_count": 18
  },
  {
   "cell_type": "code",
   "metadata": {
    "jupyter": {
     "outputs_hidden": false
    },
    "ExecuteTime": {
     "end_time": "2025-02-14T15:39:28.616132Z",
     "start_time": "2025-02-14T15:39:28.602820Z"
    }
   },
   "source": [
    "areas_left = areas_all[:, 0]\n",
    "areas_right = areas_all[:, 1]"
   ],
   "outputs": [
    {
     "ename": "NameError",
     "evalue": "name 'areas_all' is not defined",
     "output_type": "error",
     "traceback": [
      "\u001B[1;31m---------------------------------------------------------------------------\u001B[0m",
      "\u001B[1;31mNameError\u001B[0m                                 Traceback (most recent call last)",
      "Cell \u001B[1;32mIn[19], line 1\u001B[0m\n\u001B[1;32m----> 1\u001B[0m areas_left \u001B[38;5;241m=\u001B[39m areas_all[:, \u001B[38;5;241m0\u001B[39m]\n\u001B[0;32m      2\u001B[0m areas_right \u001B[38;5;241m=\u001B[39m areas_all[:, \u001B[38;5;241m1\u001B[39m]\n",
      "\u001B[1;31mNameError\u001B[0m: name 'areas_all' is not defined"
     ]
    }
   ],
   "execution_count": 19
  },
  {
   "cell_type": "markdown",
   "metadata": {
    "jupyter": {
     "outputs_hidden": false
    }
   },
   "source": [
    "# Simple Plot and Fit"
   ]
  },
  {
   "metadata": {
    "ExecuteTime": {
     "end_time": "2025-02-14T15:39:28.644491Z",
     "start_time": "2025-02-14T15:39:28.642627Z"
    }
   },
   "cell_type": "code",
   "source": "",
   "outputs": [],
   "execution_count": 19
  },
  {
   "cell_type": "code",
   "metadata": {
    "jupyter": {
     "outputs_hidden": false
    },
    "ExecuteTime": {
     "end_time": "2025-02-14T15:39:28.675475Z",
     "start_time": "2025-02-14T15:39:28.655720Z"
    }
   },
   "source": [
    "wait_times = []\n",
    "\n",
    "for vd in VDS:\n",
    "    time = PULSE_DURATION_90 + vd + PULSE_DURATION_180 + vd + PULSE_DURATION_180\n",
    "    #time = PULSE_DURATION_180 + vd + PULSE_DURATION_90\n",
    "    wait_times.append(time)\n",
    "\n",
    "wait_times = np.array(wait_times)\n",
    "wait_times\n",
    "\n",
    "#should start time start at beginning, middle, or end of first pulse?"
   ],
   "outputs": [
    {
     "data": {
      "text/plain": [
       "array([8.28000000e-05, 1.14781488e-02, 2.28734977e-02, 3.42688465e-02,\n",
       "       4.56641953e-02, 5.70595442e-02, 6.84548930e-02, 7.98502419e-02,\n",
       "       9.12455907e-02, 1.02640940e-01, 1.14036288e-01, 1.25431637e-01,\n",
       "       1.36826986e-01, 1.48222335e-01, 1.59617684e-01, 1.71013033e-01,\n",
       "       1.82408381e-01, 1.93803730e-01, 2.05199079e-01, 2.16594428e-01,\n",
       "       2.27989777e-01, 2.39385126e-01, 2.50780474e-01, 2.62175823e-01,\n",
       "       2.73571172e-01, 2.84966521e-01, 2.96361870e-01, 3.07757219e-01,\n",
       "       3.19152567e-01, 3.30547916e-01, 3.41943265e-01, 3.53338614e-01,\n",
       "       3.64733963e-01, 3.76129312e-01, 3.87524660e-01, 3.98920009e-01,\n",
       "       4.10315358e-01, 4.21710707e-01, 4.33106056e-01, 4.44501405e-01,\n",
       "       4.55896753e-01, 4.67292102e-01, 4.78687451e-01, 4.90082800e-01])"
      ]
     },
     "execution_count": 20,
     "metadata": {},
     "output_type": "execute_result"
    }
   ],
   "execution_count": 20
  },
  {
   "cell_type": "code",
   "metadata": {
    "jupyter": {
     "outputs_hidden": false
    },
    "ExecuteTime": {
     "end_time": "2025-02-14T15:39:29.077858Z",
     "start_time": "2025-02-14T15:39:29.059147Z"
    }
   },
   "source": [
    "guesses = [ 2.15596580e-01,  2.14270367e+10,  6.00267028e+01,  2.05186193e+11,\n",
    "        1.84219662e+08, -1.32915336e+07,  4.48370558e-01]\n",
    "\n",
    "# T2, A, omega, Tj, C, offset1, offset2\n",
    "#(A * np.cos(omega * x + offset2) * np.exp(-x / Tj) + C) * np.exp(-x / T2) + offset1\n",
    "\n",
    "lower_bounds = [0, 0, 0, 0, -1e12, -1e12,-2*np.pi]\n",
    "upper_bounds = [1, 1e12, 1e12, 1e12, 1e12, 1e12,2*np.pi]\n",
    "\n",
    "popt_left, pcov_left = curve_fit(t2_func_exp, wait_times, areas_left, p0=guesses, bounds=(lower_bounds, upper_bounds))\n",
    "popt_right, pcov_right = curve_fit(t2_func_exp, wait_times, areas_right, p0=guesses, bounds=(lower_bounds, upper_bounds))\n",
    "\n",
    "t2_left, t2_left_err = popt_left[0], np.sqrt(pcov_left[0,0])\n",
    "t2_right, t2_right_err = popt_right[0], np.sqrt(pcov_right[0,0])\n",
    "\n",
    "PLUS_MINUS = u'\\u00b1'\n",
    "display(popt_left)\n",
    "display(popt_right)\n",
    "print(f\"Left peak: T2 = {t2_left: .3f} {PLUS_MINUS} {t2_left_err:.3f}\")\n",
    "print(f\"Right peak: T2 = {t2_right: .3f} {PLUS_MINUS} {t2_right_err:.3f}\")"
   ],
   "outputs": [
    {
     "ename": "NameError",
     "evalue": "name 'areas_left' is not defined",
     "output_type": "error",
     "traceback": [
      "\u001B[1;31m---------------------------------------------------------------------------\u001B[0m",
      "\u001B[1;31mNameError\u001B[0m                                 Traceback (most recent call last)",
      "Cell \u001B[1;32mIn[21], line 10\u001B[0m\n\u001B[0;32m      7\u001B[0m lower_bounds \u001B[38;5;241m=\u001B[39m [\u001B[38;5;241m0\u001B[39m, \u001B[38;5;241m0\u001B[39m, \u001B[38;5;241m0\u001B[39m, \u001B[38;5;241m0\u001B[39m, \u001B[38;5;241m-\u001B[39m\u001B[38;5;241m1e12\u001B[39m, \u001B[38;5;241m-\u001B[39m\u001B[38;5;241m1e12\u001B[39m,\u001B[38;5;241m-\u001B[39m\u001B[38;5;241m2\u001B[39m\u001B[38;5;241m*\u001B[39mnp\u001B[38;5;241m.\u001B[39mpi]\n\u001B[0;32m      8\u001B[0m upper_bounds \u001B[38;5;241m=\u001B[39m [\u001B[38;5;241m1\u001B[39m, \u001B[38;5;241m1e12\u001B[39m, \u001B[38;5;241m1e12\u001B[39m, \u001B[38;5;241m1e12\u001B[39m, \u001B[38;5;241m1e12\u001B[39m, \u001B[38;5;241m1e12\u001B[39m,\u001B[38;5;241m2\u001B[39m\u001B[38;5;241m*\u001B[39mnp\u001B[38;5;241m.\u001B[39mpi]\n\u001B[1;32m---> 10\u001B[0m popt_left, pcov_left \u001B[38;5;241m=\u001B[39m curve_fit(t2_func_exp, wait_times, areas_left, p0\u001B[38;5;241m=\u001B[39mguesses, bounds\u001B[38;5;241m=\u001B[39m(lower_bounds, upper_bounds))\n\u001B[0;32m     11\u001B[0m popt_right, pcov_right \u001B[38;5;241m=\u001B[39m curve_fit(t2_func_exp, wait_times, areas_right, p0\u001B[38;5;241m=\u001B[39mguesses, bounds\u001B[38;5;241m=\u001B[39m(lower_bounds, upper_bounds))\n\u001B[0;32m     13\u001B[0m t2_left, t2_left_err \u001B[38;5;241m=\u001B[39m popt_left[\u001B[38;5;241m0\u001B[39m], np\u001B[38;5;241m.\u001B[39msqrt(pcov_left[\u001B[38;5;241m0\u001B[39m,\u001B[38;5;241m0\u001B[39m])\n",
      "\u001B[1;31mNameError\u001B[0m: name 'areas_left' is not defined"
     ]
    }
   ],
   "execution_count": 21
  },
  {
   "cell_type": "code",
   "metadata": {
    "ExecuteTime": {
     "end_time": "2025-02-14T15:39:29.419283Z",
     "start_time": "2025-02-14T15:39:29.296439Z"
    }
   },
   "source": [
    "# Create the figure and axis with adjusted layout for publication\n",
    "fig_t2, axs_t2 = plt.subplots(2, 1, figsize=(8, 6), sharex=True, sharey=True)\n",
    "\n",
    "# Plot data points with a distinct color and marker size for clarity\n",
    "axs_t2[0].plot(wait_times, areas_left, 'o', markersize=6, label='Left Peak Data')\n",
    "axs_t2[1].plot(wait_times, areas_right, 'o', markersize=6, label='Right Peak Data')\n",
    "\n",
    "# Plot fit lines with higher contrast against the data points\n",
    "axs_t2[0].plot(wait_times, t2_func_exp(wait_times, *popt_left), linestyle='--', linewidth=2,\n",
    "               label=f\"Fit T2 = {t2_left: .3f} {PLUS_MINUS} {t2_left_err:.3f} s\")\n",
    "axs_t2[1].plot(wait_times, t2_func_exp(wait_times, *popt_right), linestyle='--', linewidth=2,\n",
    "               label=f\"Fit T2 = {t2_right: .3f} {PLUS_MINUS} {t2_right_err:.3f} s\")\n",
    "\n",
    "# Set labels and increase font size for publication readability\n",
    "axs_t2[0].set_ylabel(\"Intensity of Left Peak\")\n",
    "axs_t2[1].set_ylabel(\"Intensity of Right Peak\")\n",
    "axs_t2[1].set_xlabel(\"Wait Times (s)\")\n",
    "\n",
    "# Set legend positions and adjust font size\n",
    "axs_t2[0].legend()\n",
    "axs_t2[1].legend()\n",
    "\n",
    "# Set title and adjust spacing\n",
    "fig_t2.suptitle('T2 Curves for Left and Right Peaks', fontsize=14, weight='bold', y=0.93)\n",
    "\n",
    "# Enable grid with a subtle color and style\n",
    "[ax.grid(color='gray', linestyle='--', alpha=0.3) for ax in axs_t2]\n",
    "\n",
    "# Optimize layout for spacing and readability\n",
    "# fig_t2.tight_layout(pad=2.0)\n",
    "fig_t2.tight_layout()\n",
    "\n",
    "# Show the plot\n",
    "plt.show()\n"
   ],
   "outputs": [
    {
     "ename": "NameError",
     "evalue": "name 'areas_left' is not defined",
     "output_type": "error",
     "traceback": [
      "\u001B[1;31m---------------------------------------------------------------------------\u001B[0m",
      "\u001B[1;31mNameError\u001B[0m                                 Traceback (most recent call last)",
      "Cell \u001B[1;32mIn[22], line 5\u001B[0m\n\u001B[0;32m      2\u001B[0m fig_t2, axs_t2 \u001B[38;5;241m=\u001B[39m plt\u001B[38;5;241m.\u001B[39msubplots(\u001B[38;5;241m2\u001B[39m, \u001B[38;5;241m1\u001B[39m, figsize\u001B[38;5;241m=\u001B[39m(\u001B[38;5;241m8\u001B[39m, \u001B[38;5;241m6\u001B[39m), sharex\u001B[38;5;241m=\u001B[39m\u001B[38;5;28;01mTrue\u001B[39;00m, sharey\u001B[38;5;241m=\u001B[39m\u001B[38;5;28;01mTrue\u001B[39;00m)\n\u001B[0;32m      4\u001B[0m \u001B[38;5;66;03m# Plot data points with a distinct color and marker size for clarity\u001B[39;00m\n\u001B[1;32m----> 5\u001B[0m axs_t2[\u001B[38;5;241m0\u001B[39m]\u001B[38;5;241m.\u001B[39mplot(wait_times, areas_left, \u001B[38;5;124m'\u001B[39m\u001B[38;5;124mo\u001B[39m\u001B[38;5;124m'\u001B[39m, markersize\u001B[38;5;241m=\u001B[39m\u001B[38;5;241m6\u001B[39m, label\u001B[38;5;241m=\u001B[39m\u001B[38;5;124m'\u001B[39m\u001B[38;5;124mLeft Peak Data\u001B[39m\u001B[38;5;124m'\u001B[39m)\n\u001B[0;32m      6\u001B[0m axs_t2[\u001B[38;5;241m1\u001B[39m]\u001B[38;5;241m.\u001B[39mplot(wait_times, areas_right, \u001B[38;5;124m'\u001B[39m\u001B[38;5;124mo\u001B[39m\u001B[38;5;124m'\u001B[39m, markersize\u001B[38;5;241m=\u001B[39m\u001B[38;5;241m6\u001B[39m, label\u001B[38;5;241m=\u001B[39m\u001B[38;5;124m'\u001B[39m\u001B[38;5;124mRight Peak Data\u001B[39m\u001B[38;5;124m'\u001B[39m)\n\u001B[0;32m      8\u001B[0m \u001B[38;5;66;03m# Plot fit lines with higher contrast against the data points\u001B[39;00m\n",
      "\u001B[1;31mNameError\u001B[0m: name 'areas_left' is not defined"
     ]
    },
    {
     "data": {
      "text/plain": [
       "<Figure size 800x600 with 2 Axes>"
      ],
      "image/png": "[encoded data removed]"
     },
     "metadata": {},
     "output_type": "display_data"
    }
   ],
   "execution_count": 22
  },
  {
   "metadata": {
    "ExecuteTime": {
     "end_time": "2025-02-14T15:39:29.431196Z",
     "start_time": "2025-02-14T15:39:29.420323Z"
    }
   },
   "cell_type": "code",
   "source": [
    "print(popt_left[2]/(2*np.pi))\n",
    "print(popt_right[2]/(2*np.pi))\n",
    "print(popt_left[2])\n",
    "print(popt_right[2])"
   ],
   "outputs": [
    {
     "ename": "NameError",
     "evalue": "name 'popt_left' is not defined",
     "output_type": "error",
     "traceback": [
      "\u001B[1;31m---------------------------------------------------------------------------\u001B[0m",
      "\u001B[1;31mNameError\u001B[0m                                 Traceback (most recent call last)",
      "Cell \u001B[1;32mIn[23], line 1\u001B[0m\n\u001B[1;32m----> 1\u001B[0m \u001B[38;5;28mprint\u001B[39m(popt_left[\u001B[38;5;241m2\u001B[39m]\u001B[38;5;241m/\u001B[39m(\u001B[38;5;241m2\u001B[39m\u001B[38;5;241m*\u001B[39mnp\u001B[38;5;241m.\u001B[39mpi))\n\u001B[0;32m      2\u001B[0m \u001B[38;5;28mprint\u001B[39m(popt_right[\u001B[38;5;241m2\u001B[39m]\u001B[38;5;241m/\u001B[39m(\u001B[38;5;241m2\u001B[39m\u001B[38;5;241m*\u001B[39mnp\u001B[38;5;241m.\u001B[39mpi))\n\u001B[0;32m      3\u001B[0m \u001B[38;5;28mprint\u001B[39m(popt_left[\u001B[38;5;241m2\u001B[39m])\n",
      "\u001B[1;31mNameError\u001B[0m: name 'popt_left' is not defined"
     ]
    }
   ],
   "execution_count": 23
  },
  {
   "metadata": {
    "ExecuteTime": {
     "end_time": "2025-02-14T15:39:29.613661Z",
     "start_time": "2025-02-14T15:39:29.602738Z"
    }
   },
   "cell_type": "code",
   "source": "pcov_left",
   "outputs": [
    {
     "ename": "NameError",
     "evalue": "name 'pcov_left' is not defined",
     "output_type": "error",
     "traceback": [
      "\u001B[1;31m---------------------------------------------------------------------------\u001B[0m",
      "\u001B[1;31mNameError\u001B[0m                                 Traceback (most recent call last)",
      "Cell \u001B[1;32mIn[24], line 1\u001B[0m\n\u001B[1;32m----> 1\u001B[0m pcov_left\n",
      "\u001B[1;31mNameError\u001B[0m: name 'pcov_left' is not defined"
     ]
    }
   ],
   "execution_count": 24
  },
  {
   "metadata": {
    "ExecuteTime": {
     "end_time": "2025-02-14T15:39:29.756034Z",
     "start_time": "2025-02-14T15:39:29.742445Z"
    }
   },
   "cell_type": "code",
   "source": [
    "print(np.sqrt(pcov_left[2,2]))\n",
    "print(np.sqrt(pcov_right[2,2]))"
   ],
   "outputs": [
    {
     "ename": "NameError",
     "evalue": "name 'pcov_left' is not defined",
     "output_type": "error",
     "traceback": [
      "\u001B[1;31m---------------------------------------------------------------------------\u001B[0m",
      "\u001B[1;31mNameError\u001B[0m                                 Traceback (most recent call last)",
      "Cell \u001B[1;32mIn[25], line 1\u001B[0m\n\u001B[1;32m----> 1\u001B[0m \u001B[38;5;28mprint\u001B[39m(np\u001B[38;5;241m.\u001B[39msqrt(pcov_left[\u001B[38;5;241m2\u001B[39m,\u001B[38;5;241m2\u001B[39m]))\n\u001B[0;32m      2\u001B[0m \u001B[38;5;28mprint\u001B[39m(np\u001B[38;5;241m.\u001B[39msqrt(pcov_right[\u001B[38;5;241m2\u001B[39m,\u001B[38;5;241m2\u001B[39m]))\n",
      "\u001B[1;31mNameError\u001B[0m: name 'pcov_left' is not defined"
     ]
    }
   ],
   "execution_count": 25
  },
  {
   "metadata": {},
   "cell_type": "markdown",
   "source": "# Integrating the other doublet\n"
  },
  {
   "metadata": {
    "ExecuteTime": {
     "end_time": "2025-02-14T15:39:30.352972Z",
     "start_time": "2025-02-14T15:39:30.350400Z"
    }
   },
   "cell_type": "code",
   "source": [
    "DOUBLET_OFFSET = -768.5\n",
    "L_FREQ_OTHER = -J / 2 + DOUBLET_OFFSET\n",
    "R_FREQ_OTHER = J / 2 + DOUBLET_OFFSET"
   ],
   "outputs": [],
   "execution_count": 26
  },
  {
   "metadata": {
    "ExecuteTime": {
     "end_time": "2025-02-14T15:39:30.550725Z",
     "start_time": "2025-02-14T15:39:30.530253Z"
    }
   },
   "cell_type": "code",
   "source": [
    "DISPLAY_INDICES = [0, 10, 20, 30, 40]  #Python starts couting at 0, while Bruker starts counting at zero hence the \"-1\"\n",
    "N_DISPLAY = len(DISPLAY_INDICES)\n",
    "\n",
    "INTGR_WIDTH = 15  # in Hz. The width to integrate over.\n",
    "X_LIMS_DISPLAY = [-20 + DOUBLET_OFFSET, 20 + DOUBLET_OFFSET]\n",
    "i_L = np.absolute(freqs - X_LIMS_DISPLAY[0]).argmin()\n",
    "i_R = np.absolute(freqs - X_LIMS_DISPLAY[1]).argmin()\n",
    "\n",
    "fig, axs = plt.subplots(N_DISPLAY, 1, figsize=(2 * N_DISPLAY, 8), sharex=True, sharey=False)\n",
    "\n",
    "# Making an offset so the red lines visually line up with the peaks\n",
    "intgr_offset = 0\n",
    "intgr_centers = (L_FREQ_OTHER + intgr_offset, R_FREQ_OTHER + intgr_offset)\n",
    "\n",
    "for i_axis, i_spectrum in enumerate(DISPLAY_INDICES):\n",
    "    # plot the spectrum\n",
    "    ax = axs[i_axis]\n",
    "    ax.plot(freqs[i_L: i_R + 1], data_mag[i_spectrum][i_L: i_R + 1])\n",
    "    ax.grid(alpha=0.5)\n",
    "    ax.set(xlabel='Offset Freq (Hz)')\n",
    "    ax.label_outer()\n",
    "    ax.tick_params(direction='in')\n",
    "\n",
    "    # red centers\n",
    "    ax.axvline(intgr_centers[0], color='r', alpha=0.5)\n",
    "    ax.axvline(intgr_centers[1], color='r', alpha=0.5)\n",
    "    # orange integration window\n",
    "    ax.axvspan(intgr_centers[0] - INTGR_WIDTH / 2, intgr_centers[0] + INTGR_WIDTH / 2, color='orange', alpha=0.5)\n",
    "    ax.axvspan(intgr_centers[1] - INTGR_WIDTH / 2, intgr_centers[1] + INTGR_WIDTH / 2, color='orange', alpha=0.5)\n",
    "\n",
    "    # plot integration lines\n",
    "\n",
    "fig.suptitle('Spectra_Theory for T2')\n",
    "fig.tight_layout()\n",
    "plt.show()"
   ],
   "outputs": [
    {
     "ename": "NameError",
     "evalue": "name 'freqs' is not defined",
     "output_type": "error",
     "traceback": [
      "\u001B[1;31m---------------------------------------------------------------------------\u001B[0m",
      "\u001B[1;31mNameError\u001B[0m                                 Traceback (most recent call last)",
      "Cell \u001B[1;32mIn[27], line 6\u001B[0m\n\u001B[0;32m      4\u001B[0m INTGR_WIDTH \u001B[38;5;241m=\u001B[39m \u001B[38;5;241m15\u001B[39m  \u001B[38;5;66;03m# in Hz. The width to integrate over.\u001B[39;00m\n\u001B[0;32m      5\u001B[0m X_LIMS_DISPLAY \u001B[38;5;241m=\u001B[39m [\u001B[38;5;241m-\u001B[39m\u001B[38;5;241m20\u001B[39m \u001B[38;5;241m+\u001B[39m DOUBLET_OFFSET, \u001B[38;5;241m20\u001B[39m \u001B[38;5;241m+\u001B[39m DOUBLET_OFFSET]\n\u001B[1;32m----> 6\u001B[0m i_L \u001B[38;5;241m=\u001B[39m np\u001B[38;5;241m.\u001B[39mabsolute(freqs \u001B[38;5;241m-\u001B[39m X_LIMS_DISPLAY[\u001B[38;5;241m0\u001B[39m])\u001B[38;5;241m.\u001B[39margmin()\n\u001B[0;32m      7\u001B[0m i_R \u001B[38;5;241m=\u001B[39m np\u001B[38;5;241m.\u001B[39mabsolute(freqs \u001B[38;5;241m-\u001B[39m X_LIMS_DISPLAY[\u001B[38;5;241m1\u001B[39m])\u001B[38;5;241m.\u001B[39margmin()\n\u001B[0;32m      9\u001B[0m fig, axs \u001B[38;5;241m=\u001B[39m plt\u001B[38;5;241m.\u001B[39msubplots(N_DISPLAY, \u001B[38;5;241m1\u001B[39m, figsize\u001B[38;5;241m=\u001B[39m(\u001B[38;5;241m2\u001B[39m \u001B[38;5;241m*\u001B[39m N_DISPLAY, \u001B[38;5;241m8\u001B[39m), sharex\u001B[38;5;241m=\u001B[39m\u001B[38;5;28;01mTrue\u001B[39;00m, sharey\u001B[38;5;241m=\u001B[39m\u001B[38;5;28;01mFalse\u001B[39;00m)\n",
      "\u001B[1;31mNameError\u001B[0m: name 'freqs' is not defined"
     ]
    }
   ],
   "execution_count": 27
  },
  {
   "metadata": {
    "ExecuteTime": {
     "end_time": "2025-02-14T15:39:30.664928Z",
     "start_time": "2025-02-14T15:39:30.662693Z"
    }
   },
   "cell_type": "code",
   "source": "",
   "outputs": [],
   "execution_count": 27
  },
  {
   "metadata": {
    "ExecuteTime": {
     "end_time": "2025-02-14T15:39:30.814822Z",
     "start_time": "2025-02-14T15:39:30.811162Z"
    }
   },
   "cell_type": "code",
   "source": [
    "def integrate_doublet(spectrum):\n",
    "    i_L_lo = np.abs(freqs - (intgr_centers[0] - INTGR_WIDTH / 2)).argmin()\n",
    "    i_L_hi = np.abs(freqs - (intgr_centers[0] + INTGR_WIDTH / 2)).argmin()\n",
    "    i_R_lo = np.abs(freqs - (intgr_centers[1] - INTGR_WIDTH / 2)).argmin()\n",
    "    i_R_hi = np.abs(freqs - (intgr_centers[1] + INTGR_WIDTH / 2)).argmin()\n",
    "\n",
    "    area_L = integrate.trapezoid(spectrum[i_L_lo: i_L_hi])\n",
    "    area_R = integrate.trapezoid(spectrum[i_R_lo: i_R_hi])\n",
    "    return area_L, area_R"
   ],
   "outputs": [],
   "execution_count": 28
  },
  {
   "metadata": {
    "jupyter": {
     "outputs_hidden": false
    },
    "ExecuteTime": {
     "end_time": "2025-02-14T15:39:30.984713Z",
     "start_time": "2025-02-14T15:39:30.970395Z"
    }
   },
   "cell_type": "code",
   "source": [
    "areas_all = [integrate_doublet(spectrum) for spectrum in data_mag]\n",
    "areas_all = np.array(areas_all)\n",
    "areas_all.shape"
   ],
   "outputs": [
    {
     "ename": "NameError",
     "evalue": "name 'data_mag' is not defined",
     "output_type": "error",
     "traceback": [
      "\u001B[1;31m---------------------------------------------------------------------------\u001B[0m",
      "\u001B[1;31mNameError\u001B[0m                                 Traceback (most recent call last)",
      "Cell \u001B[1;32mIn[29], line 1\u001B[0m\n\u001B[1;32m----> 1\u001B[0m areas_all \u001B[38;5;241m=\u001B[39m [integrate_doublet(spectrum) \u001B[38;5;28;01mfor\u001B[39;00m spectrum \u001B[38;5;129;01min\u001B[39;00m data_mag]\n\u001B[0;32m      2\u001B[0m areas_all \u001B[38;5;241m=\u001B[39m np\u001B[38;5;241m.\u001B[39marray(areas_all)\n\u001B[0;32m      3\u001B[0m areas_all\u001B[38;5;241m.\u001B[39mshape\n",
      "\u001B[1;31mNameError\u001B[0m: name 'data_mag' is not defined"
     ]
    }
   ],
   "execution_count": 29
  },
  {
   "metadata": {
    "jupyter": {
     "outputs_hidden": false
    },
    "ExecuteTime": {
     "end_time": "2025-02-14T15:39:31.121785Z",
     "start_time": "2025-02-14T15:39:31.110999Z"
    }
   },
   "cell_type": "code",
   "source": [
    "areas_left = areas_all[:, 0]\n",
    "areas_right = areas_all[:, 1]"
   ],
   "outputs": [
    {
     "ename": "NameError",
     "evalue": "name 'areas_all' is not defined",
     "output_type": "error",
     "traceback": [
      "\u001B[1;31m---------------------------------------------------------------------------\u001B[0m",
      "\u001B[1;31mNameError\u001B[0m                                 Traceback (most recent call last)",
      "Cell \u001B[1;32mIn[30], line 1\u001B[0m\n\u001B[1;32m----> 1\u001B[0m areas_left \u001B[38;5;241m=\u001B[39m areas_all[:, \u001B[38;5;241m0\u001B[39m]\n\u001B[0;32m      2\u001B[0m areas_right \u001B[38;5;241m=\u001B[39m areas_all[:, \u001B[38;5;241m1\u001B[39m]\n",
      "\u001B[1;31mNameError\u001B[0m: name 'areas_all' is not defined"
     ]
    }
   ],
   "execution_count": 30
  },
  {
   "metadata": {
    "jupyter": {
     "outputs_hidden": false
    },
    "ExecuteTime": {
     "end_time": "2025-02-14T15:39:31.294730Z",
     "start_time": "2025-02-14T15:39:31.279405Z"
    }
   },
   "cell_type": "code",
   "source": [
    "guesses = [2e10, 1]\n",
    "#a, t1\n",
    "lower_bounds = [0, 0]\n",
    "upper_bounds = [np.inf, 1e3]\n",
    "\n",
    "popt_left, pcov_left = curve_fit(t1_func, wait_times, areas_left, p0=guesses, bounds=(lower_bounds, upper_bounds))\n",
    "popt_right, pcov_right = curve_fit(t1_func, wait_times, areas_right, p0=guesses, bounds=(lower_bounds, upper_bounds))\n",
    "\n",
    "t1_left, t1_left_err = popt_left[1], np.sqrt(pcov_left[1,1])\n",
    "t1_right, t1_right_err = popt_right[1], np.sqrt(pcov_right[1,1])\n",
    "\n",
    "PLUS_MINUS = u'\\u00b1'\n",
    "display(popt_left)\n",
    "display(popt_right)\n",
    "print(f\"Left peak: T1 = {t1_left: .3f} {PLUS_MINUS} {t1_left_err:.3f}\")\n",
    "print(f\"Right peak: T1 = {t1_right: .3f} {PLUS_MINUS} {t1_right_err:.3f}\")"
   ],
   "outputs": [
    {
     "ename": "NameError",
     "evalue": "name 'areas_left' is not defined",
     "output_type": "error",
     "traceback": [
      "\u001B[1;31m---------------------------------------------------------------------------\u001B[0m",
      "\u001B[1;31mNameError\u001B[0m                                 Traceback (most recent call last)",
      "Cell \u001B[1;32mIn[31], line 6\u001B[0m\n\u001B[0;32m      3\u001B[0m lower_bounds \u001B[38;5;241m=\u001B[39m [\u001B[38;5;241m0\u001B[39m, \u001B[38;5;241m0\u001B[39m]\n\u001B[0;32m      4\u001B[0m upper_bounds \u001B[38;5;241m=\u001B[39m [np\u001B[38;5;241m.\u001B[39minf, \u001B[38;5;241m1e3\u001B[39m]\n\u001B[1;32m----> 6\u001B[0m popt_left, pcov_left \u001B[38;5;241m=\u001B[39m curve_fit(t1_func, wait_times, areas_left, p0\u001B[38;5;241m=\u001B[39mguesses, bounds\u001B[38;5;241m=\u001B[39m(lower_bounds, upper_bounds))\n\u001B[0;32m      7\u001B[0m popt_right, pcov_right \u001B[38;5;241m=\u001B[39m curve_fit(t1_func, wait_times, areas_right, p0\u001B[38;5;241m=\u001B[39mguesses, bounds\u001B[38;5;241m=\u001B[39m(lower_bounds, upper_bounds))\n\u001B[0;32m      9\u001B[0m t1_left, t1_left_err \u001B[38;5;241m=\u001B[39m popt_left[\u001B[38;5;241m1\u001B[39m], np\u001B[38;5;241m.\u001B[39msqrt(pcov_left[\u001B[38;5;241m1\u001B[39m,\u001B[38;5;241m1\u001B[39m])\n",
      "\u001B[1;31mNameError\u001B[0m: name 'areas_left' is not defined"
     ]
    }
   ],
   "execution_count": 31
  },
  {
   "metadata": {
    "ExecuteTime": {
     "end_time": "2025-02-14T15:39:31.584845Z",
     "start_time": "2025-02-14T15:39:31.434593Z"
    }
   },
   "cell_type": "code",
   "source": [
    "# Create the figure and axis with adjusted layout for publication\n",
    "fig_t2, axs_t2 = plt.subplots(2, 1, figsize=(8, 6), sharex=True, sharey=True)\n",
    "\n",
    "# Plot data points with a distinct color and marker size for clarity\n",
    "axs_t2[0].plot(wait_times, areas_left, 'o', markersize=6, label='Left Peak Data')\n",
    "axs_t2[1].plot(wait_times, areas_right, 'o', markersize=6, label='Right Peak Data')\n",
    "\n",
    "# Plot fit lines with higher contrast against the data points\n",
    "axs_t2[0].plot(wait_times, t1_func(wait_times, *popt_left), linestyle='--', linewidth=2,\n",
    "               label=f\"Fit T1 = {t1_left: .3f} {PLUS_MINUS} {t1_left_err:.3f} s\")\n",
    "axs_t2[1].plot(wait_times, t1_func(wait_times, *popt_right), linestyle='--', linewidth=2,\n",
    "               label=f\"Fit T1 = {t1_right: .3f} {PLUS_MINUS} {t1_right_err:.3f} s\")\n",
    "\n",
    "# Set labels and increase font size for publication readability\n",
    "axs_t2[0].set_ylabel(\"Intensity of Left Peak\")\n",
    "axs_t2[1].set_ylabel(\"Intensity of Right Peak\")\n",
    "axs_t2[1].set_xlabel(\"Wait Times (s)\")\n",
    "\n",
    "# Set legend positions and adjust font size\n",
    "axs_t2[0].legend()\n",
    "axs_t2[1].legend()\n",
    "\n",
    "# Set title and adjust spacing\n",
    "fig_t2.suptitle('T2 Curves for Left and Right Peaks', fontsize=14, weight='bold', y=0.93)\n",
    "\n",
    "# Enable grid with a subtle color and style\n",
    "[ax.grid(color='gray', linestyle='--', alpha=0.3) for ax in axs_t2]\n",
    "\n",
    "# Optimize layout for spacing and readability\n",
    "# fig_t2.tight_layout(pad=2.0)\n",
    "fig_t2.tight_layout()\n",
    "\n",
    "# Show the plot\n",
    "plt.show()\n"
   ],
   "outputs": [
    {
     "ename": "NameError",
     "evalue": "name 'areas_left' is not defined",
     "output_type": "error",
     "traceback": [
      "\u001B[1;31m---------------------------------------------------------------------------\u001B[0m",
      "\u001B[1;31mNameError\u001B[0m                                 Traceback (most recent call last)",
      "Cell \u001B[1;32mIn[32], line 5\u001B[0m\n\u001B[0;32m      2\u001B[0m fig_t2, axs_t2 \u001B[38;5;241m=\u001B[39m plt\u001B[38;5;241m.\u001B[39msubplots(\u001B[38;5;241m2\u001B[39m, \u001B[38;5;241m1\u001B[39m, figsize\u001B[38;5;241m=\u001B[39m(\u001B[38;5;241m8\u001B[39m, \u001B[38;5;241m6\u001B[39m), sharex\u001B[38;5;241m=\u001B[39m\u001B[38;5;28;01mTrue\u001B[39;00m, sharey\u001B[38;5;241m=\u001B[39m\u001B[38;5;28;01mTrue\u001B[39;00m)\n\u001B[0;32m      4\u001B[0m \u001B[38;5;66;03m# Plot data points with a distinct color and marker size for clarity\u001B[39;00m\n\u001B[1;32m----> 5\u001B[0m axs_t2[\u001B[38;5;241m0\u001B[39m]\u001B[38;5;241m.\u001B[39mplot(wait_times, areas_left, \u001B[38;5;124m'\u001B[39m\u001B[38;5;124mo\u001B[39m\u001B[38;5;124m'\u001B[39m, markersize\u001B[38;5;241m=\u001B[39m\u001B[38;5;241m6\u001B[39m, label\u001B[38;5;241m=\u001B[39m\u001B[38;5;124m'\u001B[39m\u001B[38;5;124mLeft Peak Data\u001B[39m\u001B[38;5;124m'\u001B[39m)\n\u001B[0;32m      6\u001B[0m axs_t2[\u001B[38;5;241m1\u001B[39m]\u001B[38;5;241m.\u001B[39mplot(wait_times, areas_right, \u001B[38;5;124m'\u001B[39m\u001B[38;5;124mo\u001B[39m\u001B[38;5;124m'\u001B[39m, markersize\u001B[38;5;241m=\u001B[39m\u001B[38;5;241m6\u001B[39m, label\u001B[38;5;241m=\u001B[39m\u001B[38;5;124m'\u001B[39m\u001B[38;5;124mRight Peak Data\u001B[39m\u001B[38;5;124m'\u001B[39m)\n\u001B[0;32m      8\u001B[0m \u001B[38;5;66;03m# Plot fit lines with higher contrast against the data points\u001B[39;00m\n",
      "\u001B[1;31mNameError\u001B[0m: name 'areas_left' is not defined"
     ]
    },
    {
     "data": {
      "text/plain": [
       "<Figure size 800x600 with 2 Axes>"
      ],
      "image/png": "[encoded data removed]"
     },
     "metadata": {},
     "output_type": "display_data"
    }
   ],
   "execution_count": 32
  },
  {
   "metadata": {},
   "cell_type": "code",
   "source": "",
   "outputs": [],
   "execution_count": null
  },
  {
   "metadata": {
    "ExecuteTime": {
     "end_time": "2025-02-14T15:39:31.730534Z",
     "start_time": "2025-02-14T15:39:31.727544Z"
    }
   },
   "cell_type": "code",
   "source": "",
   "outputs": [],
   "execution_count": 32
  },
  {
   "metadata": {},
   "cell_type": "code",
   "outputs": [],
   "execution_count": null,
   "source": ""
  }
 ],
 "metadata": {
  "kernelspec": {
   "display_name": "Python 3 (ipykernel)",
   "language": "python",
   "name": "python3"
  },
  "language_info": {
   "codemirror_mode": {
    "name": "ipython",
    "version": 3
   },
   "file_extension": ".py",
   "mimetype": "text/x-python",
   "name": "python",
   "nbconvert_exporter": "python",
   "pygments_lexer": "ipython3",
   "version": "3.11.5"
  }
 },
 "nbformat": 4,
 "nbformat_minor": 4
}

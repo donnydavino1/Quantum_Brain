{
 "cells": [
  {
   "cell_type": "code",
   "id": "3bafed94-15a5-4ca1-af4d-ea6ebd204367",
   "metadata": {
    "ExecuteTime": {
     "end_time": "2025-01-16T19:10:35.733465Z",
     "start_time": "2025-01-16T19:10:35.726600Z"
    }
   },
   "source": [
    "#Note for psplt.plot_complex_density_matrix() to properly plot you will need to comment out the following from pulsee.plot source code: \n",
    "#idx, = np.where(abs(dm_data) < 0.001)\n",
    "#dm_data[idx] = abs(dm_data[idx])"
   ],
   "outputs": [],
   "execution_count": 7
  },
  {
   "cell_type": "code",
   "id": "86cd4f9e-243a-4398-9543-28b5b90c3088",
   "metadata": {
    "ExecuteTime": {
     "end_time": "2025-01-16T19:10:35.788608Z",
     "start_time": "2025-01-16T19:10:35.774835Z"
    }
   },
   "source": [
    "import numpy as np\n",
    "import qutip as qt\n",
    "import pulsee.plot as psplt\n",
    "import operators as op # \"import *\" is bad Python practice, but simplest way to do some math\n",
    "from sympy import symbols, Matrix, nsimplify\n",
    "\n",
    "\n",
    "# import pulsee.simulation as sim\n",
    "from plot_dm import plot_complex_density_matrix\n",
    "\n",
    "import tomography_helper_functions\n",
    "import tomography_helper_functions as helper\n",
    "# from tomography.tomography_helper_functions import projection_fortunato, plot_spectra_together\n",
    "# from tomography.tomography_helper_functions import index_to_element, integrate_simpson, integrate_optimized\n",
    "\n",
    "# import * is bad practice, but this is the easiest way to do quick theoretical calculations with this many variables.\n",
    "import operators as op\n",
    "import global_constants as glob\n",
    "from coeff_groups_class import CoefficientGroups\n",
    "\n",
    "from temporal_average import temporal_average"
   ],
   "outputs": [],
   "execution_count": 8
  },
  {
   "cell_type": "markdown",
   "id": "19ccd247-b9d4-4995-b9ef-9f01fafbf09b",
   "metadata": {},
   "source": [
    "# Calculating thermal state density matrix"
   ]
  },
  {
   "cell_type": "code",
   "id": "90f2af66-531e-44df-8f05-d9924621de34",
   "metadata": {
    "ExecuteTime": {
     "end_time": "2025-01-16T19:10:35.861049Z",
     "start_time": "2025-01-16T19:10:35.794252Z"
    }
   },
   "source": [
    "# Define symbolic constants\n",
    "hbar, w1, w2, k_b, T, = symbols('hbar w1 w2 k_b T')\n",
    "\n",
    "# Extract the numerical matrix from the Qobj as a NumPy array\n",
    "op.Iz_numpy = op.Iz.full()\n",
    "op.Sz_numpy = op.Sz.full()\n",
    "op.identity_numpy = op.IDENTITY.full()\n",
    "# Convert the NumPy array to a SymPy Matrix\n",
    "op.Iz_sympy = Matrix(op.Iz_numpy)\n",
    "op.Sz_sympy = Matrix(op.Sz_numpy)\n",
    "op.identity_sympy = Matrix(op.identity_numpy)\n",
    "\n",
    "thermal_density_matrix=(1/4)*op.identity_sympy+(1/4)*op.Iz_sympy*(hbar*w1/(k_b*T))+(1/4)*op.Sz_sympy*(hbar*w2/(k_b*T))\n",
    "thermal_density_matrix_simple = thermal_density_matrix.applyfunc(nsimplify)\n",
    "#spin dynamics pg 391\n",
    "#thermal_state = thermal_state.applyfunc(Rational)\n",
    "display(thermal_density_matrix_simple)\n",
    "#qutip_matrix = Qobj(numerical_matrix)   # Create the Qobj from the numerical matrix\n",
    "\n",
    "# Display the Qobj matrix\n",
    "#print(\"The resulting Qobj matrix is:\")\n",
    "#print(qutip_matrix)"
   ],
   "outputs": [
    {
     "data": {
      "text/plain": [
       "Matrix([\n",
       "[1/4 + hbar*w1/(8*T*k_b) + hbar*w2/(8*T*k_b),                                           0,                                           0,                                           0],\n",
       "[                                          0, 1/4 + hbar*w1/(8*T*k_b) - hbar*w2/(8*T*k_b),                                           0,                                           0],\n",
       "[                                          0,                                           0, 1/4 - hbar*w1/(8*T*k_b) + hbar*w2/(8*T*k_b),                                           0],\n",
       "[                                          0,                                           0,                                           0, 1/4 - hbar*w1/(8*T*k_b) - hbar*w2/(8*T*k_b)]])"
      ],
      "text/latex": "$\\displaystyle \\left[\\begin{matrix}\\frac{1}{4} + \\frac{\\hbar w_{1}}{8 T k_{b}} + \\frac{\\hbar w_{2}}{8 T k_{b}} & 0 & 0 & 0\\\\0 & \\frac{1}{4} + \\frac{\\hbar w_{1}}{8 T k_{b}} - \\frac{\\hbar w_{2}}{8 T k_{b}} & 0 & 0\\\\0 & 0 & \\frac{1}{4} - \\frac{\\hbar w_{1}}{8 T k_{b}} + \\frac{\\hbar w_{2}}{8 T k_{b}} & 0\\\\0 & 0 & 0 & \\frac{1}{4} - \\frac{\\hbar w_{1}}{8 T k_{b}} - \\frac{\\hbar w_{2}}{8 T k_{b}}\\end{matrix}\\right]$"
     },
     "metadata": {},
     "output_type": "display_data"
    }
   ],
   "execution_count": 9
  },
  {
   "cell_type": "code",
   "id": "fb39e4af-ee5e-4c22-9b47-bda493f9e3ce",
   "metadata": {
    "ExecuteTime": {
     "end_time": "2025-01-16T19:10:35.872927Z",
     "start_time": "2025-01-16T19:10:35.861049Z"
    }
   },
   "source": [
    "hbar = 1.054571817*10**-34 #J*s\n",
    "w1 = 202.4751925*10**6 #s^-1\n",
    "w2 = 202.4744409.4744409*10**6 #s^-1\n",
    "k_b = 1.380649*10**-23 #J*K^−1\n",
    "T = 310.15 #K\n",
    "thermal_density_matrix=(1/4)*op.identity_sympy+(1/4)*op.Iz_sympy*(hbar*w1/(k_b*T))+(1/4)*op.Sz_sympy*(hbar*w2/(k_b*T))\n",
    "thermal_density_matrix_simple = thermal_density_matrix.applyfunc(nsimplify)\n",
    "display(thermal_density_matrix_simple)\n",
    "\n",
    "# Convert SymPy matrix to NumPy array\n",
    "numpy_matrix = np.array(thermal_density_matrix).astype(np.complex128)\n",
    "# Convert NumPy array to Qobj\n",
    "thermal_density_matrix_Qobj= qt.Qobj(numpy_matrix, dims=[[2, 2], [2, 2]])\n",
    "plot_complex_density_matrix(thermal_density_matrix_Qobj)"
   ],
   "outputs": [
    {
     "ename": "SyntaxError",
     "evalue": "invalid syntax (3709673861.py, line 3)",
     "output_type": "error",
     "traceback": [
      "\u001B[1;36m  Cell \u001B[1;32mIn[10], line 3\u001B[1;36m\u001B[0m\n\u001B[1;33m    w2 = 242.95072202.4744409*10**6 #s^-1\u001B[0m\n\u001B[1;37m                     ^\u001B[0m\n\u001B[1;31mSyntaxError\u001B[0m\u001B[1;31m:\u001B[0m invalid syntax\n"
     ]
    }
   ],
   "execution_count": 10
  },
  {
   "cell_type": "markdown",
   "id": "864ddeef-cde2-4c99-8036-31f42eebfe21",
   "metadata": {},
   "source": [
    "# Calculating thermal state deviation density matrix"
   ]
  },
  {
   "cell_type": "code",
   "id": "bcbc1c18-4fea-4de0-b748-8e84d6da034a",
   "metadata": {},
   "source": [
    "hbar, w1, w2, k_b, T, = symbols('hbar w1 w2 k_b T')\n",
    "thermal_density_matrix =(1/4)*op.identity_sympy+(1/4)*op.Iz_sympy*(hbar*w1/(k_b*T))+(1/4)*op.Sz_sympy*(hbar*w2/(k_b*T))\n",
    "thermal_density_matrix_simple = thermal_density_matrix.applyfunc(nsimplify)\n",
    "thermal_deviation_density_matrix = thermal_density_matrix_simple - op.identity_sympy/4\n",
    "display(thermal_deviation_density_matrix)"
   ],
   "outputs": [],
   "execution_count": null
  },
  {
   "cell_type": "code",
   "id": "dc5b3708-5761-4035-a531-11552c47d203",
   "metadata": {},
   "source": [
    "hbar = 1.054571817*10**-34 #J*s\n",
    "w1 = 242.9516595*10**6 #s^-1\n",
    "w2 = 242.9507284*10**6 #s^-1\n",
    "k_b = 1.380649*10**-23 #J*K^−1\n",
    "T = 310.15 #K\n",
    "thermal_density_matrix=(1/4)*op.identity_sympy+(1/4)*op.Iz_sympy*(hbar*w1/(k_b*T))+(1/4)*op.Sz_sympy*(hbar*w2/(k_b*T))\n",
    "thermal_density_matrix_simple = thermal_density_matrix.applyfunc(nsimplify)\n",
    "thermal_deviation_density_matrix = thermal_density_matrix_simple - op.identity_sympy/4\n",
    "display(thermal_deviation_density_matrix)\n",
    "\n",
    "# Convert SymPy matrix to NumPy array\n",
    "numpy_matrix = np.array(thermal_deviation_density_matrix).astype(np.complex128)\n",
    "# Convert NumPy array to Qobj\n",
    "thermal_deviation_density_matrix_Qobj= qt.Qobj(numpy_matrix, dims=[[2, 2], [2, 2]])\n",
    "plot_complex_density_matrix(thermal_deviation_density_matrix_Qobj, zlim=(0,5*10**(-6)), show=True)\n",
    "#There seems to be an psplt.plot_complex_density_matrix() error here as the second term should be red!\n",
    "#psplt.plot_complex_density_matrix(op.Iz + op.Sz)\n",
    "#display(op.Iz + op.Sz)\n",
    "#display(thermal_deviation_density_matrix)"
   ],
   "outputs": [],
   "execution_count": null
  },
  {
   "cell_type": "code",
   "id": "315c7be8-7b68-4cc9-90dc-1b438eb84dc5",
   "metadata": {
    "ExecuteTime": {
     "end_time": "2025-01-16T19:10:35.887169Z",
     "start_time": "2025-01-16T19:10:35.876432Z"
    }
   },
   "source": [
    "(hbar*w1/(k_b*T))"
   ],
   "outputs": [
    {
     "data": {
      "text/plain": [
       "hbar*w1/(T*k_b)"
      ],
      "text/latex": "$\\displaystyle \\frac{\\hbar w_{1}}{T k_{b}}$"
     },
     "execution_count": 11,
     "metadata": {},
     "output_type": "execute_result"
    }
   ],
   "execution_count": 11
  },
  {
   "cell_type": "markdown",
   "id": "37207f1d-b409-4471-a098-5cb1a4c25a34",
   "metadata": {},
   "source": [
    "# Pure Density Matrix"
   ]
  },
  {
   "cell_type": "code",
   "id": "06768a71-b616-46f5-b34a-2993fc8256b8",
   "metadata": {
    "ExecuteTime": {
     "end_time": "2025-01-16T19:10:36.487943Z",
     "start_time": "2025-01-16T19:10:35.887169Z"
    }
   },
   "source": [
    "rho_1000 = qt.Qobj([[1, 0, 0, 0], [0, 0, 0, 0], [0, 0, 0, 0],  [0, 0, 0, 0]], dims=[[2, 2], [2, 2]])\n",
    "display(rho_1000)\n",
    "plot_complex_density_matrix(rho_1000)\n",
    "print(rho_1000)"
   ],
   "outputs": [
    {
     "data": {
      "text/plain": [
       "Quantum object: dims=[[2, 2], [2, 2]], shape=(4, 4), type='oper', dtype=Dense, isherm=True\n",
       "Qobj data =\n",
       "[[1. 0. 0. 0.]\n",
       " [0. 0. 0. 0.]\n",
       " [0. 0. 0. 0.]\n",
       " [0. 0. 0. 0.]]"
      ],
      "text/latex": "Quantum object: dims=[[2, 2], [2, 2]], shape=(4, 4), type='oper', dtype=Dense, isherm=True$$\\left(\\begin{array}{cc}1 & 0 & 0 & 0\\\\0 & 0 & 0 & 0\\\\0 & 0 & 0 & 0\\\\0 & 0 & 0 & 0\\end{array}\\right)$$"
     },
     "metadata": {},
     "output_type": "display_data"
    },
    {
     "name": "stderr",
     "output_type": "stream",
     "text": [
      "findfont: Font family ['STIXSizeTwoSym'] not found. Falling back to DejaVu Sans.\n",
      "findfont: Font family ['STIXSizeThreeSym'] not found. Falling back to DejaVu Sans.\n",
      "findfont: Font family ['cmsy10'] not found. Falling back to DejaVu Sans.\n",
      "findfont: Font family ['cmr10'] not found. Falling back to DejaVu Sans.\n",
      "findfont: Font family ['cmtt10'] not found. Falling back to DejaVu Sans.\n",
      "findfont: Font family ['cmmi10'] not found. Falling back to DejaVu Sans.\n",
      "findfont: Font family ['cmb10'] not found. Falling back to DejaVu Sans.\n",
      "findfont: Font family ['cmss10'] not found. Falling back to DejaVu Sans.\n",
      "findfont: Font family ['cmex10'] not found. Falling back to DejaVu Sans.\n",
      "findfont: Font family ['DejaVu Sans Mono'] not found. Falling back to DejaVu Sans.\n"
     ]
    },
    {
     "data": {
      "text/plain": [
       "<Figure size 640x480 with 2 Axes>"
      ],
      "image/png": "[encoded data removed]"
     },
     "metadata": {},
     "output_type": "display_data"
    },
    {
     "name": "stdout",
     "output_type": "stream",
     "text": [
      "Quantum object: dims=[[2, 2], [2, 2]], shape=(4, 4), type='oper', dtype=Dense, isherm=True\n",
      "Qobj data =\n",
      "[[1. 0. 0. 0.]\n",
      " [0. 0. 0. 0.]\n",
      " [0. 0. 0. 0.]\n",
      " [0. 0. 0. 0.]]\n"
     ]
    }
   ],
   "execution_count": 12
  },
  {
   "cell_type": "markdown",
   "id": "29258a29-cd08-438d-a5a1-124368233d47",
   "metadata": {},
   "source": [
    "# Pseudo-Pure Density Matrix"
   ]
  },
  {
   "cell_type": "code",
   "id": "39486147-fb14-45fa-b070-6c7859e4e6c1",
   "metadata": {
    "ExecuteTime": {
     "end_time": "2025-01-16T19:10:36.575495Z",
     "start_time": "2025-01-16T19:10:36.490621Z"
    }
   },
   "source": [
    "c=1/12*(hbar*w1/(k_b*T)) #see thesis for calculation of this term\n",
    "rho_1000_pseudo_pure_temporal = (1/4-c)*op.IDENTITY+4*c*qt.Qobj([[1, 0, 0, 0], [0, 0, 0, 0], [0, 0, 0, 0],  [0, 0, 0, 0]], dims=[[2, 2], [2, 2]])\n",
    "display(rho_1000_pseudo_pure_temporal)\n",
    "psplt.plot_complex_density_matrix(rho_1000_pseudo_pure_temporal)\n",
    "print(rho_1000_pseudo_pure_temporal)"
   ],
   "outputs": [
    {
     "ename": "TypeError",
     "evalue": "unsupported operand type(s) for *: 'Add' and 'Qobj'",
     "output_type": "error",
     "traceback": [
      "\u001B[1;31m---------------------------------------------------------------------------\u001B[0m",
      "\u001B[1;31mTypeError\u001B[0m                                 Traceback (most recent call last)",
      "Cell \u001B[1;32mIn[13], line 2\u001B[0m\n\u001B[0;32m      1\u001B[0m c\u001B[38;5;241m=\u001B[39m\u001B[38;5;241m1\u001B[39m\u001B[38;5;241m/\u001B[39m\u001B[38;5;241m12\u001B[39m\u001B[38;5;241m*\u001B[39m(hbar\u001B[38;5;241m*\u001B[39mw1\u001B[38;5;241m/\u001B[39m(k_b\u001B[38;5;241m*\u001B[39mT)) \u001B[38;5;66;03m#see thesis for calculation of this term\u001B[39;00m\n\u001B[1;32m----> 2\u001B[0m rho_1000_pseudo_pure_temporal \u001B[38;5;241m=\u001B[39m (\u001B[38;5;241m1\u001B[39m\u001B[38;5;241m/\u001B[39m\u001B[38;5;241m4\u001B[39m\u001B[38;5;241m-\u001B[39mc)\u001B[38;5;241m*\u001B[39mop\u001B[38;5;241m.\u001B[39mIDENTITY\u001B[38;5;241m+\u001B[39m\u001B[38;5;241m4\u001B[39m\u001B[38;5;241m*\u001B[39mc\u001B[38;5;241m*\u001B[39mqt\u001B[38;5;241m.\u001B[39mQobj([[\u001B[38;5;241m1\u001B[39m, \u001B[38;5;241m0\u001B[39m, \u001B[38;5;241m0\u001B[39m, \u001B[38;5;241m0\u001B[39m], [\u001B[38;5;241m0\u001B[39m, \u001B[38;5;241m0\u001B[39m, \u001B[38;5;241m0\u001B[39m, \u001B[38;5;241m0\u001B[39m], [\u001B[38;5;241m0\u001B[39m, \u001B[38;5;241m0\u001B[39m, \u001B[38;5;241m0\u001B[39m, \u001B[38;5;241m0\u001B[39m],  [\u001B[38;5;241m0\u001B[39m, \u001B[38;5;241m0\u001B[39m, \u001B[38;5;241m0\u001B[39m, \u001B[38;5;241m0\u001B[39m]], dims\u001B[38;5;241m=\u001B[39m[[\u001B[38;5;241m2\u001B[39m, \u001B[38;5;241m2\u001B[39m], [\u001B[38;5;241m2\u001B[39m, \u001B[38;5;241m2\u001B[39m]])\n\u001B[0;32m      3\u001B[0m display(rho_1000_pseudo_pure_temporal)\n\u001B[0;32m      4\u001B[0m psplt\u001B[38;5;241m.\u001B[39mplot_complex_density_matrix(rho_1000_pseudo_pure_temporal)\n",
      "\u001B[1;31mTypeError\u001B[0m: unsupported operand type(s) for *: 'Add' and 'Qobj'"
     ]
    }
   ],
   "execution_count": 13
  },
  {
   "metadata": {
    "ExecuteTime": {
     "end_time": "2025-01-16T19:14:08.512654Z",
     "start_time": "2025-01-16T19:14:08.501866Z"
    }
   },
   "cell_type": "code",
   "source": [
    "hbar = 1.054571817*10**-34 #J*s\n",
    "w1 = 202.4751925*10**6 #s^-1\n",
    "w2 = 202.4744409*10**6 #s^-1\n",
    "k_b = 1.380649*10**-23 #J*K^−1\n",
    "T = 310.15 #K\n",
    "n=2\n",
    "\n",
    "hbar*w1/(2**n*k_b*T)"
   ],
   "id": "e5be08d5394aa985",
   "outputs": [
    {
     "data": {
      "text/plain": [
       "1.2466166463846568e-06"
      ]
     },
     "execution_count": 17,
     "metadata": {},
     "output_type": "execute_result"
    }
   ],
   "execution_count": 17
  },
  {
   "metadata": {
    "ExecuteTime": {
     "end_time": "2025-01-16T19:16:46.488673Z",
     "start_time": "2025-01-16T19:16:46.482188Z"
    }
   },
   "cell_type": "code",
   "source": [
    "n=12\n",
    "1/(1+2**(2*n-1))"
   ],
   "id": "6f60aacfd3edae9a",
   "outputs": [
    {
     "data": {
      "text/plain": [
       "1.1920927533992823e-07"
      ]
     },
     "execution_count": 24,
     "metadata": {},
     "output_type": "execute_result"
    }
   ],
   "execution_count": 24
  },
  {
   "metadata": {
    "ExecuteTime": {
     "end_time": "2025-01-16T19:21:33.747257Z",
     "start_time": "2025-01-16T19:21:33.742002Z"
    }
   },
   "cell_type": "code",
   "source": [
    "n=28\n",
    "n/(2**(n))"
   ],
   "id": "6bff2b1473034369",
   "outputs": [
    {
     "data": {
      "text/plain": [
       "1.043081283569336e-07"
      ]
     },
     "execution_count": 35,
     "metadata": {},
     "output_type": "execute_result"
    }
   ],
   "execution_count": 35
  },
  {
   "metadata": {},
   "cell_type": "code",
   "outputs": [],
   "execution_count": null,
   "source": "",
   "id": "5c95b92a86b64b09"
  }
 ],
 "metadata": {
  "kernelspec": {
   "display_name": "Python 3 (ipykernel)",
   "language": "python",
   "name": "python3"
  },
  "language_info": {
   "codemirror_mode": {
    "name": "ipython",
    "version": 3
   },
   "file_extension": ".py",
   "mimetype": "text/x-python",
   "name": "python",
   "nbconvert_exporter": "python",
   "pygments_lexer": "ipython3",
   "version": "3.11.7"
  }
 },
 "nbformat": 4,
 "nbformat_minor": 5
}

{
 "cells": [
  {
   "cell_type": "code",
   "execution_count": 1,
   "id": "13cd371e-56a0-47d3-ba3e-146ed717d42d",
   "metadata": {},
   "outputs": [],
   "source": [
    "import sympy as sp\n",
    "import qutip as qt\n",
    "import numpy as np\n",
    "from tqdm import trange\n",
    "\n",
    "from sympy.physics import quantum as spq\n",
    "from sympy.physics.quantum.dagger import Dagger as spq_Dag\n",
    "\n",
    "from scipy.signal import find_peaks\n",
    "import matplotlib.pyplot as plt\n",
    "\n",
    "(Ix, Iy, Iz) = qt.spin_J_set(1/2)\n",
    "Ix2 = Ix**2\n",
    "Iy2 = Iy**2\n",
    "Iz2 = Iz**2\n",
    "Im = Ix - 1j*Iy\n",
    "Ip = Ix + 1j*Iy\n",
    "I2 = Ix**2+Iy**2\n",
    "Id = qt.qeye(2)\n",
    "IdId = qt.tensor(Id, Id)\n",
    "vals = np.round(Iz.eigenstates()[0], 1)\n",
    "vects = -Iz.eigenstates()[1]\n",
    "dw = vects[0]\n",
    "up = vects[1]\n",
    "upup = qt.tensor(up, up)\n",
    "upup_dm = upup * upup.dag()\n",
    "\n",
    "vals = np.round(Ix.eigenstates()[0], 1)\n",
    "vects = -Ix.eigenstates()[1]\n",
    "xp = -vects[1]\n",
    "xm = vects[0]\n",
    "\n",
    "vals = np.round(Iy.eigenstates()[0], 1)\n",
    "vects = -Iy.eigenstates()[1]\n",
    "yp = vects[1]\n",
    "ym = vects[0]\n",
    "\n",
    "def diag_exp(x):\n",
    "    l = len(x)\n",
    "    i = int(np.sqrt(l))\n",
    "    for j in range(0, l, i+1):\n",
    "        x[j] = sp.exp(sp.nsimplify(x[j]))\n",
    "    return x\n",
    "    \n",
    "def pulserize(pulse_duration, rot_axis):\n",
    "    return (-1j*pulse_duration*rot_axis).expm()\n",
    "\n",
    "def sp_matrix(it):\n",
    "    return sp.Matrix(np.array(it))\n",
    "\n",
    "def round_expr(expr, num_digits):\n",
    "    return expr.xreplace({n : round(n, num_digits) for n in expr.atoms(sp.Number)})"
   ]
  },
  {
   "cell_type": "code",
   "execution_count": 2,
   "id": "f2b6142b-a00b-433d-a0f5-d7f58c929150",
   "metadata": {},
   "outputs": [],
   "source": [
    "def create_symbol_dict(symbol, real, upper_limit=5):\n",
    "    '''symbol : str\n",
    "    '''\n",
    "    x = {}\n",
    "    for i in range(1, upper_limit):\n",
    "        for j in range(1, upper_limit):\n",
    "            if i==j:\n",
    "                if real:\n",
    "                    x[i, j] = sp.Symbol('{}{}{}'.format(symbol, i, j), real=True)\n",
    "            else:\n",
    "                x[i, j] = sp.Symbol('{}{}{}'.format(symbol, i, j), real=True)\n",
    "                    \n",
    "    return x"
   ]
  },
  {
   "cell_type": "code",
   "execution_count": 3,
   "id": "c63d58dd-6706-41f8-a4c0-29f9748c5fb5",
   "metadata": {},
   "outputs": [],
   "source": [
    "x = create_symbol_dict('x', True)\n",
    "y = create_symbol_dict('y', False)\n",
    "t, w_0, w_1, red_J = sp.symbols('t omega0 omega1 J', real=True)"
   ]
  },
  {
   "cell_type": "code",
   "execution_count": 4,
   "id": "7184eb37-5f39-4fa4-a4a0-70cd055854eb",
   "metadata": {},
   "outputs": [],
   "source": [
    "matrix = []\n",
    "for i in range(1, 5):\n",
    "    row = []\n",
    "    for j in range(1, 5):\n",
    "        if i == j:\n",
    "            row.append(x[i, j])\n",
    "        else:\n",
    "            row.append(x[i, j] + 1j * y[i, j])\n",
    "    matrix.append(row)"
   ]
  },
  {
   "cell_type": "code",
   "execution_count": 5,
   "id": "b17209e4-110a-4dd8-8ec0-36c8fa6fc72c",
   "metadata": {},
   "outputs": [],
   "source": [
    "D_rho = sp.Matrix(matrix)"
   ]
  },
  {
   "cell_type": "code",
   "execution_count": 6,
   "id": "cfd84155-ba5e-42ed-a877-5006235c1082",
   "metadata": {},
   "outputs": [
    {
     "data": {
      "text/latex": [
       "$\\displaystyle \\left[\\begin{matrix}x_{11} & x_{12} + 1.0 i y_{12} & x_{13} + 1.0 i y_{13} & x_{14} + 1.0 i y_{14}\\\\x_{21} + 1.0 i y_{21} & x_{22} & x_{23} + 1.0 i y_{23} & x_{24} + 1.0 i y_{24}\\\\x_{31} + 1.0 i y_{31} & x_{32} + 1.0 i y_{32} & x_{33} & x_{34} + 1.0 i y_{34}\\\\x_{41} + 1.0 i y_{41} & x_{42} + 1.0 i y_{42} & x_{43} + 1.0 i y_{43} & x_{44}\\end{matrix}\\right]$"
      ],
      "text/plain": [
       "Matrix([\n",
       "[            x11, x12 + 1.0*I*y12, x13 + 1.0*I*y13, x14 + 1.0*I*y14],\n",
       "[x21 + 1.0*I*y21,             x22, x23 + 1.0*I*y23, x24 + 1.0*I*y24],\n",
       "[x31 + 1.0*I*y31, x32 + 1.0*I*y32,             x33, x34 + 1.0*I*y34],\n",
       "[x41 + 1.0*I*y41, x42 + 1.0*I*y42, x43 + 1.0*I*y43,             x44]])"
      ]
     },
     "execution_count": 6,
     "metadata": {},
     "output_type": "execute_result"
    }
   ],
   "source": [
    "D_rho"
   ]
  },
  {
   "cell_type": "code",
   "execution_count": 7,
   "id": "d9e994f4-ead1-4a37-a61f-2b63c0a52c4a",
   "metadata": {},
   "outputs": [],
   "source": [
    "#detection on both nuclei \n",
    "Detect = sp_matrix(qt.tensor(Ip, Id) + qt.tensor(Id, Ip))\n",
    "\n",
    "#define the hamiltonain and the evolution operator\n",
    "H_0 = w_0*sp_matrix(qt.tensor(Iz, Id)) + w_1*sp_matrix(qt.tensor(Id, Iz))\n",
    "H_1 = 2*sp.pi*red_J*sp_matrix(qt.tensor(Iz, Iz))\n",
    "U = sp.exp(-1j * t * H_0) * diag_exp(-1j * t * H_1)"
   ]
  },
  {
   "cell_type": "code",
   "execution_count": 8,
   "id": "46caf1f0-f8ce-45e5-9506-18115048c8ce",
   "metadata": {},
   "outputs": [
    {
     "name": "stderr",
     "output_type": "stream",
     "text": [
      "100%|███████████████████████████████████████████████████████████████████████████████████| 3/3 [05:45<00:00, 115.14s/it]\n"
     ]
    }
   ],
   "source": [
    "rho = []\n",
    "operations = [] \n",
    "ops_str = ['Id', 'Ix', 'Iy']\n",
    "ops = [Id, Ix, Iy]\n",
    "i = 0\n",
    "for op1 in trange(len(ops)):\n",
    "    R1 = sp_matrix(pulserize(-np.pi/2, qt.tensor(ops[op1], Id)))\n",
    "    for op2 in range(len(ops)):\n",
    "        R2 = sp_matrix(pulserize(-np.pi/2, qt.tensor(Id, ops[op2])))\n",
    "        if op1 == op2 == 0:\n",
    "            M = spq_Dag(U) * spq_Dag(D_rho) * U * Detect \n",
    "        else:\n",
    "            M = spq_Dag(U) * spq_Dag(R2) * spq_Dag(R1) * D_rho * R1 * R2 * U * Detect\n",
    "        rho.append(sp.simplify(sp.Trace(M)))\n",
    "        operations.append('{}(x){}'.format(ops_str[op1], ops_str[op2]))"
   ]
  },
  {
   "cell_type": "code",
   "execution_count": 9,
   "id": "23b8d6cd-e42a-4971-a905-4a66571bff02",
   "metadata": {},
   "outputs": [
    {
     "data": {
      "text/plain": [
       "'Id(x)Id'"
      ]
     },
     "execution_count": 9,
     "metadata": {},
     "output_type": "execute_result"
    }
   ],
   "source": [
    "operations[0]"
   ]
  },
  {
   "cell_type": "code",
   "execution_count": 10,
   "id": "a3a58b95-3bec-4b97-98e0-185ca728ee2d",
   "metadata": {},
   "outputs": [
    {
     "data": {
      "text/latex": [
       "$\\displaystyle \\left[\\begin{matrix}0 & 1.0 e^{- 0.5 i t \\left(\\omega_{0} + \\omega_{1}\\right)} e^{- \\frac{i \\pi J t}{2}} & 1.0 e^{- 0.5 i t \\left(\\omega_{0} + \\omega_{1}\\right)} e^{- \\frac{i \\pi J t}{2}} & 0\\\\0 & 0 & 0 & 1.0 e^{- 0.5 i t \\left(\\omega_{0} - \\omega_{1}\\right)} e^{\\frac{i \\pi J t}{2}}\\\\0 & 0 & 0 & 1.0 e^{0.5 i t \\left(\\omega_{0} - \\omega_{1}\\right)} e^{\\frac{i \\pi J t}{2}}\\\\0 & 0 & 0 & 0\\end{matrix}\\right]$"
      ],
      "text/plain": [
       "Matrix([\n",
       "[0, 1.0*exp(-0.5*I*t*(omega0 + omega1))*exp(-I*pi*J*t/2), 1.0*exp(-0.5*I*t*(omega0 + omega1))*exp(-I*pi*J*t/2),                                                   0],\n",
       "[0,                                                    0,                                                    0, 1.0*exp(-0.5*I*t*(omega0 - omega1))*exp(I*pi*J*t/2)],\n",
       "[0,                                                    0,                                                    0,  1.0*exp(0.5*I*t*(omega0 - omega1))*exp(I*pi*J*t/2)],\n",
       "[0,                                                    0,                                                    0,                                                   0]])"
      ]
     },
     "execution_count": 10,
     "metadata": {},
     "output_type": "execute_result"
    }
   ],
   "source": [
    "U * Detect "
   ]
  },
  {
   "cell_type": "code",
   "execution_count": 11,
   "id": "302c45df-766c-42d4-b03c-27f161d47e0d",
   "metadata": {},
   "outputs": [
    {
     "data": {
      "text/latex": [
       "$\\displaystyle 1.0 \\left(x_{12} - i y_{12}\\right) e^{i t \\left(- \\pi J - 1.0 \\omega_{1}\\right)} + 1.0 \\left(x_{13} - i y_{13}\\right) e^{- i t \\left(\\pi J + 1.0 \\omega_{0}\\right)} + 1.0 \\left(\\left(x_{24} - i y_{24}\\right) e^{i t \\left(\\pi J + 0.5 \\omega_{0} + 0.5 \\omega_{1}\\right)} + \\left(x_{34} - i y_{34}\\right) e^{i t \\left(\\pi J + 1.5 \\omega_{0} - 0.5 \\omega_{1}\\right)}\\right) e^{- i t \\left(1.5 \\omega_{0} + 0.5 \\omega_{1}\\right)}$"
      ],
      "text/plain": [
       "1.0*(x12 - I*y12)*exp(I*t*(-pi*J - 1.0*omega1)) + 1.0*(x13 - I*y13)*exp(-I*t*(pi*J + 1.0*omega0)) + 1.0*((x24 - I*y24)*exp(I*t*(pi*J + 0.5*omega0 + 0.5*omega1)) + (x34 - I*y34)*exp(I*t*(pi*J + 1.5*omega0 - 0.5*omega1)))*exp(-I*t*(1.5*omega0 + 0.5*omega1))"
      ]
     },
     "execution_count": 11,
     "metadata": {},
     "output_type": "execute_result"
    }
   ],
   "source": [
    "rho[0]"
   ]
  },
  {
   "cell_type": "code",
   "execution_count": null,
   "id": "0bac1afa-ea15-4de3-a0e3-eb1d01639888",
   "metadata": {},
   "outputs": [],
   "source": []
  }
 ],
 "metadata": {
  "kernelspec": {
   "display_name": "Python 3 (ipykernel)",
   "language": "python",
   "name": "python3"
  },
  "language_info": {
   "codemirror_mode": {
    "name": "ipython",
    "version": 3
   },
   "file_extension": ".py",
   "mimetype": "text/x-python",
   "name": "python",
   "nbconvert_exporter": "python",
   "pygments_lexer": "ipython3",
   "version": "3.11.7"
  }
 },
 "nbformat": 4,
 "nbformat_minor": 5
}

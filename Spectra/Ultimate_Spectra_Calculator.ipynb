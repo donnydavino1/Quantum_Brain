{
 "cells": [
  {
   "cell_type": "code",
   "id": "initial_id",
   "metadata": {
    "collapsed": true,
    "ExecuteTime": {
     "end_time": "2024-12-15T16:42:25.434109Z",
     "start_time": "2024-12-15T16:42:25.428108Z"
    }
   },
   "source": [
    "import operators as op\n",
    "import qutip as qt\n",
    "import sympy as sp\n",
    "import numpy as np\n",
    "import matplotlib.pyplot as plt\n",
    "\n",
    "from sympy import Matrix"
   ],
   "outputs": [],
   "execution_count": 82
  },
  {
   "metadata": {
    "ExecuteTime": {
     "end_time": "2024-12-15T16:42:25.572155Z",
     "start_time": "2024-12-15T16:42:25.543216Z"
    }
   },
   "cell_type": "code",
   "source": [
    "def dagger(matrix):\n",
    "    return matrix.conjugate().transpose()\n",
    "\n",
    "\n",
    "def rotation_sympy(axis, angle):\n",
    "    \"\"\"\n",
    "    Constructs a rotation operator using SymPy for a single qubit.\n",
    "\n",
    "    Parameters:\n",
    "        axis (str): 'x', 'y', or 'z' indicating the rotation axis.\n",
    "        angle (Symbol or float): Rotation angle in radians.\n",
    "\n",
    "    Returns:\n",
    "        Matrix: The rotation operator as a SymPy matrix.\n",
    "    \"\"\"\n",
    "    # Define Pauli matrices as SymPy matrices\n",
    "    sigma_x = sp.Matrix([[0, 1], [1, 0]])\n",
    "    sigma_y = sp.Matrix([[0, -sp.I], [sp.I, 0]])\n",
    "    sigma_z = sp.Matrix([[1, 0], [0, -1]])\n",
    "    \n",
    "    # Select the correct axis\n",
    "    if axis == 'x':\n",
    "        pauli = sigma_x\n",
    "    elif axis == 'y':\n",
    "        pauli = sigma_y\n",
    "    elif axis == 'z':\n",
    "        pauli = sigma_z\n",
    "    else:\n",
    "        raise ValueError(\"Axis must be 'x', 'y', or 'z'.\")\n",
    "\n",
    "    # Compute the rotation operator\n",
    "    return sp.exp(-sp.I * angle / 2 * pauli)\n",
    "\n",
    "\n",
    "def rotation_qutip(axis, angle):\n",
    "    \"\"\"\n",
    "    Constructs a rotation operator using QuTiP for a single qubit.\n",
    "\n",
    "    Parameters:\n",
    "        axis (str): 'x', 'y', or 'z' indicating the rotation axis.\n",
    "        angle (float): Rotation angle in radians.\n",
    "\n",
    "    Returns:\n",
    "        Qobj: The rotation operator as a QuTiP quantum object.\n",
    "    \"\"\"\n",
    "    # Define Pauli matrices as QuTiP Qobjs\n",
    "    sigma_x = qt.sigmax()\n",
    "    sigma_y = qt.sigmay()\n",
    "    sigma_z = qt.sigmaz()\n",
    "    \n",
    "    # Select the correct axis\n",
    "    if axis == 'x':\n",
    "        pauli = sigma_x\n",
    "    elif axis == 'y':\n",
    "        pauli = sigma_y\n",
    "    elif axis == 'z':\n",
    "        pauli = sigma_z\n",
    "    else:\n",
    "        raise ValueError(\"Axis must be 'x', 'y', or 'z'.\")\n",
    "\n",
    "    # Compute the rotation operator\n",
    "    return (-1j * angle / 2 * pauli).expm()\n",
    "\n",
    "def process(matrix):\n",
    "    \"\"\"\n",
    "    Converts a 4x4 matrix to SymPy form if it is a QuTiP Qobj.\n",
    "    Leaves it unchanged if it is already a SymPy matrix.\n",
    "\n",
    "    Parameters:\n",
    "        matrix: Input matrix (Qutip.Qobj or SymPy.Matrix).\n",
    "\n",
    "    Returns:\n",
    "        SymPy.Matrix: The converted or unchanged SymPy matrix.\n",
    "    \"\"\"\n",
    "    if isinstance(matrix, qt.Qobj):\n",
    "        # Check if the Qobj is 4x4 based on its shape\n",
    "        if matrix.shape == (4, 4):\n",
    "            return sp.Matrix(matrix.full())\n",
    "        else:\n",
    "            raise ValueError(\"Input Qobj must be a 4x4 matrix.\")\n",
    "    elif isinstance(matrix, sp.Matrix):\n",
    "        # If already a SymPy matrix, return it unchanged\n",
    "        return matrix\n",
    "    else:\n",
    "        raise TypeError(\"Input must be either a Qutip Qobj or a SymPy Matrix.\")\n",
    "\n",
    "def FT(signal, times, abs=False, padding=None):\n",
    "    \"\"\"\n",
    "    Computes the Fourier transform of the passed time-dependent signal.\n",
    "\n",
    "    Parameters\n",
    "    ----------\n",
    "     - `signal`: array-like:\n",
    "              Sampled signal to be transformed in the frequency domain (in a.u.).\n",
    "    - `times`: array-like\n",
    "             Sampled time domain (in microseconds).\n",
    "    - `abs`: Boolean \n",
    "             Whether to return the absolute value of the computer Fourier transform. \n",
    "    - `padding`: Integer\n",
    "             Amount of zero-padding to add to signal in the power of zeroes.\n",
    "    \n",
    "    Returns\n",
    "    -------\n",
    "    The frequency and fourier-transformed signal as a tuple (f, ft)\n",
    "    \"\"\"\n",
    "    if padding is not None: \n",
    "        # This code by Stephen Carr\n",
    "        nt = len(times) #number of points\n",
    "        \n",
    "        # zero pad the ends to \"interpolate\" in frequency domain\n",
    "        zn = padding # power of zeros\n",
    "        N_z = 2 * (2 ** zn) + nt # number of elements in padded array\n",
    "        zero_pad = np.zeros(N_z, dtype=complex)\n",
    "        \n",
    "        M0_trunc_z = zero_pad\n",
    "        num = 2 ** zn\n",
    "        M0_trunc_z[num:(num + nt)] = signal\n",
    "        \n",
    "        # figure out the \"frequency axis\" after the FFT\n",
    "        dt = times[2] - times[1]\n",
    "        Fs = 1.0 / dt # max frequency sampling\n",
    "\n",
    "        # axis goes from - Fs / 2 to Fs / 2, with N_z steps\n",
    "        freq_ax = ((np.linspace(0, N_z, N_z) - 1/2) / N_z - 1/2) * Fs\n",
    "        \n",
    "        M_fft = np.fft.fftshift(np.fft.fft(np.fft.fftshift(M0_trunc_z)))\n",
    "        if abs:\n",
    "            M_fft = np.abs(M_fft)\n",
    "        return freq_ax, M_fft\n",
    "\n",
    "    ft = np.fft.fft(signal)\n",
    "    freq = np.fft.fftfreq(len(times), (times[-1] - times[0]) / len(times))\n",
    "    if abs: \n",
    "        ft = np.abs(ft)\n",
    "    return freq, ft"
   ],
   "id": "cfcf2df8dc36daf7",
   "outputs": [],
   "execution_count": 83
  },
  {
   "metadata": {
    "ExecuteTime": {
     "end_time": "2024-12-15T16:42:25.652034Z",
     "start_time": "2024-12-15T16:42:25.577717Z"
    }
   },
   "cell_type": "code",
   "source": [
    "(Ix, Iy, Iz) = qt.spin_J_set(1/2) #note sigma_x and Ix are off by a factor of 2\n",
    "a, b, c, d, t, J = sp.Symbol('a'), sp.Symbol('b'), sp.Symbol('c'), sp.Symbol('d'), sp.Symbol('t', real=True), sp.Symbol('J', real=True)\n",
    "sigma_x = qt.sigmax()  # Pauli X\n",
    "sigma_y = qt.sigmay()  # Pauli Y\n",
    "sigma_z = qt.sigmaz()  # Pauli Z\n",
    "\n",
    "Id = qt.qeye(2)\n",
    "Id_sympy = sp.Matrix(Id.full())\n",
    "\n",
    "CLEAN_1000=op.CLEAN_1000\n",
    "rho_variable = sp.Matrix([[a, 0, 0, 0],[0, b, 0, 0],[0, 0, c, 0], [0, 0, 0, d]])\n",
    "rho_thermal = sp.Matrix([[a, 0, 0, 0],[0, 0, 0, 0],[0, 0, 0, 0], [0, 0, 0, -a]])\n",
    "\n",
    "Vs_Q1=1   #Voltage scale\n",
    "Vs_Q2=1   #Voltage scale\n",
    "Omega_1=0\n",
    "Omega_2=-763.43\n",
    "\n",
    "H= 2 * sp.pi * J * sp.Matrix(op.IzSz.full()) + Omega_1*sp.Matrix(op.Iz.full()) + Omega_2*sp.Matrix(op.Sz.full())\n",
    "\n",
    "#There were errors with trying gto do tensor product in sympy and then reshape. More reliable to do with Qutip\n",
    "R_x90=rotation_qutip('x', sp.pi/2)\n",
    "R_y90=rotation_qutip('y', sp.pi/2)\n",
    "R_minus_x90=rotation_qutip('x', -sp.pi/2)\n",
    "R_minus_y90=rotation_qutip('y', -sp.pi/2)"
   ],
   "id": "d7a9bdddefe68dad",
   "outputs": [],
   "execution_count": 84
  },
  {
   "metadata": {
    "ExecuteTime": {
     "end_time": "2024-12-15T16:42:25.981521Z",
     "start_time": "2024-12-15T16:42:25.655655Z"
    }
   },
   "cell_type": "code",
   "source": [
    "pi=np.pi\n",
    "rho_0 = sp.Matrix([[a, 0, 0, 0],[0, b, 0, 0],[0, 0, c, 0], [0, 0, 0, d]])\n",
    "ta_1 = op.Rx_I(pi/2) * op.UJ * op.Rx_S(pi/2) * op.Ry_I(pi/2) * op.UJ * op.Ry_S(pi/2)\n",
    "rho_1 = ta_1 * rho_variable * ta_1.dag()\n",
    "rho_1 = rho_1.applyfunc(lambda x: sp.nsimplify(x, rational=False, tolerance=1e-10)) \n",
    "display(rho_1)\n",
    "\n",
    "rho_variable = sp.Matrix([[a, 0, 0, 0],[0, b, 0, 0],[0, 0, c, 0], [0, 0, 0, d]])\n",
    "ta_2 = op.Rx_S(pi/2) * op.UJ * op.Ry_S(pi/2) * op.Rx_I(pi/2) * op.UJ * op.Ry_I(pi/2)\n",
    "rho_2 = ta_2 * rho_variable* ta_2.dag()\n",
    "rho_2 = rho_2.applyfunc(lambda x: sp.nsimplify(x, rational=False, tolerance=1e-10)) \n",
    "display(rho_2)"
   ],
   "id": "b2075919930b53f8",
   "outputs": [
    {
     "data": {
      "text/plain": [
       "Matrix([\n",
       "[a, 0, 0, 0],\n",
       "[0, c, 0, 0],\n",
       "[0, 0, d, 0],\n",
       "[0, 0, 0, b]])"
      ],
      "text/latex": "$\\displaystyle \\left[\\begin{matrix}a & 0 & 0 & 0\\\\0 & c & 0 & 0\\\\0 & 0 & d & 0\\\\0 & 0 & 0 & b\\end{matrix}\\right]$"
     },
     "metadata": {},
     "output_type": "display_data"
    },
    {
     "data": {
      "text/plain": [
       "Matrix([\n",
       "[a, 0, 0, 0],\n",
       "[0, d, 0, 0],\n",
       "[0, 0, b, 0],\n",
       "[0, 0, 0, c]])"
      ],
      "text/latex": "$\\displaystyle \\left[\\begin{matrix}a & 0 & 0 & 0\\\\0 & d & 0 & 0\\\\0 & 0 & b & 0\\\\0 & 0 & 0 & c\\end{matrix}\\right]$"
     },
     "metadata": {},
     "output_type": "display_data"
    }
   ],
   "execution_count": 85
  },
  {
   "metadata": {},
   "cell_type": "markdown",
   "source": "# Define \"rho\" and \"Readout_pulse\"",
   "id": "264ea9fec3cf409f"
  },
  {
   "metadata": {
    "ExecuteTime": {
     "end_time": "2024-12-15T16:42:25.988017Z",
     "start_time": "2024-12-15T16:42:25.982525Z"
    }
   },
   "cell_type": "code",
   "source": [
    "rho=process(rho_0) #takes in standard qutip or Sympy form as used above\n",
    "\n",
    "#Q1 Readout\n",
    "Readout_pulse_Q1=R_x90 #This can be changed depending on the readout pulse. This can currently only take in spin 1 rotations\n",
    "\n",
    "#Q2 Readout\n",
    "Readout_pulse_Q2=Id#This can be changed depending on the readout pulse. This can currently only take in spin 1 rotations"
   ],
   "id": "3b4c64bf54424e4f",
   "outputs": [],
   "execution_count": 86
  },
  {
   "metadata": {
    "ExecuteTime": {
     "end_time": "2024-12-15T16:42:26.024617Z",
     "start_time": "2024-12-15T16:42:25.990066Z"
    }
   },
   "cell_type": "code",
   "source": [
    "Readout_Operator_Q1=sp.Matrix(qt.tensor(Readout_pulse_Q1,Id).full()) #This can currently only take in spin 1 rotations. #Note #Rx(π/2)⊗I is different from op.Ix\n",
    "# Replace numerical approximations with exact values\n",
    "Readout_Operator_Q1_Sympy = Readout_Operator_Q1.applyfunc(lambda x: sp.nsimplify(x, rational=False, tolerance=1e-10)) \n",
    "#display(Readout_Operator_Sympy)\n",
    "\n",
    "Readout_Operator_Q2=sp.Matrix(qt.tensor(Id, Readout_pulse_Q2).full()) #This can currently only take in spin 1 rotations. #Note #Rx(π/2)⊗I is different from op.Ix\n",
    "# Replace numerical approximations with exact values\n",
    "Readout_Operator_Q2_Sympy = Readout_Operator_Q2.applyfunc(lambda x: sp.nsimplify(x, rational=False, tolerance=1e-10)) \n",
    "#display(Readout_Operator_Sympy)"
   ],
   "id": "d869672b439123dd",
   "outputs": [],
   "execution_count": 87
  },
  {
   "metadata": {
    "ExecuteTime": {
     "end_time": "2024-12-15T16:42:29.178616Z",
     "start_time": "2024-12-15T16:42:26.025622Z"
    }
   },
   "cell_type": "code",
   "source": [
    "M_Q1 = sp.simplify(- dagger(Readout_Operator_Q1_Sympy) * sp.exp(1j * H * t)  * sp.Matrix(qt.tensor(1j*sigma_x +sigma_y,Id).full()) * sp.exp(-1j * H * t) * Readout_Operator_Q1_Sympy)\n",
    "\n",
    "M_Q2 = sp.simplify(- dagger(Readout_Operator_Q2_Sympy) * sp.exp(1j * H * t)  * sp.Matrix(qt.tensor(Id,1j*sigma_x +sigma_y).full()) * sp.exp(-1j * H * t) * Readout_Operator_Q2_Sympy)"
   ],
   "id": "39ae81b73a2edfc0",
   "outputs": [],
   "execution_count": 88
  },
  {
   "metadata": {
    "ExecuteTime": {
     "end_time": "2024-12-15T16:42:29.210815Z",
     "start_time": "2024-12-15T16:42:29.180720Z"
    }
   },
   "cell_type": "code",
   "source": [
    "display(M_Q1)\n",
    "display(M_Q2)"
   ],
   "id": "1a5d2973b92987bf",
   "outputs": [
    {
     "data": {
      "text/plain": [
       "Matrix([\n",
       "[   1.0*exp(-3.14159265358979*I*J*t),                                  0, -1.0*I*exp(-3.14159265358979*I*J*t),                                  0],\n",
       "[                                  0,    1.0*exp(3.14159265358979*I*J*t),                                   0, -1.0*I*exp(3.14159265358979*I*J*t)],\n",
       "[-1.0*I*exp(-3.14159265358979*I*J*t),                                  0,   -1.0*exp(-3.14159265358979*I*J*t),                                  0],\n",
       "[                                  0, -1.0*I*exp(3.14159265358979*I*J*t),                                   0,   -1.0*exp(3.14159265358979*I*J*t)]])"
      ],
      "text/latex": "$\\displaystyle \\left[\\begin{matrix}1.0 e^{- 3.14159265358979 i J t} & 0 & - 1.0 i e^{- 3.14159265358979 i J t} & 0\\\\0 & 1.0 e^{3.14159265358979 i J t} & 0 & - 1.0 i e^{3.14159265358979 i J t}\\\\- 1.0 i e^{- 3.14159265358979 i J t} & 0 & - 1.0 e^{- 3.14159265358979 i J t} & 0\\\\0 & - 1.0 i e^{3.14159265358979 i J t} & 0 & - 1.0 e^{3.14159265358979 i J t}\\end{matrix}\\right]$"
     },
     "metadata": {},
     "output_type": "display_data"
    },
    {
     "data": {
      "text/plain": [
       "Matrix([\n",
       "[                                                   0, 0,                                                   0, 0],\n",
       "[-2.0*I*exp(-0.01*I*t*(314.159265358979*J - 76343.0)), 0,                                                   0, 0],\n",
       "[                                                   0, 0,                                                   0, 0],\n",
       "[                                                   0, 0, -2.0*I*exp(0.01*I*t*(314.159265358979*J + 76343.0)), 0]])"
      ],
      "text/latex": "$\\displaystyle \\left[\\begin{matrix}0 & 0 & 0 & 0\\\\- 2.0 i e^{- 0.01 i t \\left(314.159265358979 J - 76343.0\\right)} & 0 & 0 & 0\\\\0 & 0 & 0 & 0\\\\0 & 0 & - 2.0 i e^{0.01 i t \\left(314.159265358979 J + 76343.0\\right)} & 0\\end{matrix}\\right]$"
     },
     "metadata": {},
     "output_type": "display_data"
    }
   ],
   "execution_count": 89
  },
  {
   "metadata": {
    "ExecuteTime": {
     "end_time": "2024-12-15T16:42:29.238861Z",
     "start_time": "2024-12-15T16:42:29.214412Z"
    }
   },
   "cell_type": "code",
   "source": [
    "V_Q1 = Vs_Q1 * np.trace(rho*M_Q1)\n",
    "display(V_Q1)\n",
    "\n",
    "V_Q2 = Vs_Q2 * np.trace(rho*M_Q2)\n",
    "display(V_Q2)"
   ],
   "id": "9842d7186d0deacd",
   "outputs": [
    {
     "data": {
      "text/plain": [
       "1.0*a*exp(-3.14159265358979*I*J*t) + 1.0*b*exp(3.14159265358979*I*J*t) - 1.0*c*exp(-3.14159265358979*I*J*t) - 1.0*d*exp(3.14159265358979*I*J*t)"
      ],
      "text/latex": "$\\displaystyle 1.0 a e^{- 3.14159265358979 i J t} + 1.0 b e^{3.14159265358979 i J t} - 1.0 c e^{- 3.14159265358979 i J t} - 1.0 d e^{3.14159265358979 i J t}$"
     },
     "metadata": {},
     "output_type": "display_data"
    },
    {
     "data": {
      "text/plain": [
       "0"
      ],
      "text/latex": "$\\displaystyle 0$"
     },
     "metadata": {},
     "output_type": "display_data"
    }
   ],
   "execution_count": 90
  },
  {
   "metadata": {
    "ExecuteTime": {
     "end_time": "2024-12-15T16:42:29.279241Z",
     "start_time": "2024-12-15T16:42:29.240872Z"
    }
   },
   "cell_type": "code",
   "source": [
    "a, b, c, d, t, J = sp.Symbol('a'), sp.Symbol('b'), sp.Symbol('c'), sp.Symbol('d'), sp.Symbol('t', real=True), sp.Symbol('J', real=True)\n",
    "values = {a: 1, b: 0, c: 0, d: -1, J: 22}\n",
    "rho = rho.subs(values)\n",
    "M_Q1 = M_Q1.subs(values)\n",
    "M_Q2 = M_Q2.subs(values)\n",
    "\n",
    "V_Q1_values = Vs_Q1 * np.trace(rho*M_Q1)\n",
    "V_Q2_values = Vs_Q2 * np.trace(rho*M_Q2)\n",
    "display(V_Q1_values+V_Q2_values)"
   ],
   "id": "71d9aefa70f9649c",
   "outputs": [
    {
     "data": {
      "text/plain": [
       "1.0*exp(69.1150383789754*I*t) + 1.0*exp(-69.1150383789754*I*t)"
      ],
      "text/latex": "$\\displaystyle 1.0 e^{69.1150383789754 i t} + 1.0 e^{- 69.1150383789754 i t}$"
     },
     "metadata": {},
     "output_type": "display_data"
    }
   ],
   "execution_count": 91
  },
  {
   "metadata": {
    "ExecuteTime": {
     "end_time": "2024-12-15T16:42:30.214929Z",
     "start_time": "2024-12-15T16:42:29.280262Z"
    }
   },
   "cell_type": "code",
   "source": [
    "stop = 1000\n",
    "times = np.linspace(start=0, stop=stop, num=int(stop*1000))\n",
    "\n",
    "Vf_t = sp.lambdify(t, V_Q1_values+V_Q2_values, modules='numpy')\n",
    "f0, ft0 = FT(Vf_t(times), times, padding=0)\n",
    "\n",
    "abs_f = (np.absolute(ft0)/np.max(np.absolute(ft0)))**2\n",
    "abs_f = (ft0/np.max(np.absolute(ft0)))\n",
    "abs_f = ft0\n",
    "# peaks = find_peaks(abs_f)\n",
    "plt.plot(f0, abs_f)\n",
    "\n",
    "colors = ['red', 'blue', 'green', 'orange']\n",
    "# for index, ipeak in enumerate(peaks[0][1:]):\n",
    "#     plt.plot(f[ipeak], abs_f[ipeak], marker=\"o\", markersize=6, color = colors[index])\n",
    "\n",
    "plt.xlabel(\"frequency (MHz)\")    \n",
    "plt.ylabel(\"FT signal (a. u.)\")\n",
    "plt.xlim(-200, 200)\n",
    "#plt.axvline(x=(11/(2*np.pi)), color='r', linestyle='--')\n",
    "plt.show()"
   ],
   "id": "5208df7cecddddaa",
   "outputs": [
    {
     "data": {
      "text/plain": [
       "<Figure size 640x480 with 1 Axes>"
      ],
      "image/png": "[encoded data removed]"
     },
     "metadata": {},
     "output_type": "display_data"
    }
   ],
   "execution_count": 92
  },
  {
   "metadata": {
    "ExecuteTime": {
     "end_time": "2024-12-15T16:42:30.690944Z",
     "start_time": "2024-12-15T16:42:30.218836Z"
    }
   },
   "cell_type": "code",
   "source": [
    "plt.plot(times, Vf_t(times)*np.e**-times)\n",
    "plt.xlim(0, 4)\n",
    "plt.show()"
   ],
   "id": "7ce329109c33ea46",
   "outputs": [
    {
     "data": {
      "text/plain": [
       "<Figure size 640x480 with 1 Axes>"
      ],
      "image/png": "[encoded data removed]"
     },
     "metadata": {},
     "output_type": "display_data"
    }
   ],
   "execution_count": 93
  },
  {
   "metadata": {
    "ExecuteTime": {
     "end_time": "2024-12-15T16:42:31.496575Z",
     "start_time": "2024-12-15T16:42:30.692951Z"
    }
   },
   "cell_type": "code",
   "source": [
    "stop = 1000\n",
    "times = np.linspace(start=0, stop=stop, num=int(stop*1000))\n",
    "\n",
    "Vf_t = sp.lambdify(t, V_Q1_values+V_Q2_values, modules='numpy')\n",
    "f0, ft0 = FT(Vf_t(times), times, padding=0)\n",
    "\n",
    "abs_f = (np.absolute(ft0)/np.max(np.absolute(ft0)))**2\n",
    "abs_f = (ft0/np.max(np.absolute(ft0)))\n",
    "abs_f = ft0\n",
    "# peaks = find_peaks(abs_f)\n",
    "plt.plot(f0, abs_f)\n",
    "\n",
    "colors = ['red', 'blue', 'green', 'orange']\n",
    "# for index, ipeak in enumerate(peaks[0][1:]):\n",
    "#     plt.plot(f[ipeak], abs_f[ipeak], marker=\"o\", markersize=6, color = colors[index])\n",
    "\n",
    "plt.xlabel(\"frequency (MHz)\")    \n",
    "plt.ylabel(\"FT signal (a. u.)\")\n",
    "plt.xlim(-100, 100)\n",
    "#plt.axvline(x=(11/(2*np.pi)), color='r', linestyle='--')\n",
    "#plt.gca().invert_xaxis()\n",
    "plt.show()"
   ],
   "id": "70d8865b66ffbcd1",
   "outputs": [
    {
     "data": {
      "text/plain": [
       "<Figure size 640x480 with 1 Axes>"
      ],
      "image/png": "[encoded data removed]"
     },
     "metadata": {},
     "output_type": "display_data"
    }
   ],
   "execution_count": 94
  },
  {
   "metadata": {
    "ExecuteTime": {
     "end_time": "2024-12-15T16:42:31.501424Z",
     "start_time": "2024-12-15T16:42:31.497583Z"
    }
   },
   "cell_type": "code",
   "source": "",
   "id": "44fbbca512c035a8",
   "outputs": [],
   "execution_count": 94
  }
 ],
 "metadata": {
  "kernelspec": {
   "display_name": "Python 3 (ipykernel)",
   "language": "python",
   "name": "python3"
  },
  "language_info": {
   "codemirror_mode": {
    "name": "ipython",
    "version": 2
   },
   "file_extension": ".py",
   "mimetype": "text/x-python",
   "name": "python",
   "nbconvert_exporter": "python",
   "pygments_lexer": "ipython2",
   "version": "2.7.6"
  }
 },
 "nbformat": 4,
 "nbformat_minor": 5
}

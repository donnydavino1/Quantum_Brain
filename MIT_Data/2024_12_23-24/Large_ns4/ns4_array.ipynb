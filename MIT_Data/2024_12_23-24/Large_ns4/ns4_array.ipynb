{
 "cells": [
  {
   "cell_type": "code",
   "id": "initial_id",
   "metadata": {
    "collapsed": true,
    "ExecuteTime": {
     "end_time": "2024-12-26T22:28:02.638045Z",
     "start_time": "2024-12-26T22:28:02.625883Z"
    }
   },
   "source": [
    "import numpy as np\n",
    "import nmrglue\n",
    "import pandas as pd\n",
    "def analyze_dataset(all_data):\n",
    "    # Create a DataFrame with real, imaginary, and time values\n",
    "    time = np.linspace(0, AQ, len(all_data))\n",
    "    df = pd.DataFrame({\n",
    "        \"Time\": time,\n",
    "        \"Real\": all_data.real,\n",
    "        \"Imaginary\": all_data.imag\n",
    "    })\n",
    "    all_data=nmrglue.proc_base.ps(all_data, p0+90, p1) #Why is there an extra 90 here? Probably from ph31 convention?\n",
    "    # Apply exponential apodization\n",
    "    #apodized_data = nmrglue.proc_base.em(all_data, .0004)\n",
    "    #*********this function can only take real part and not full complex part. Do we want to edit this way?\n",
    "\n",
    "    ls_and_apodized_data = nmrglue.proc_base.ls(all_data, 63)\n",
    "    # Plot the results\n",
    "    \n",
    "    spectrum = nmrglue.proc_base.fft(ls_and_apodized_data) \n",
    "    n = len(all_data.real)\n",
    "    freq = np.linspace(-SWH / 2+center, SWH / 2+center, n) #I am not sure how to calcualte the bounds of the FT here. But this mehtod lines up with Bruker.\n",
    "    return (freq, np.real(spectrum), np.imag(spectrum))\n",
    "    "
   ],
   "outputs": [],
   "execution_count": 3
  },
  {
   "metadata": {
    "ExecuteTime": {
     "end_time": "2024-12-26T22:28:02.756918Z",
     "start_time": "2024-12-26T22:28:02.658331Z"
    }
   },
   "cell_type": "code",
   "source": [
    "# Important Acqus Parameters\n",
    "AQ=1.6# Acquistion time (s)\n",
    "SWH=2000 #Spectral Width [Hz]\n",
    "SF=202.4765750 #Spectrometer frequency [Mhz]\n",
    "SFO1=202.4751988 #Transmitter frequency [Mhz]\n",
    "p0=-40\n",
    "p1=0\n",
    "center=-(SF-SFO1)*10**6\n",
    "plot_width=30"
   ],
   "id": "cab7a10197d120a2",
   "outputs": [],
   "execution_count": 4
  },
  {
   "metadata": {
    "ExecuteTime": {
     "end_time": "2024-12-26T22:28:03.422071Z",
     "start_time": "2024-12-26T22:28:02.776812Z"
    }
   },
   "cell_type": "code",
   "source": [
    "file_paths = [\n",
    "    fr\"C:\\Users\\donny\\Desktop\\desktop_files\\Brown\\All_data\\Final_Organized_MIT_DATA\\2024_12_23-24\\NOT_TOMOGRAPHY\\ns4_analyze_phase_addition_p04Wdecoupler\\{i}\"\n",
    "    for i in range(119, 174+1)  # Adjust the range as needed\n",
    "]\n",
    "\n",
    "# Initialize a list to store results\n",
    "all_results = []\n",
    "\n",
    "for path in file_paths:\n",
    "    # Read the data\n",
    "    all_data = nmrglue.bruker.read(path)[1]\n",
    "\n",
    "    # Unpack arrays\n",
    "    array0, array1, array2, _ = all_data\n",
    "\n",
    "    # Process each array\n",
    "    rho_0 = analyze_dataset(array0)\n",
    "    rho_1 = analyze_dataset(array1)\n",
    "    rho_2 = analyze_dataset(array2)\n",
    "\n",
    "    # Combine processed arrays: real and imaginary parts\n",
    "    x = rho_0[0]  # Assuming x is consistent for all files. This gives freq data\n",
    "    real_data = rho_0[1] + rho_1[1] + rho_2[1]\n",
    "    imag_data = rho_0[2] + rho_1[2] + rho_2[2]\n",
    "\n",
    "    # Ensure all arrays have the same length (e.g., 3200)\n",
    "    assert len(x) == len(real_data) == len(imag_data) == 3200, \"Array dimensions mismatch!\"\n",
    "\n",
    "    all_results.append([x, rho_0[1], rho_1[1], rho_2[1], rho_0[2], rho_1[2], rho_2[2], real_data, imag_data])\n",
    "    #all_results.append([x, real_data, imag_data]) Jiwoo's notation, Shape will be (14, 3, 3200)\n",
    "\n",
    "# Convert all_results into a NumPy array\n",
    "results_array = np.array(all_results)  "
   ],
   "id": "b6b667563e29622d",
   "outputs": [],
   "execution_count": 5
  },
  {
   "metadata": {
    "ExecuteTime": {
     "end_time": "2024-12-26T22:28:03.439365Z",
     "start_time": "2024-12-26T22:28:03.422071Z"
    }
   },
   "cell_type": "code",
   "source": [
    "#now lets group as (14,3,3000)\n",
    "\n",
    "output = []\n",
    "for n in range(0, 14):  #\n",
    "    \n",
    "    average_result1 = (results_array[0+4*n][1] + results_array[1+4*n][1] + results_array[2+4*n][1] + results_array[3+4*n][1]) / 4\n",
    "    average_result2 = (results_array[0+4*n][2] + results_array[1+4*n][2] + results_array[2+4*n][2] + results_array[3+4*n][2]) / 4\n",
    "    average_result3 = (results_array[0+4*n][3] + results_array[1+4*n][3] + results_array[2+4*n][3] + results_array[3+4*n][3]) / 4\n",
    "    \n",
    "    output.append([average_result1, average_result2, average_result3])\n",
    "    #all_results.append([x, real_data, imag_data]) Jiwoo's notation, Shape will be (14, 3, 3200)\n",
    "\n",
    "# Convert all_results into a NumPy array\n",
    "ns4_array= np.array(output)  \n",
    "    "
   ],
   "id": "c1e4017ac77022d",
   "outputs": [],
   "execution_count": 6
  },
  {
   "metadata": {
    "ExecuteTime": {
     "end_time": "2024-12-26T22:28:19.600564Z",
     "start_time": "2024-12-26T22:28:19.587609Z"
    }
   },
   "cell_type": "code",
   "source": [
    "ns4_array.shape\n",
    "    "
   ],
   "id": "25e838df6b621f2",
   "outputs": [
    {
     "data": {
      "text/plain": [
       "(14, 3, 3200)"
      ]
     },
     "execution_count": 9,
     "metadata": {},
     "output_type": "execute_result"
    }
   ],
   "execution_count": 9
  }
 ],
 "metadata": {
  "kernelspec": {
   "display_name": "Python 3",
   "language": "python",
   "name": "python3"
  },
  "language_info": {
   "codemirror_mode": {
    "name": "ipython",
    "version": 2
   },
   "file_extension": ".py",
   "mimetype": "text/x-python",
   "name": "python",
   "nbconvert_exporter": "python",
   "pygments_lexer": "ipython2",
   "version": "2.7.6"
  }
 },
 "nbformat": 4,
 "nbformat_minor": 5
}

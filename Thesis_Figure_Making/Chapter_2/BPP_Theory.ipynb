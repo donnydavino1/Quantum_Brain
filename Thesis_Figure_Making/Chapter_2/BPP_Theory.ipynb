{
 "cells": [
  {
   "cell_type": "code",
   "id": "initial_id",
   "metadata": {
    "collapsed": true,
    "ExecuteTime": {
     "end_time": "2025-01-29T22:18:02.144939Z",
     "start_time": "2025-01-29T22:18:02.138737Z"
    }
   },
   "source": [
    "SFO1 = 202.4744410 * 10 ** 6\n",
    "SFO2 = 202.4751948 * 10 ** 6\n",
    "import numpy as np\n",
    "(SFO1-SFO2)**2*4*np.pi*((0.35)*10**(-11))**2 "
   ],
   "outputs": [
    {
     "data": {
      "text/plain": [
       "8.746981721078084e-17"
      ]
     },
     "execution_count": 1157,
     "metadata": {},
     "output_type": "execute_result"
    }
   ],
   "execution_count": 1157
  },
  {
   "metadata": {
    "ExecuteTime": {
     "end_time": "2025-01-29T22:18:02.183628Z",
     "start_time": "2025-01-29T22:18:02.178935Z"
    }
   },
   "cell_type": "code",
   "source": "(SFO1-SFO2)",
   "id": "3df5c071bca37497",
   "outputs": [
    {
     "data": {
      "text/plain": [
       "-753.8000000119209"
      ]
     },
     "execution_count": 1158,
     "metadata": {},
     "output_type": "execute_result"
    }
   ],
   "execution_count": 1158
  },
  {
   "metadata": {
    "ExecuteTime": {
     "end_time": "2025-01-29T22:18:02.224633Z",
     "start_time": "2025-01-29T22:18:02.218289Z"
    }
   },
   "cell_type": "code",
   "source": [
    "r=4e-10\n",
    "tau_c=0.35*10e-11\n",
    "gamma=1.083e8\n",
    "h=6.62607015e-34\n",
    "hbar=h/(2*np.pi)\n",
    "\n",
    "(10*r**6)/(9*tau_c*gamma**4*hbar**2)"
   ],
   "id": "20737aee82dc03e7",
   "outputs": [
    {
     "data": {
      "text/plain": [
       "8.499301697033044e-11"
      ]
     },
     "execution_count": 1159,
     "metadata": {},
     "output_type": "execute_result"
    }
   ],
   "execution_count": 1159
  },
  {
   "metadata": {
    "ExecuteTime": {
     "end_time": "2025-01-29T22:18:02.227885Z",
     "start_time": "2025-01-29T22:18:02.225633Z"
    }
   },
   "cell_type": "code",
   "source": "",
   "id": "b63621df90c48a71",
   "outputs": [],
   "execution_count": 1159
  },
  {
   "metadata": {
    "ExecuteTime": {
     "end_time": "2025-01-29T22:18:02.238669Z",
     "start_time": "2025-01-29T22:18:02.232870Z"
    }
   },
   "cell_type": "code",
   "source": [
    "#cgs    centimeter, gram, second       erg, gauss\n",
    "# \n",
    "b=1.5e-8    #cm\n",
    "h=6.626196*10**(-27)    #erg*s\n",
    "hbar=h/(2*np.pi)\n",
    "\n",
    "tau_c=0.35*10e-11     #s\n",
    "\n",
    "gamma=2.675*10**4   #rad s-1 gauss-1\n",
    "#gamma=42.577478518*10**6/10000 #Hz/Gauss\n",
    "\n",
    "s_n1=(9*tau_c*(gamma**4)*(hbar**2))/(10*b**6)\n",
    "print(s_n1)\n",
    "s_n1**-1"
   ],
   "id": "f3610950e6bf58cf",
   "outputs": [
    {
     "name": "stdout",
     "output_type": "stream",
     "text": [
      "1.574805649513879\n"
     ]
    },
    {
     "data": {
      "text/plain": [
       "0.6349989919763663"
      ]
     },
     "execution_count": 1160,
     "metadata": {},
     "output_type": "execute_result"
    }
   ],
   "execution_count": 1160
  },
  {
   "metadata": {
    "ExecuteTime": {
     "end_time": "2025-01-29T22:18:02.244635Z",
     "start_time": "2025-01-29T22:18:02.239989Z"
    }
   },
   "cell_type": "code",
   "source": "1.57/(2*np.pi)",
   "id": "bda1bc97ede871cc",
   "outputs": [
    {
     "data": {
      "text/plain": [
       "0.2498732606542757"
      ]
     },
     "execution_count": 1161,
     "metadata": {},
     "output_type": "execute_result"
    }
   ],
   "execution_count": 1161
  },
  {
   "metadata": {
    "ExecuteTime": {
     "end_time": "2025-01-29T22:18:02.248890Z",
     "start_time": "2025-01-29T22:18:02.245635Z"
    }
   },
   "cell_type": "code",
   "source": [
    "#Formulas for physical laws of electromagnetism (such as Maxwell's equations) take a form that depends on which system of units is being used, because the electromagnetic quantities are defined differently in SI and in CGS. Furthermore, within CGS, there are several plausible ways to define electromagnetic quantities, leading to different \"sub-systems\", including Gaussian units, \"ESU\", \"EMU\", and Heaviside–Lorentz units. Among these choices, Gaussian units are the most common today[according to whom?], and \"CGS units\" is often intended to refer to CGS-Gaussian units[citation needed].\n",
    "\n"
   ],
   "id": "7976ab8a0d8f2406",
   "outputs": [],
   "execution_count": 1162
  },
  {
   "metadata": {
    "ExecuteTime": {
     "end_time": "2025-01-29T22:18:02.255685Z",
     "start_time": "2025-01-29T22:18:02.250166Z"
    }
   },
   "cell_type": "code",
   "source": [
    "#cgs (GAUSS)   \n",
    "# \n",
    "b=1.5e-8    #cm\n",
    "tau_c=0.35*10e-11     #s\n",
    "\n",
    "\n",
    "h=6.626196*10**(-27)    #erg*s\n",
    "gamma=1.5*10**4   #rad s-1 gauss-1\n",
    "\n",
    "\n",
    "hbar=h/(2*np.pi)\n",
    "s_n1=(9*tau_c*(gamma**4)*(hbar**2))/(10*b**6)\n",
    "print(s_n1)\n",
    "s_n1**-1"
   ],
   "id": "abb0f3031329b8bf",
   "outputs": [
    {
     "name": "stdout",
     "output_type": "stream",
     "text": [
      "0.15570295501357123\n"
     ]
    },
    {
     "data": {
      "text/plain": [
       "6.422485687011136"
      ]
     },
     "execution_count": 1163,
     "metadata": {},
     "output_type": "execute_result"
    }
   ],
   "execution_count": 1163
  },
  {
   "metadata": {
    "ExecuteTime": {
     "end_time": "2025-01-29T22:18:02.268112Z",
     "start_time": "2025-01-29T22:18:02.257103Z"
    }
   },
   "cell_type": "code",
   "source": "#esu vs gaussian vs emu",
   "id": "e7c452573c84db2f",
   "outputs": [],
   "execution_count": 1164
  },
  {
   "metadata": {
    "ExecuteTime": {
     "end_time": "2025-01-29T22:18:02.279610Z",
     "start_time": "2025-01-29T22:18:02.277537Z"
    }
   },
   "cell_type": "code",
   "source": "",
   "id": "f41b876582e28c6d",
   "outputs": [],
   "execution_count": 1164
  },
  {
   "metadata": {
    "ExecuteTime": {
     "end_time": "2025-01-29T22:18:02.306632Z",
     "start_time": "2025-01-29T22:18:02.297624Z"
    }
   },
   "cell_type": "code",
   "source": [
    "#SI   gyro in paper\n",
    "b=1.5e-10    #m\n",
    "tau_c=0.35e-11     #s\n",
    "I=1/2\n",
    "\n",
    "mu_N=5.050783e-27 #J*T-1\n",
    "h=6.62607015e-34  #J*s\n",
    "mu_p=2.279285*mu_N\n",
    "\n",
    "gamma=(2*np.pi*mu_p)/(I*h)\n",
    "hbar=h/(2*np.pi)\n",
    "s_n1=(9*tau_c*(gamma**4)*(hbar**2))/(10*b**6)\n",
    "print(s_n1)\n",
    "s_n1**-1"
   ],
   "id": "63dbaa71f16a037e",
   "outputs": [
    {
     "name": "stdout",
     "output_type": "stream",
     "text": [
      "6988114782059.287\n"
     ]
    },
    {
     "data": {
      "text/plain": [
       "1.431001108578408e-13"
      ]
     },
     "execution_count": 1165,
     "metadata": {},
     "output_type": "execute_result"
    }
   ],
   "execution_count": 1165
  },
  {
   "metadata": {
    "ExecuteTime": {
     "end_time": "2025-01-29T22:18:02.349334Z",
     "start_time": "2025-01-29T22:18:02.343556Z"
    }
   },
   "cell_type": "code",
   "source": [
    "#SI   gyro on wiki\n",
    "b=1.5e-10    #m\n",
    "tau_c=0.35e-11     #s\n",
    "I=1/2\n",
    "\n",
    "mu_N=5.050783e-27 #J*T-1\n",
    "h=6.62607015e-34  #J*s\n",
    "hbar=h/(2*np.pi)\n",
    "mu_p=2.279285*mu_N\n",
    "\n",
    "gamma=(5.585*mu_N)/hbar\n",
    "\n",
    "s_n1=(9*tau_c*(gamma**4)*(hbar**2))/(10*b**6)\n",
    "print(s_n1)\n",
    "s_n1**-1"
   ],
   "id": "85a7a26fa954164b",
   "outputs": [
    {
     "name": "stdout",
     "output_type": "stream",
     "text": [
      "15744839116052.82\n"
     ]
    },
    {
     "data": {
      "text/plain": [
       "6.351287508428328e-14"
      ]
     },
     "execution_count": 1166,
     "metadata": {},
     "output_type": "execute_result"
    }
   ],
   "execution_count": 1166
  },
  {
   "metadata": {
    "ExecuteTime": {
     "end_time": "2025-01-29T22:18:02.369951Z",
     "start_time": "2025-01-29T22:18:02.363724Z"
    }
   },
   "cell_type": "code",
   "source": [
    "#cgs (GAUSS)   gyro in paper\n",
    "#The paper uses Gaussian CGS units, which are evident from the consistent references to quantities like magnetic fields in Gauss (G) and angular frequencies in radians per second (rad/s). \n",
    "# \n",
    "b=1.5e-8    #cm\n",
    "tau_c=0.35e-11     #s\n",
    "I=1/2\n",
    "\n",
    "h=6.626196e-27   #erg*s\n",
    "hbar=h/(2*np.pi)\n",
    "\n",
    "\n",
    "mu_N=5.050783e-24 #erg*G-1\n",
    "gamma=(5.585*mu_N)/(hbar)\n",
    "\n",
    "\n",
    "s_n1=(9*tau_c*(gamma**4)*(hbar**2))/(10*b**6)\n",
    "print(s_n1)\n",
    "s_n1**-1"
   ],
   "id": "8fa620ab5c54b0b2",
   "outputs": [
    {
     "name": "stdout",
     "output_type": "stream",
     "text": [
      "0.1574424104464482\n"
     ]
    },
    {
     "data": {
      "text/plain": [
       "6.351528772739006"
      ]
     },
     "execution_count": 1167,
     "metadata": {},
     "output_type": "execute_result"
    }
   ],
   "execution_count": 1167
  },
  {
   "metadata": {
    "ExecuteTime": {
     "end_time": "2025-01-29T22:18:02.378909Z",
     "start_time": "2025-01-29T22:18:02.374861Z"
    }
   },
   "cell_type": "code",
   "source": "gamma",
   "id": "90fecf767643f271",
   "outputs": [
    {
     "data": {
      "text/plain": [
       "26748.379600443954"
      ]
     },
     "execution_count": 1168,
     "metadata": {},
     "output_type": "execute_result"
    }
   ],
   "execution_count": 1168
  },
  {
   "metadata": {
    "ExecuteTime": {
     "end_time": "2025-01-29T22:18:02.390325Z",
     "start_time": "2025-01-29T22:18:02.385968Z"
    }
   },
   "cell_type": "code",
   "source": ".1574424104464482/.19",
   "id": "6dfb4661ee7f8724",
   "outputs": [
    {
     "data": {
      "text/plain": [
       "0.828644265507622"
      ]
     },
     "execution_count": 1169,
     "metadata": {},
     "output_type": "execute_result"
    }
   ],
   "execution_count": 1169
  },
  {
   "metadata": {
    "ExecuteTime": {
     "end_time": "2025-01-29T22:18:02.413655Z",
     "start_time": "2025-01-29T22:18:02.405293Z"
    }
   },
   "cell_type": "code",
   "source": [
    "#cgs (GAUSS)   gyro in paper\n",
    "#The paper uses Gaussian CGS units, which are evident from the consistent references to quantities like magnetic fields in Gauss (G) and angular frequencies in radians per second (rad/s). \n",
    "# \n",
    "b=1.5e-8    #cm\n",
    "tau_c=0.35e-11     #s\n",
    "I=1/2\n",
    "\n",
    "h=6.626196e-27   #erg*s\n",
    "hbar=h/(2*np.pi)\n",
    "\n",
    "\n",
    "mu_N=5.050783e-24 #erg*G-1\n",
    "mu_p=2.793*mu_N \n",
    "\n",
    "gamma=(2*np.pi*mu_p)/(I*h)\n",
    "\n",
    "s_n1=(9*tau_c*(gamma**4)*(hbar**2))/(10*b**6)\n",
    "print(s_n1)\n",
    "s_n1**-1"
   ],
   "id": "e3178583c7d52cdf",
   "outputs": [
    {
     "name": "stdout",
     "output_type": "stream",
     "text": [
      "0.15755520163773398\n"
     ]
    },
    {
     "data": {
      "text/plain": [
       "6.346981817200144"
      ]
     },
     "execution_count": 1170,
     "metadata": {},
     "output_type": "execute_result"
    }
   ],
   "execution_count": 1170
  },
  {
   "metadata": {
    "ExecuteTime": {
     "end_time": "2025-01-29T22:18:02.427878Z",
     "start_time": "2025-01-29T22:18:02.420636Z"
    }
   },
   "cell_type": "code",
   "source": "gamma",
   "id": "a4d4706350c62f0a",
   "outputs": [
    {
     "data": {
      "text/plain": [
       "26753.168925350034"
      ]
     },
     "execution_count": 1171,
     "metadata": {},
     "output_type": "execute_result"
    }
   ],
   "execution_count": 1171
  },
  {
   "metadata": {
    "ExecuteTime": {
     "end_time": "2025-01-29T22:18:02.439268Z",
     "start_time": "2025-01-29T22:18:02.435171Z"
    }
   },
   "cell_type": "code",
   "source": [
    "#Tau_c for H20\n",
    "tau_c=0.35e-11     #s\n",
    "tau_c"
   ],
   "id": "3ef8c79d35eafdf4",
   "outputs": [
    {
     "data": {
      "text/plain": [
       "3.5e-12"
      ]
     },
     "execution_count": 1172,
     "metadata": {},
     "output_type": "execute_result"
    }
   ],
   "execution_count": 1172
  },
  {
   "metadata": {
    "ExecuteTime": {
     "end_time": "2025-01-29T22:18:02.453106Z",
     "start_time": "2025-01-29T22:18:02.448240Z"
    }
   },
   "cell_type": "code",
   "source": [
    "#Tau_c for ADP\n",
    "a=.5e-7 #cm\n",
    "k=1.380622e-16 # erg K-1\n",
    "T= 310.15 #K\n",
    "nu=.01\n",
    "tau_c=4*np.pi*nu*a**3/(3*k*T)\n",
    "tau_c"
   ],
   "id": "e0b8b1fc9e7fa27",
   "outputs": [
    {
     "data": {
      "text/plain": [
       "1.222790475511988e-10"
      ]
     },
     "execution_count": 1173,
     "metadata": {},
     "output_type": "execute_result"
    }
   ],
   "execution_count": 1173
  },
  {
   "metadata": {
    "ExecuteTime": {
     "end_time": "2025-01-29T22:18:02.471586Z",
     "start_time": "2025-01-29T22:18:02.467837Z"
    }
   },
   "cell_type": "code",
   "source": "r=2*1.53e-8 #cm   #https://pubmed.ncbi.nlm.nih.gov/30156411/",
   "id": "bc9cbba1a9e3a3cf",
   "outputs": [],
   "execution_count": 1174
  },
  {
   "metadata": {
    "ExecuteTime": {
     "end_time": "2025-01-29T22:18:02.487813Z",
     "start_time": "2025-01-29T22:18:02.481556Z"
    }
   },
   "cell_type": "code",
   "source": [
    "#cgs (GAUSS)   gyro in paper\n",
    "#FOR ADP\n",
    "I=1/2\n",
    "\n",
    "\n",
    "\n",
    "h=6.626196e-27   #erg*s\n",
    "hbar=h/(2*np.pi)\n",
    "\n",
    "mu_N=5.050783e-24 #erg*G-1\n",
    "mu_p=2.793*mu_N \n",
    "\n",
    "gamma=(2*np.pi*mu_p)/(I*h)\n",
    "\n",
    "s_n1=(9*tau_c*(gamma**4)*(hbar**2))/(10*r**6)\n",
    "print(s_n1)\n",
    "s_n1**-1"
   ],
   "id": "af1d6c8b878f7c1d",
   "outputs": [
    {
     "name": "stdout",
     "output_type": "stream",
     "text": [
      "0.07637227790878562\n"
     ]
    },
    {
     "data": {
      "text/plain": [
       "13.093756365291853"
      ]
     },
     "execution_count": 1175,
     "metadata": {},
     "output_type": "execute_result"
    }
   ],
   "execution_count": 1175
  },
  {
   "metadata": {
    "ExecuteTime": {
     "end_time": "2025-01-29T22:18:02.491703Z",
     "start_time": "2025-01-29T22:18:02.489811Z"
    }
   },
   "cell_type": "code",
   "source": "",
   "id": "1cfb1d5bcd92112",
   "outputs": [],
   "execution_count": 1175
  },
  {
   "metadata": {
    "ExecuteTime": {
     "end_time": "2025-01-29T22:18:02.501888Z",
     "start_time": "2025-01-29T22:18:02.498822Z"
    }
   },
   "cell_type": "code",
   "source": "",
   "id": "d6d7e78eebf8518b",
   "outputs": [],
   "execution_count": 1175
  },
  {
   "metadata": {
    "ExecuteTime": {
     "end_time": "2025-01-29T22:18:02.530101Z",
     "start_time": "2025-01-29T22:18:02.527890Z"
    }
   },
   "cell_type": "code",
   "source": "",
   "id": "97371c997d96332a",
   "outputs": [],
   "execution_count": 1175
  }
 ],
 "metadata": {
  "kernelspec": {
   "display_name": "Python 3",
   "language": "python",
   "name": "python3"
  },
  "language_info": {
   "codemirror_mode": {
    "name": "ipython",
    "version": 2
   },
   "file_extension": ".py",
   "mimetype": "text/x-python",
   "name": "python",
   "nbconvert_exporter": "python",
   "pygments_lexer": "ipython2",
   "version": "2.7.6"
  }
 },
 "nbformat": 4,
 "nbformat_minor": 5
}

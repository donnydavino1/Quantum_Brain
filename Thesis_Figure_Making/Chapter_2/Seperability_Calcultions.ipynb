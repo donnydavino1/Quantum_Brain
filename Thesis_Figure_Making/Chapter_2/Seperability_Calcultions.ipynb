{
 "cells": [
  {
   "cell_type": "code",
   "id": "3bafed94-15a5-4ca1-af4d-ea6ebd204367",
   "metadata": {
    "ExecuteTime": {
     "end_time": "2025-02-12T16:25:22.986635Z",
     "start_time": "2025-02-12T16:25:22.982828Z"
    }
   },
   "source": [
    "#Note for psplt.plot_complex_density_matrix() to properly plot you will need to comment out the following from pulsee.plot source code: \n",
    "#idx, = np.where(abs(dm_data) < 0.001)\n",
    "#dm_data[idx] = abs(dm_data[idx])"
   ],
   "outputs": [],
   "execution_count": 1
  },
  {
   "cell_type": "code",
   "id": "86cd4f9e-243a-4398-9543-28b5b90c3088",
   "metadata": {
    "ExecuteTime": {
     "end_time": "2025-02-12T16:25:25.395391Z",
     "start_time": "2025-02-12T16:25:22.986635Z"
    }
   },
   "source": [
    "import numpy as np\n",
    "import qutip as qt\n",
    "import pulsee.plot as psplt\n",
    "import operators as op # \"import *\" is bad Python practice, but simplest way to do some math\n",
    "from sympy import symbols, Matrix, nsimplify\n",
    "\n",
    "\n",
    "# import pulsee.simulation as sim\n",
    "from plot_dm import plot_complex_density_matrix\n",
    "\n",
    "import tomography_helper_functions\n",
    "import tomography_helper_functions as helper\n",
    "# from tomography.tomography_helper_functions import projection_fortunato, plot_spectra_together\n",
    "# from tomography.tomography_helper_functions import index_to_element, integrate_simpson, integrate_optimized\n",
    "\n",
    "# import * is bad practice, but this is the easiest way to do quick theoretical calculations with this many variables.\n",
    "import operators as op\n",
    "import global_constants as glob\n",
    "from coeff_groups_class import CoefficientGroups\n",
    "\n",
    "from temporal_average import temporal_average"
   ],
   "outputs": [],
   "execution_count": 2
  },
  {
   "cell_type": "markdown",
   "id": "19ccd247-b9d4-4995-b9ef-9f01fafbf09b",
   "metadata": {},
   "source": [
    "# Calculating thermal state density matrix"
   ]
  },
  {
   "cell_type": "code",
   "id": "90f2af66-531e-44df-8f05-d9924621de34",
   "metadata": {
    "ExecuteTime": {
     "end_time": "2025-02-12T16:25:25.452552Z",
     "start_time": "2025-02-12T16:25:25.395391Z"
    }
   },
   "source": [
    "# Define symbolic constants\n",
    "hbar, w1, w2, k_b, T, = symbols('hbar w1 w2 k_b T')\n",
    "\n",
    "# Extract the numerical matrix from the Qobj as a NumPy array\n",
    "op.Iz_numpy = op.Iz.full()\n",
    "op.Sz_numpy = op.Sz.full()\n",
    "op.identity_numpy = op.IDENTITY.full()\n",
    "# Convert the NumPy array to a SymPy Matrix\n",
    "op.Iz_sympy = Matrix(op.Iz_numpy)\n",
    "op.Sz_sympy = Matrix(op.Sz_numpy)\n",
    "op.identity_sympy = Matrix(op.identity_numpy)\n",
    "\n",
    "thermal_density_matrix=(1/4)*op.identity_sympy+(1/4)*op.Iz_sympy*(hbar*w1/(k_b*T))+(1/4)*op.Sz_sympy*(hbar*w2/(k_b*T))\n",
    "thermal_density_matrix_simple = thermal_density_matrix.applyfunc(nsimplify)\n",
    "#spin dynamics pg 391\n",
    "#thermal_state = thermal_state.applyfunc(Rational)\n",
    "display(thermal_density_matrix_simple)\n",
    "#qutip_matrix = Qobj(numerical_matrix)   # Create the Qobj from the numerical matrix\n",
    "\n",
    "# Display the Qobj matrix\n",
    "#print(\"The resulting Qobj matrix is:\")\n",
    "#print(qutip_matrix)"
   ],
   "outputs": [
    {
     "data": {
      "text/plain": [
       "Matrix([\n",
       "[1/4 + hbar*w1/(8*T*k_b) + hbar*w2/(8*T*k_b),                                           0,                                           0,                                           0],\n",
       "[                                          0, 1/4 + hbar*w1/(8*T*k_b) - hbar*w2/(8*T*k_b),                                           0,                                           0],\n",
       "[                                          0,                                           0, 1/4 - hbar*w1/(8*T*k_b) + hbar*w2/(8*T*k_b),                                           0],\n",
       "[                                          0,                                           0,                                           0, 1/4 - hbar*w1/(8*T*k_b) - hbar*w2/(8*T*k_b)]])"
      ],
      "text/latex": "$\\displaystyle \\left[\\begin{matrix}\\frac{1}{4} + \\frac{\\hbar w_{1}}{8 T k_{b}} + \\frac{\\hbar w_{2}}{8 T k_{b}} & 0 & 0 & 0\\\\0 & \\frac{1}{4} + \\frac{\\hbar w_{1}}{8 T k_{b}} - \\frac{\\hbar w_{2}}{8 T k_{b}} & 0 & 0\\\\0 & 0 & \\frac{1}{4} - \\frac{\\hbar w_{1}}{8 T k_{b}} + \\frac{\\hbar w_{2}}{8 T k_{b}} & 0\\\\0 & 0 & 0 & \\frac{1}{4} - \\frac{\\hbar w_{1}}{8 T k_{b}} - \\frac{\\hbar w_{2}}{8 T k_{b}}\\end{matrix}\\right]$"
     },
     "metadata": {},
     "output_type": "display_data"
    }
   ],
   "execution_count": 3
  },
  {
   "metadata": {
    "ExecuteTime": {
     "end_time": "2025-02-12T16:25:25.455045Z",
     "start_time": "2025-02-12T16:25:25.452552Z"
    }
   },
   "cell_type": "code",
   "source": "",
   "id": "6aca6309d71c1960",
   "outputs": [],
   "execution_count": 3
  },
  {
   "metadata": {
    "ExecuteTime": {
     "end_time": "2025-02-12T16:25:26.014309Z",
     "start_time": "2025-02-12T16:25:25.455045Z"
    }
   },
   "cell_type": "code",
   "source": [
    "# 3) Collect all variables in a list or set:\n",
    "all_vars = [a_1, b_1, a_2, b_2, a_3, b_3, a_4, b_4]\n",
    "\n",
    "# 4) Filter out any constrained variables:\n",
    "free_vars = [v for v in all_vars if v not in constraint]\n",
    "\n",
    "print(\"All variables:\", all_vars)\n",
    "print(\"Constraint: a_1 = 1\")\n",
    "print(\"Free variables:\", free_vars)\n",
    "print(\"Number of unknown (free) variables left:\", len(free_vars))"
   ],
   "id": "eab6094ecd1e3b30",
   "outputs": [
    {
     "ename": "NameError",
     "evalue": "name 'a_1' is not defined",
     "output_type": "error",
     "traceback": [
      "\u001B[1;31m---------------------------------------------------------------------------\u001B[0m",
      "\u001B[1;31mNameError\u001B[0m                                 Traceback (most recent call last)",
      "Cell \u001B[1;32mIn[4], line 2\u001B[0m\n\u001B[0;32m      1\u001B[0m \u001B[38;5;66;03m# 3) Collect all variables in a list or set:\u001B[39;00m\n\u001B[1;32m----> 2\u001B[0m all_vars \u001B[38;5;241m=\u001B[39m [a_1, b_1, a_2, b_2, a_3, b_3, a_4, b_4]\n\u001B[0;32m      4\u001B[0m \u001B[38;5;66;03m# 4) Filter out any constrained variables:\u001B[39;00m\n\u001B[0;32m      5\u001B[0m free_vars \u001B[38;5;241m=\u001B[39m [v \u001B[38;5;28;01mfor\u001B[39;00m v \u001B[38;5;129;01min\u001B[39;00m all_vars \u001B[38;5;28;01mif\u001B[39;00m v \u001B[38;5;129;01mnot\u001B[39;00m \u001B[38;5;129;01min\u001B[39;00m constraint]\n",
      "\u001B[1;31mNameError\u001B[0m: name 'a_1' is not defined"
     ]
    }
   ],
   "execution_count": 4
  },
  {
   "metadata": {},
   "cell_type": "code",
   "source": [
    "import sympy as sp\n",
    "\n",
    "# 1) Define symbolic variables\n",
    "a_1, b_1, a_2, b_2 = sp.symbols('a_1 b_1 a_2 b_2', complex=False)\n",
    "a_3, b_3, a_4, b_4 = sp.symbols('a_3 b_3 a_4 b_4', complex=False)\n",
    "\n",
    "# 2) Create your constraint a_1 = 1 as a symbolic Equation\n",
    "equation = sp.Eq(abs(a_1+1j*b_1)**2 + abs(a_2+1j*b_2)**2 + abs(a_3+1j*b_3)**2 + abs(a_4+1j*b_4)**2, 1)\n",
    "\n",
    "# 3) Define kets\n",
    "ket_psi = sp.Matrix([\n",
    "    [a_1 + 1j*b_1],\n",
    "    [a_2 + 1j*b_2]\n",
    "])\n",
    "\n",
    "ket_psi_2 = sp.Matrix([\n",
    "    [a_3 + 1j*b_3],\n",
    "    [a_4 + 1j*b_4]\n",
    "])\n",
    "\n",
    "# Tensor product of the two kets\n",
    "ket_psi_tensor_ket_psi_2 = sp.kronecker_product(ket_psi, ket_psi_2)\n",
    "print(\"ket_psi_tensor_ket_psi_2 =\")\n",
    "print(ket_psi_tensor_ket_psi_2)\n",
    "\n",
    "# Bra is the Hermitian transpose of the ket\n",
    "bra_ket_psi_tensor_ket_psi_2 = ket_psi_tensor_ket_psi_2.H\n",
    "\n",
    "# Operator |psi1><psi2| = ket * bra\n",
    "op = ket_psi_tensor_ket_psi_2 * bra_ket_psi_tensor_ket_psi_2\n",
    "print(\"\\nOperator op =\")\n",
    "print(op)\n",
    "\n",
    "# 4) Apply the constraint a_1 = 1\n",
    "#    Option A: Direct substitution\n",
    "op_constrained = op.subs(a_1+a_2+a_3+a_4+b_1+b_2+b_3+b_4, 1)\n",
    "\n",
    "print(\"\\nOperator op after substituting constraints\")\n",
    "print(op_constrained)\n"
   ],
   "id": "2c620660395c5ee",
   "outputs": [],
   "execution_count": null
  },
  {
   "metadata": {},
   "cell_type": "code",
   "source": [
    "solve op=M for the symby variables \n",
    "\n",
    "where\n",
    "\n",
    "\n",
    "M = sp.Matrix([\n",
    "    [7/24,  0,  0,  1/12],\n",
    "    [0, 5/24,  0,  0],\n",
    "    [0,  0,  5/24,  0],\n",
    "    [1/12,  0,  0,  7/24]\n",
    "])\n"
   ],
   "id": "968f94f375802c14",
   "outputs": [],
   "execution_count": null
  },
  {
   "metadata": {
    "ExecuteTime": {
     "end_time": "2025-02-12T16:25:26.016310Z",
     "start_time": "2025-02-12T16:25:26.016310Z"
    }
   },
   "cell_type": "code",
   "source": [
    "\n",
    "# 5) Example of a separate bra <phi|\n",
    "x, y = sp.symbols('x y', complex=True)\n",
    "bra_phi = sp.Matrix([[x, y]])  # row vector\n",
    "print(\"\\nBra <phi| =\")\n",
    "print(bra_phi)\n",
    "\n",
    "# Outer product <phi|psi>\n",
    "phi_psi = ket_psi * bra_phi  # yields a 1x1 matrix (scalar), i.e. <phi|psi>\n",
    "print(\"\\n<phi|psi> =\")\n",
    "display(phi_psi)\n",
    "\n",
    "# Or an operator from (some) ket_phi * bra_phi:\n",
    "# If you had a 'ket_phi' and did 'ket_phi * bra_phi',\n",
    "# you'd get a 2x2 matrix in a 2D Hilbert space.\n"
   ],
   "id": "9ff29651f589fe51",
   "outputs": [],
   "execution_count": null
  },
  {
   "metadata": {},
   "cell_type": "code",
   "source": [
    "import sympy as sp\n",
    "\n",
    "# 1) Define symbolic variables for unknowns:\n",
    "a1, b1, a2, b2, a3, b3, a4, b4 = sp.symbols('a1 b1 a2 b2 a3 b3 a4 b4', real=True)\n",
    "\n",
    "# 2) Define your 8x8 matrix (EXAMPLE, not your real system):\n",
    "\n",
    "# 3) Define the RHS vector (8x1):\n",
    "c = sp.Matrix([1, 2, 3, 4, 5, 6, 7, 8])\n",
    "\n",
    "# 4) Define the vector of unknowns:\n",
    "x = sp.Matrix([a1, b1, a2, b2, a3, b3, a4, b4])\n",
    "\n",
    "# 5) Solve M*x = c using LUsolve or gauss_jordan_solve:\n",
    "solution_vector = M.LUsolve(c)\n",
    "print(\"Solution vector (a1, b1, a2, b2, a3, b3, a4, b4) =\")\n",
    "print(solution_vector)\n",
    "\n",
    "# Alternatively, solve using sp.solve:\n",
    "# eqs = list(M*x - c)\n",
    "# solutions = sp.solve(eqs, [a1, b1, a2, b2, a3, b3, a4, b4], dict=True)\n",
    "# print(solutions)\n"
   ],
   "id": "84f9b3ad7ecb5b45",
   "outputs": [],
   "execution_count": null
  },
  {
   "metadata": {},
   "cell_type": "code",
   "source": "",
   "id": "b3d58a06a76a64e2",
   "outputs": [],
   "execution_count": null
  },
  {
   "metadata": {},
   "cell_type": "code",
   "source": "",
   "id": "631b9ad7c5c8ab0a",
   "outputs": [],
   "execution_count": null
  },
  {
   "metadata": {},
   "cell_type": "code",
   "source": "",
   "id": "e16a9f05c26d70ae",
   "outputs": [],
   "execution_count": null
  },
  {
   "metadata": {},
   "cell_type": "code",
   "source": "",
   "id": "e63b64fbaf28cb9d",
   "outputs": [],
   "execution_count": null
  },
  {
   "metadata": {},
   "cell_type": "code",
   "source": "",
   "id": "f32c7e2aaa59caf3",
   "outputs": [],
   "execution_count": null
  },
  {
   "metadata": {
    "ExecuteTime": {
     "end_time": "2025-02-12T16:28:42.624455Z",
     "start_time": "2025-02-12T16:28:42.524183Z"
    }
   },
   "cell_type": "code",
   "source": [
    "import sympy as sp\n",
    "\n",
    "# 1) Declare variables (real-valued)\n",
    "a_1, b_1, a_2, b_2 = sp.symbols('a_1 b_1 a_2 b_2', real=True)\n",
    "a_3, b_3, a_4, b_4 = sp.symbols('a_3 b_3 a_4 b_4', real=True)\n",
    "\n",
    "# 2) Nonlinear constraint: sum of squares = 1\n",
    "constraint_eq = sp.Eq(abs(a_1+1j*b_1)**2 + abs(a_2+1j*b_2)**2 + abs(a_3+1j*b_3)**2 + abs(a_4+1j*b_4)**2, 1)\n",
    "\n",
    "# 3) Build kets and operator\n",
    "ket_psi = sp.Matrix([[a_1 + 1j*b_1],\n",
    "                     [a_2 + 1j*b_2]])\n",
    "ket_psi_2 = sp.Matrix([[a_3 + 1j*b_3],\n",
    "                       [a_4 + 1j*b_4]])\n",
    "\n",
    "ket_psi_tensor_ket_psi_2 = sp.kronecker_product(ket_psi, ket_psi_2)\n",
    "bra_psi_tensor_psi_2 = ket_psi_tensor_ket_psi_2.H\n",
    "op = ket_psi_tensor_ket_psi_2 * bra_psi_tensor_psi_2\n",
    "\n",
    "print(\"\\nOriginal operator op (depends on 8 variables):\")\n",
    "print(op)\n",
    "\n",
    "# 4) Solve the constraint for b_4 (as an example)\n",
    "solutions = sp.solve(constraint_eq, b_4, dict=True)\n",
    "print(\"\\nSolutions for b_4:\")\n",
    "print(solutions)\n",
    "\n",
    "# Pick the + sqrt(...) branch \n",
    "#THIS ONLY DOES POSITIVE BRANCH\n",
    "b4_expr = solutions[0][b_4]\n",
    "print(\"Chosen expression for b_4:\", b4_expr)\n",
    "\n",
    "# 5) Substitute back into the operator\n",
    "op_sub = op.subs(b_4, b4_expr)\n",
    "print(\"\\nOperator op_sub after applying the constraint:\")\n",
    "print(op_sub)\n",
    "\n",
    "# 6) Check which symbols remain\n",
    "remaining_symbols = op_sub.free_symbols\n",
    "print(\"\\nSymbols that remain in op_sub:\")\n",
    "print(remaining_symbols)\n",
    "print(\"Number of free variables:\", len(remaining_symbols))"
   ],
   "id": "8ae40c75d5e8760e",
   "outputs": [
    {
     "name": "stdout",
     "output_type": "stream",
     "text": [
      "\n",
      "Original operator op (depends on 8 variables):\n",
      "Matrix([[(a_1 - 1.0*I*b_1)*(a_1 + 1.0*I*b_1)*(a_3 - 1.0*I*b_3)*(a_3 + 1.0*I*b_3), (a_1 - 1.0*I*b_1)*(a_1 + 1.0*I*b_1)*(a_3 + 1.0*I*b_3)*(a_4 - 1.0*I*b_4), (a_1 + 1.0*I*b_1)*(a_2 - 1.0*I*b_2)*(a_3 - 1.0*I*b_3)*(a_3 + 1.0*I*b_3), (a_1 + 1.0*I*b_1)*(a_2 - 1.0*I*b_2)*(a_3 + 1.0*I*b_3)*(a_4 - 1.0*I*b_4)], [(a_1 - 1.0*I*b_1)*(a_1 + 1.0*I*b_1)*(a_3 - 1.0*I*b_3)*(a_4 + 1.0*I*b_4), (a_1 - 1.0*I*b_1)*(a_1 + 1.0*I*b_1)*(a_4 - 1.0*I*b_4)*(a_4 + 1.0*I*b_4), (a_1 + 1.0*I*b_1)*(a_2 - 1.0*I*b_2)*(a_3 - 1.0*I*b_3)*(a_4 + 1.0*I*b_4), (a_1 + 1.0*I*b_1)*(a_2 - 1.0*I*b_2)*(a_4 - 1.0*I*b_4)*(a_4 + 1.0*I*b_4)], [(a_1 - 1.0*I*b_1)*(a_2 + 1.0*I*b_2)*(a_3 - 1.0*I*b_3)*(a_3 + 1.0*I*b_3), (a_1 - 1.0*I*b_1)*(a_2 + 1.0*I*b_2)*(a_3 + 1.0*I*b_3)*(a_4 - 1.0*I*b_4), (a_2 - 1.0*I*b_2)*(a_2 + 1.0*I*b_2)*(a_3 - 1.0*I*b_3)*(a_3 + 1.0*I*b_3), (a_2 - 1.0*I*b_2)*(a_2 + 1.0*I*b_2)*(a_3 + 1.0*I*b_3)*(a_4 - 1.0*I*b_4)], [(a_1 - 1.0*I*b_1)*(a_2 + 1.0*I*b_2)*(a_3 - 1.0*I*b_3)*(a_4 + 1.0*I*b_4), (a_1 - 1.0*I*b_1)*(a_2 + 1.0*I*b_2)*(a_4 - 1.0*I*b_4)*(a_4 + 1.0*I*b_4), (a_2 - 1.0*I*b_2)*(a_2 + 1.0*I*b_2)*(a_3 - 1.0*I*b_3)*(a_4 + 1.0*I*b_4), (a_2 - 1.0*I*b_2)*(a_2 + 1.0*I*b_2)*(a_4 - 1.0*I*b_4)*(a_4 + 1.0*I*b_4)]])\n",
      "\n",
      "Solutions for b_4:\n",
      "[{b_4: -sqrt(-a_1**2 - a_2**2 - a_3**2 - a_4**2 - b_1**2 - b_2**2 - b_3**2 + 1.0)}, {b_4: sqrt(-a_1**2 - a_2**2 - a_3**2 - a_4**2 - b_1**2 - b_2**2 - b_3**2 + 1.0)}]\n",
      "Chosen expression for b_4: -sqrt(-a_1**2 - a_2**2 - a_3**2 - a_4**2 - b_1**2 - b_2**2 - b_3**2 + 1.0)\n",
      "\n",
      "Operator op_sub after applying the constraint:\n",
      "Matrix([[(a_1 - 1.0*I*b_1)*(a_1 + 1.0*I*b_1)*(a_3 - 1.0*I*b_3)*(a_3 + 1.0*I*b_3), (a_1 - 1.0*I*b_1)*(a_1 + 1.0*I*b_1)*(a_3 + 1.0*I*b_3)*(a_4 + 1.0*I*sqrt(-a_1**2 - a_2**2 - a_3**2 - a_4**2 - b_1**2 - b_2**2 - b_3**2 + 1.0)), (a_1 + 1.0*I*b_1)*(a_2 - 1.0*I*b_2)*(a_3 - 1.0*I*b_3)*(a_3 + 1.0*I*b_3), (a_1 + 1.0*I*b_1)*(a_2 - 1.0*I*b_2)*(a_3 + 1.0*I*b_3)*(a_4 + 1.0*I*sqrt(-a_1**2 - a_2**2 - a_3**2 - a_4**2 - b_1**2 - b_2**2 - b_3**2 + 1.0))], [(a_1 - 1.0*I*b_1)*(a_1 + 1.0*I*b_1)*(a_3 - 1.0*I*b_3)*(a_4 - 1.0*I*sqrt(-a_1**2 - a_2**2 - a_3**2 - a_4**2 - b_1**2 - b_2**2 - b_3**2 + 1.0)), (a_1 - 1.0*I*b_1)*(a_1 + 1.0*I*b_1)*(a_4 - 1.0*I*sqrt(-a_1**2 - a_2**2 - a_3**2 - a_4**2 - b_1**2 - b_2**2 - b_3**2 + 1.0))*(a_4 + 1.0*I*sqrt(-a_1**2 - a_2**2 - a_3**2 - a_4**2 - b_1**2 - b_2**2 - b_3**2 + 1.0)), (a_1 + 1.0*I*b_1)*(a_2 - 1.0*I*b_2)*(a_3 - 1.0*I*b_3)*(a_4 - 1.0*I*sqrt(-a_1**2 - a_2**2 - a_3**2 - a_4**2 - b_1**2 - b_2**2 - b_3**2 + 1.0)), (a_1 + 1.0*I*b_1)*(a_2 - 1.0*I*b_2)*(a_4 - 1.0*I*sqrt(-a_1**2 - a_2**2 - a_3**2 - a_4**2 - b_1**2 - b_2**2 - b_3**2 + 1.0))*(a_4 + 1.0*I*sqrt(-a_1**2 - a_2**2 - a_3**2 - a_4**2 - b_1**2 - b_2**2 - b_3**2 + 1.0))], [(a_1 - 1.0*I*b_1)*(a_2 + 1.0*I*b_2)*(a_3 - 1.0*I*b_3)*(a_3 + 1.0*I*b_3), (a_1 - 1.0*I*b_1)*(a_2 + 1.0*I*b_2)*(a_3 + 1.0*I*b_3)*(a_4 + 1.0*I*sqrt(-a_1**2 - a_2**2 - a_3**2 - a_4**2 - b_1**2 - b_2**2 - b_3**2 + 1.0)), (a_2 - 1.0*I*b_2)*(a_2 + 1.0*I*b_2)*(a_3 - 1.0*I*b_3)*(a_3 + 1.0*I*b_3), (a_2 - 1.0*I*b_2)*(a_2 + 1.0*I*b_2)*(a_3 + 1.0*I*b_3)*(a_4 + 1.0*I*sqrt(-a_1**2 - a_2**2 - a_3**2 - a_4**2 - b_1**2 - b_2**2 - b_3**2 + 1.0))], [(a_1 - 1.0*I*b_1)*(a_2 + 1.0*I*b_2)*(a_3 - 1.0*I*b_3)*(a_4 - 1.0*I*sqrt(-a_1**2 - a_2**2 - a_3**2 - a_4**2 - b_1**2 - b_2**2 - b_3**2 + 1.0)), (a_1 - 1.0*I*b_1)*(a_2 + 1.0*I*b_2)*(a_4 - 1.0*I*sqrt(-a_1**2 - a_2**2 - a_3**2 - a_4**2 - b_1**2 - b_2**2 - b_3**2 + 1.0))*(a_4 + 1.0*I*sqrt(-a_1**2 - a_2**2 - a_3**2 - a_4**2 - b_1**2 - b_2**2 - b_3**2 + 1.0)), (a_2 - 1.0*I*b_2)*(a_2 + 1.0*I*b_2)*(a_3 - 1.0*I*b_3)*(a_4 - 1.0*I*sqrt(-a_1**2 - a_2**2 - a_3**2 - a_4**2 - b_1**2 - b_2**2 - b_3**2 + 1.0)), (a_2 - 1.0*I*b_2)*(a_2 + 1.0*I*b_2)*(a_4 - 1.0*I*sqrt(-a_1**2 - a_2**2 - a_3**2 - a_4**2 - b_1**2 - b_2**2 - b_3**2 + 1.0))*(a_4 + 1.0*I*sqrt(-a_1**2 - a_2**2 - a_3**2 - a_4**2 - b_1**2 - b_2**2 - b_3**2 + 1.0))]])\n",
      "\n",
      "Symbols that remain in op_sub:\n",
      "{b_1, b_2, a_4, b_3, a_3, a_1, a_2}\n",
      "Number of free variables: 7\n"
     ]
    }
   ],
   "execution_count": 13
  },
  {
   "metadata": {
    "ExecuteTime": {
     "end_time": "2025-02-12T16:31:13.108408Z",
     "start_time": "2025-02-12T16:31:12.789078Z"
    }
   },
   "cell_type": "code",
   "source": [
    "epsilon=0\n",
    "\n",
    "# --- Step 2b: The target matrix M ---\n",
    "M = sp.Matrix([\n",
    "    [sp.Rational(1+epsilon,4), 0,               0,               sp.Rational(epsilon,2)],\n",
    "    [0,                 sp.Rational(1-epsilon,4), 0,             0               ],\n",
    "    [0,                 0,               sp.Rational(1-epsilon,4), 0             ],\n",
    "    [sp.Rational(epsilon,2), 0,               0,               sp.Rational(1+epsilon,4)]\n",
    "])\n",
    "\n",
    "# --- Step 3: Equations for op = M ---\n",
    "equations = []\n",
    "for i in range(4):\n",
    "    for j in range(4):\n",
    "        equations.append(sp.Eq(op[i, j], M[i, j]))\n",
    "\n",
    "# --- Step 4: Solve the system ---\n",
    "vars_list = [a_1, b_1, a_2, b_2, a_3, b_3, a_4, b_4]\n",
    "solutions = sp.solve(equations, vars_list, dict=True)\n",
    "\n",
    "print(\"Number of solutions found:\", len(solutions))\n",
    "for i, sol in enumerate(solutions):\n",
    "    print(f\"\\nSolution {i}:\")\n",
    "    for var, val in sol.items():\n",
    "        print(f\"  {var} = {val}\")\n",
    "\n",
    "# --- Step 5: (Optional) verify solution, if any ---\n",
    "if solutions:\n",
    "    sol_0 = solutions[0]\n",
    "    op_sub = op.subs(sol_0)\n",
    "    diff = op_sub - M\n",
    "    print(\"\\nCheck op - M for solution 0 (should be all 0s if exact):\")\n",
    "    print(sp.simplify(diff))\n"
   ],
   "id": "4f372ccfd7cbe8b0",
   "outputs": [
    {
     "name": "stdout",
     "output_type": "stream",
     "text": [
      "Number of solutions found: 0\n"
     ]
    }
   ],
   "execution_count": 19
  },
  {
   "metadata": {
    "ExecuteTime": {
     "end_time": "2025-02-12T16:42:33.764970Z",
     "start_time": "2025-02-12T16:42:33.725145Z"
    }
   },
   "cell_type": "code",
   "source": [
    "import sympy as sp\n",
    "\n",
    "# 1) Define the 4x4 matrix M (a density matrix) symbolically or numerically\n",
    "#    Below is just an example. Replace with your actual M.\n",
    "#    Make sure M is Hermitian, positive semidefinite, and trace=1 for a proper density matrix.\n",
    "A = sp.Rational(1,4)\n",
    "B = sp.Rational(0)\n",
    "M = sp.Matrix([\n",
    "    [A, 0,  0,  B ],\n",
    "    [0, A,  B,  0 ],\n",
    "    [0, B,  A,  0 ],\n",
    "    [B, 0,  0,  A ]\n",
    "])\n",
    "\n",
    "# 2) Check basic properties (optional but good practice)\n",
    "print(\"M is Hermitian?\", M.is_hermitian)\n",
    "print(\"Trace of M =\", M.trace())\n",
    "\n",
    "# 3) Compute eigenvalues & eigenvectors\n",
    "#    eigenvects() returns a list of (eigenvalue, multiplicity, [eigenvectors...])\n",
    "eigen_data = M.eigenvects()\n",
    "\n",
    "print(\"\\nEigen Decomposition of M:\")\n",
    "for (val, multiplicity, evec_list) in eigen_data:\n",
    "    print(f\"Eigenvalue = {val}, multiplicity = {multiplicity}\")\n",
    "    for evec in evec_list:\n",
    "        print(f\"  Eigenvector = {evec}\")\n",
    "\n",
    "# 4) Construct the spectral decomposition\n",
    "#    We store the rank-1 projectors (|psi_k><psi_k|) scaled by eigenvalue lambda_k.\n",
    "#    Note: Each evec should be normalized for the standard form lambda_k |psi_k><psi_k|.\n",
    "spectral_terms = []\n",
    "for (val, _mult, evec_list) in eigen_data:\n",
    "    for evec in evec_list:\n",
    "        # Normalize the eigenvector:\n",
    "        norm_evec = evec / evec.norm()  # ensure length 1\n",
    "        # Outer product:\n",
    "        projector = norm_evec * norm_evec.H  # 4x1 times 1x4 => 4x4 matrix\n",
    "        # Weighted by eigenvalue 'val':\n",
    "        spectral_terms.append(val * projector)\n",
    "\n",
    "# Sum the rank-1 projectors:\n",
    "M_spectral = sum(spectral_terms)\n",
    "\n",
    "# 5) Simplify or compare with original M\n",
    "M_diff = sp.simplify(M_spectral - M)\n",
    "print(\"\\nCheck M_spectral - M (should be zero matrix):\")\n",
    "print(M_diff)\n",
    "\n",
    "# 6) Print or manipulate final decomposition\n",
    "print(\"\\nSpectral Decomposition of M:\\n\")\n",
    "for (val, _mult, evec_list) in eigen_data:\n",
    "    for evec in evec_list:\n",
    "        norm_evec = evec / evec.norm()\n",
    "        print(f\"Eigenvalue: {val}\")\n",
    "        print(f\"Normalized eigenvector: {norm_evec}\")\n",
    "        print()\n"
   ],
   "id": "ee6010c9ea5edb2f",
   "outputs": [
    {
     "name": "stdout",
     "output_type": "stream",
     "text": [
      "M is Hermitian? True\n",
      "Trace of M = 1\n",
      "\n",
      "Eigen Decomposition of M:\n",
      "Eigenvalue = 1/4, multiplicity = 4\n",
      "  Eigenvector = Matrix([[1], [0], [0], [0]])\n",
      "  Eigenvector = Matrix([[0], [1], [0], [0]])\n",
      "  Eigenvector = Matrix([[0], [0], [1], [0]])\n",
      "  Eigenvector = Matrix([[0], [0], [0], [1]])\n"
     ]
    },
    {
     "ename": "TypeError",
     "evalue": "unsupported operand type(s) for +: 'MutableDenseMatrix' and 'int'",
     "output_type": "error",
     "traceback": [
      "\u001B[1;31m---------------------------------------------------------------------------\u001B[0m",
      "\u001B[1;31mTypeError\u001B[0m                                 Traceback (most recent call last)",
      "Cell \u001B[1;32mIn[21], line 43\u001B[0m\n\u001B[0;32m     40\u001B[0m         spectral_terms\u001B[38;5;241m.\u001B[39mappend(val \u001B[38;5;241m*\u001B[39m projector)\n\u001B[0;32m     42\u001B[0m \u001B[38;5;66;03m# Sum the rank-1 projectors:\u001B[39;00m\n\u001B[1;32m---> 43\u001B[0m M_spectral \u001B[38;5;241m=\u001B[39m \u001B[38;5;28msum\u001B[39m(spectral_terms)\n\u001B[0;32m     45\u001B[0m \u001B[38;5;66;03m# 5) Simplify or compare with original M\u001B[39;00m\n\u001B[0;32m     46\u001B[0m M_diff \u001B[38;5;241m=\u001B[39m sp\u001B[38;5;241m.\u001B[39msimplify(M_spectral \u001B[38;5;241m-\u001B[39m M)\n",
      "File \u001B[1;32m~\\anaconda3\\envs\\pulsee_env\\Lib\\site-packages\\sympy\\core\\decorators.py:106\u001B[0m, in \u001B[0;36mcall_highest_priority.<locals>.priority_decorator.<locals>.binary_op_wrapper\u001B[1;34m(self, other)\u001B[0m\n\u001B[0;32m    104\u001B[0m         \u001B[38;5;28;01mif\u001B[39;00m f \u001B[38;5;129;01mis\u001B[39;00m \u001B[38;5;129;01mnot\u001B[39;00m \u001B[38;5;28;01mNone\u001B[39;00m:\n\u001B[0;32m    105\u001B[0m             \u001B[38;5;28;01mreturn\u001B[39;00m f(\u001B[38;5;28mself\u001B[39m)\n\u001B[1;32m--> 106\u001B[0m \u001B[38;5;28;01mreturn\u001B[39;00m func(\u001B[38;5;28mself\u001B[39m, other)\n",
      "File \u001B[1;32m~\\anaconda3\\envs\\pulsee_env\\Lib\\site-packages\\sympy\\matrices\\matrixbase.py:2992\u001B[0m, in \u001B[0;36mMatrixBase.__radd__\u001B[1;34m(self, other)\u001B[0m\n\u001B[0;32m   2990\u001B[0m \u001B[38;5;129m@call_highest_priority\u001B[39m(\u001B[38;5;124m'\u001B[39m\u001B[38;5;124m__add__\u001B[39m\u001B[38;5;124m'\u001B[39m)\n\u001B[0;32m   2991\u001B[0m \u001B[38;5;28;01mdef\u001B[39;00m \u001B[38;5;21m__radd__\u001B[39m(\u001B[38;5;28mself\u001B[39m, other):\n\u001B[1;32m-> 2992\u001B[0m     \u001B[38;5;28;01mreturn\u001B[39;00m \u001B[38;5;28mself\u001B[39m \u001B[38;5;241m+\u001B[39m other\n",
      "\u001B[1;31mTypeError\u001B[0m: unsupported operand type(s) for +: 'MutableDenseMatrix' and 'int'"
     ]
    }
   ],
   "execution_count": 21
  },
  {
   "metadata": {
    "ExecuteTime": {
     "end_time": "2025-02-12T16:47:10.664327Z",
     "start_time": "2025-02-12T16:47:10.159589Z"
    }
   },
   "cell_type": "code",
   "source": [
    "import sympy as sp\n",
    "\n",
    "def is_positive_semidefinite(mat):\n",
    "    \"\"\"Check if all eigenvalues of 'mat' are >= 0 (within numerical tolerance).\"\"\"\n",
    "    vals = mat.eigenvalues()\n",
    "    # We use a small tolerance for floating checks if it's symbolic-floating\n",
    "    # If purely symbolic, one might do more advanced checks.\n",
    "    for v in vals:\n",
    "        if v.is_real is False:\n",
    "            return False  # complex eigenvalue => not PSD\n",
    "        if v.evalf() < -1e-14:\n",
    "            return False  # negative eigenvalue => not PSD\n",
    "    return True\n",
    "\n",
    "def partial_transpose_2x2(mat):\n",
    "    \"\"\"\n",
    "    Partial transpose of a 4x4 matrix 'mat' w.r.t. the second qubit.\n",
    "\n",
    "    The basis is assumed: |00>, |01>, |10>, |11>.\n",
    "    We'll reorder entries: row = (i1,i2), col = (j1,j2).\n",
    "    Then swap i2 <-> j2 in the indexing.\n",
    "    \"\"\"\n",
    "    if mat.shape != (4,4):\n",
    "        raise ValueError(\"Matrix must be 4x4 for a 2-qubit partial transpose.\")\n",
    "    # We'll build a new 4x4 matrix PT = M^{T_2}\n",
    "    PT = sp.zeros(4, 4)\n",
    "    # Map basis index to (i1, i2):\n",
    "    #  0 -> (0,0)\n",
    "    #  1 -> (0,1)\n",
    "    #  2 -> (1,0)\n",
    "    #  3 -> (1,1)\n",
    "    def idx_to_pair(idx):\n",
    "        return (idx//2, idx % 2)\n",
    "\n",
    "    def pair_to_idx(i1, i2):\n",
    "        return 2*i1 + i2\n",
    "\n",
    "    for r in range(4):\n",
    "        i1, i2 = idx_to_pair(r)\n",
    "        for c in range(4):\n",
    "            j1, j2 = idx_to_pair(c)\n",
    "            # Partial transpose => swap i2 <-> j2\n",
    "            # new row = (i1, j2), new col = (j1, i2)\n",
    "            new_r = pair_to_idx(i1, j2)\n",
    "            new_c = pair_to_idx(j1, i2)\n",
    "            PT[new_r, new_c] = mat[r, c]\n",
    "    return PT\n",
    "\n",
    "def is_separable_2qubit(M):\n",
    "    \"\"\"\n",
    "    Check if a 4x4 matrix M (density matrix) is separable (2-qubit),\n",
    "    using the PPT criterion, which is necessary & sufficient in 2x2.\n",
    "\n",
    "    Returns True/False and partial transpose matrix if desired.\n",
    "    \"\"\"\n",
    "    # Optional: check M is Hermitian, has trace=1, etc. We'll skip here for brevity.\n",
    "    # 1) build partial transpose\n",
    "    M_pt = partial_transpose_2x2(M)\n",
    "    # 2) check positivity\n",
    "    if not is_positive_semidefinite(M_pt):\n",
    "        return False\n",
    "    return True"
   ],
   "id": "bd2308b03d6b6d26",
   "outputs": [],
   "execution_count": 1
  },
  {
   "metadata": {
    "ExecuteTime": {
     "end_time": "2025-02-12T16:47:11.153164Z",
     "start_time": "2025-02-12T16:47:10.664327Z"
    }
   },
   "cell_type": "code",
   "source": [
    "# Suppose we have a 4x4 Sympy Matrix M\n",
    "M = sp.eye(4)/4  # maximally mixed state\n",
    "\n",
    "sep = is_separable_2qubit(M)\n",
    "print(\"Is M separable?\", sep)\n"
   ],
   "id": "2b7b243a6dce727a",
   "outputs": [
    {
     "ename": "AttributeError",
     "evalue": "'MutableDenseMatrix' object has no attribute 'eigenvalues'",
     "output_type": "error",
     "traceback": [
      "\u001B[1;31m---------------------------------------------------------------------------\u001B[0m",
      "\u001B[1;31mAttributeError\u001B[0m                            Traceback (most recent call last)",
      "Cell \u001B[1;32mIn[2], line 4\u001B[0m\n\u001B[0;32m      1\u001B[0m \u001B[38;5;66;03m# Suppose we have a 4x4 Sympy Matrix M\u001B[39;00m\n\u001B[0;32m      2\u001B[0m M \u001B[38;5;241m=\u001B[39m sp\u001B[38;5;241m.\u001B[39meye(\u001B[38;5;241m4\u001B[39m)\u001B[38;5;241m/\u001B[39m\u001B[38;5;241m4\u001B[39m  \u001B[38;5;66;03m# maximally mixed state\u001B[39;00m\n\u001B[1;32m----> 4\u001B[0m sep \u001B[38;5;241m=\u001B[39m is_separable_2qubit(M)\n\u001B[0;32m      5\u001B[0m \u001B[38;5;28mprint\u001B[39m(\u001B[38;5;124m\"\u001B[39m\u001B[38;5;124mIs M separable?\u001B[39m\u001B[38;5;124m\"\u001B[39m, sep)\n",
      "Cell \u001B[1;32mIn[1], line 60\u001B[0m, in \u001B[0;36mis_separable_2qubit\u001B[1;34m(M)\u001B[0m\n\u001B[0;32m     58\u001B[0m M_pt \u001B[38;5;241m=\u001B[39m partial_transpose_2x2(M)\n\u001B[0;32m     59\u001B[0m \u001B[38;5;66;03m# 2) check positivity\u001B[39;00m\n\u001B[1;32m---> 60\u001B[0m \u001B[38;5;28;01mif\u001B[39;00m \u001B[38;5;129;01mnot\u001B[39;00m is_positive_semidefinite(M_pt):\n\u001B[0;32m     61\u001B[0m     \u001B[38;5;28;01mreturn\u001B[39;00m \u001B[38;5;28;01mFalse\u001B[39;00m\n\u001B[0;32m     62\u001B[0m \u001B[38;5;28;01mreturn\u001B[39;00m \u001B[38;5;28;01mTrue\u001B[39;00m\n",
      "Cell \u001B[1;32mIn[1], line 5\u001B[0m, in \u001B[0;36mis_positive_semidefinite\u001B[1;34m(mat)\u001B[0m\n\u001B[0;32m      3\u001B[0m \u001B[38;5;28;01mdef\u001B[39;00m \u001B[38;5;21mis_positive_semidefinite\u001B[39m(mat):\n\u001B[0;32m      4\u001B[0m \u001B[38;5;250m    \u001B[39m\u001B[38;5;124;03m\"\"\"Check if all eigenvalues of 'mat' are >= 0 (within numerical tolerance).\"\"\"\u001B[39;00m\n\u001B[1;32m----> 5\u001B[0m     vals \u001B[38;5;241m=\u001B[39m mat\u001B[38;5;241m.\u001B[39meigenvalues()\n\u001B[0;32m      6\u001B[0m     \u001B[38;5;66;03m# We use a small tolerance for floating checks if it's symbolic-floating\u001B[39;00m\n\u001B[0;32m      7\u001B[0m     \u001B[38;5;66;03m# If purely symbolic, one might do more advanced checks.\u001B[39;00m\n\u001B[0;32m      8\u001B[0m     \u001B[38;5;28;01mfor\u001B[39;00m v \u001B[38;5;129;01min\u001B[39;00m vals:\n",
      "\u001B[1;31mAttributeError\u001B[0m: 'MutableDenseMatrix' object has no attribute 'eigenvalues'"
     ]
    }
   ],
   "execution_count": 2
  },
  {
   "metadata": {
    "ExecuteTime": {
     "end_time": "2025-02-12T16:47:26.058253Z",
     "start_time": "2025-02-12T16:47:25.990423Z"
    }
   },
   "cell_type": "code",
   "source": [
    "import cvxpy as cp\n",
    "import numpy as np\n",
    "\n",
    "def qubit_ket(alpha, beta):\n",
    "    \"\"\"\n",
    "    Build a normalized 2D complex vector from real angles alpha, beta.\n",
    "    A standard parameterization:\n",
    "      |psi> = ( cos(alpha), e^{i beta} sin(alpha) )^T\n",
    "    \"\"\"\n",
    "    return np.array([\n",
    "        [np.cos(alpha)],\n",
    "        [np.exp(1j*beta)*np.sin(alpha)]\n",
    "    ], dtype=complex)\n",
    "\n",
    "def product_projector(alpha, beta, gamma, delta):\n",
    "    \"\"\"\n",
    "    Build the 4x4 matrix for \n",
    "      |psi> x |phi> <psi| x <phi|,\n",
    "    given angles (alpha,beta) for |psi> \n",
    "    and (gamma,delta) for |phi>.\n",
    "    \"\"\"\n",
    "    ket_psi = qubit_ket(alpha, beta)\n",
    "    ket_phi = qubit_ket(gamma, delta)\n",
    "    # Tensor product => 4x1\n",
    "    ket_2qubit = np.kron(ket_psi, ket_phi)\n",
    "    # Outer product => 4x4\n",
    "    return ket_2qubit @ ket_2qubit.conj().T\n",
    "\n",
    "def find_separable_decomposition(M, K=4, max_tries=10):\n",
    "    \"\"\"\n",
    "    Try to find p_k >= 0, sum_k p_k=1, plus angles (alpha_k,beta_k,gamma_k,delta_k),\n",
    "    s.t. sum_k p_k * P_k = M, with P_k rank-1 product projectors.\n",
    "    \n",
    "    We'll do a random-restart approach, not guaranteed to converge in all cases.\n",
    "    \"\"\"\n",
    "    # We'll treat the real part & imag part of the matrix equality constraints\n",
    "    M_np = np.array(M.tolist(), dtype=complex)  # convert Sympy Matrix -> NumPy\n",
    "    n = 4\n",
    "\n",
    "    best_sol = None\n",
    "    best_error = 1e9\n",
    "\n",
    "    for attempt in range(max_tries):\n",
    "        # p_k as a CVXPY variable\n",
    "        p_var = cp.Variable(K, nonneg=True)\n",
    "        # angles as unconstrained real variables => we do random tries.\n",
    "        # We'll do a \"sample angles\" approach, then build the sum manually\n",
    "        # then define constraints for the matrix = M is complicated as is.\n",
    "        # Instead, we'll do a direct numeric \"least-squares\" approach\n",
    "        # to see if we can get close. A true solver would need more advanced methods.\n",
    "\n",
    "        # For each k, random angles\n",
    "        alphas = np.random.uniform(0, np.pi, K)\n",
    "        betas  = np.random.uniform(0, 2*np.pi, K)\n",
    "        gammas = np.random.uniform(0, np.pi, K)\n",
    "        deltas = np.random.uniform(0, 2*np.pi, K)\n",
    "\n",
    "        # We'll build sum_k p_k * P_k\n",
    "        # But p_k are unknown. We'll guess angles for now,\n",
    "        # and let p_k be found by linear constraints. That at least is linear in p_k.\n",
    "        projs = []\n",
    "        for k in range(K):\n",
    "            Pk = product_projector(alphas[k], betas[k], gammas[k], deltas[k])\n",
    "            projs.append(Pk)\n",
    "\n",
    "        # Real part constraints: sum_k p_k Re(Pk) = Re(M)\n",
    "        # Imag part constraints: sum_k p_k Im(Pk) = Im(M)\n",
    "        # and sum_k p_k = 1\n",
    "        # We'll flatten them into vectors for CVXPY's linear constraints\n",
    "\n",
    "        # The dimension of each Pk is 4x4 => 16 real constraints for real part, 16 for imag part\n",
    "        # We'll do:\n",
    "        # sum_k p_k * Re(Pk[i,j]) = Re(M[i,j]) for all i,j\n",
    "        # sum_k p_k * Im(Pk[i,j]) = Im(M[i,j]) for all i,j\n",
    "        # In 2-qubit real physical density matrix M, typically Im(M) = 0 for many cases,\n",
    "        # but let's do it fully.\n",
    "\n",
    "        real_mat = np.real(M_np).flatten()\n",
    "        imag_mat = np.imag(M_np).flatten()\n",
    "        real_proj = [np.real(Pk).flatten() for Pk in projs]\n",
    "        imag_proj = [np.imag(Pk).flatten() for Pk in projs]\n",
    "\n",
    "        # We'll create two constraints:\n",
    "        # sum_{k} p_k * real_proj[k] = real_mat\n",
    "        # sum_{k} p_k * imag_proj[k] = imag_mat\n",
    "        # sum_k p_k = 1\n",
    "        constraints = []\n",
    "        # for each index idx in 0..15, sum_{k} p_k * real_proj[k][idx] = real_mat[idx]\n",
    "        for idx in range(n*n):\n",
    "            row_expr_real = 0\n",
    "            row_expr_imag = 0\n",
    "            for k in range(K):\n",
    "                row_expr_real += p_var[k] * real_proj[k][idx]\n",
    "                row_expr_imag += p_var[k] * imag_proj[k][idx]\n",
    "            constraints.append(row_expr_real == real_mat[idx])\n",
    "            constraints.append(row_expr_imag == imag_mat[idx])\n",
    "\n",
    "        # Probability simplex\n",
    "        constraints.append(cp.sum(p_var) == 1)\n",
    "\n",
    "        # We set up a \"dummy\" objective => minimize(0).\n",
    "        # So we do a feasibility problem: find any p_var satisfying constraints\n",
    "        prob = cp.Problem(cp.Minimize(0), constraints)\n",
    "\n",
    "        try:\n",
    "            result = prob.solve(solver=cp.SCS, verbose=False)\n",
    "        except:\n",
    "            continue\n",
    "\n",
    "        if prob.status in [\"optimal\", \"optimal_inaccurate\"]:\n",
    "            # Check how well we match\n",
    "            residual = prob.value\n",
    "            # We'll build the final decomposition\n",
    "            p_sol = p_var.value\n",
    "            # Reconstruct sum_k p_k Pk\n",
    "            test_mat = sum( p_sol[k] * projs[k] for k in range(K) )\n",
    "            err = np.linalg.norm(test_mat - M_np, ord='fro')\n",
    "            if err < best_error:\n",
    "                best_error = err\n",
    "                best_sol = (p_sol, (alphas, betas, gammas, deltas))\n",
    "            if best_error < 1e-12:\n",
    "                break  # good enough\n",
    "\n",
    "    if best_sol is None:\n",
    "        return None\n",
    "    # Return final best decomposition\n",
    "    p_sol, angles_sol = best_sol\n",
    "    alphas, betas, gammas, deltas = angles_sol\n",
    "    return p_sol, alphas, betas, gammas, deltas, best_error\n",
    "\n",
    "# Usage example\n",
    "if __name__ == \"__main__\":\n",
    "    import sympy\n",
    "    # Build an example 2-qubit separable state:\n",
    "    # M = 0.5 * |00><00| + 0.5 * |10><10|\n",
    "    # in 2-qubit space => diag(0.5, 0, 0.5, 0)\n",
    "    M_example = sympy.zeros(4,4)\n",
    "    M_example[0,0] = 0.5\n",
    "    M_example[2,2] = 0.5\n",
    "\n",
    "    # Check PPT\n",
    "    if not is_separable_2qubit(M_example):\n",
    "        print(\"Matrix is entangled or not PPT => no decomposition.\")\n",
    "    else:\n",
    "        print(\"Matrix passes PPT => it is separable or borderline.\")\n",
    "        # Attempt a numeric decomposition with K=2 or K=4\n",
    "        res = find_separable_decomposition(M_example, K=2, max_tries=20)\n",
    "        if res is None:\n",
    "            print(\"No decomposition found with this approach.\")\n",
    "        else:\n",
    "            p_sol, alphas, betas, gammas, deltas, best_err = res\n",
    "            print(\"\\nFound a decomposition with final Fro norm error:\", best_err)\n",
    "            for k in range(len(p_sol)):\n",
    "                print(f\"k={k}, p={p_sol[k]} angles = (alpha={alphas[k]}, beta={betas[k]}, gamma={gammas[k]}, delta={deltas[k]})\")\n"
   ],
   "id": "43a02c22c746a88f",
   "outputs": [
    {
     "ename": "ModuleNotFoundError",
     "evalue": "No module named 'cvxpy'",
     "output_type": "error",
     "traceback": [
      "\u001B[1;31m---------------------------------------------------------------------------\u001B[0m",
      "\u001B[1;31mModuleNotFoundError\u001B[0m                       Traceback (most recent call last)",
      "Cell \u001B[1;32mIn[3], line 1\u001B[0m\n\u001B[1;32m----> 1\u001B[0m \u001B[38;5;28;01mimport\u001B[39;00m \u001B[38;5;21;01mcvxpy\u001B[39;00m \u001B[38;5;28;01mas\u001B[39;00m \u001B[38;5;21;01mcp\u001B[39;00m\n\u001B[0;32m      2\u001B[0m \u001B[38;5;28;01mimport\u001B[39;00m \u001B[38;5;21;01mnumpy\u001B[39;00m \u001B[38;5;28;01mas\u001B[39;00m \u001B[38;5;21;01mnp\u001B[39;00m\n\u001B[0;32m      4\u001B[0m \u001B[38;5;28;01mdef\u001B[39;00m \u001B[38;5;21mqubit_ket\u001B[39m(alpha, beta):\n",
      "\u001B[1;31mModuleNotFoundError\u001B[0m: No module named 'cvxpy'"
     ]
    }
   ],
   "execution_count": 3
  }
 ],
 "metadata": {
  "kernelspec": {
   "display_name": "Python 3 (ipykernel)",
   "language": "python",
   "name": "python3"
  },
  "language_info": {
   "codemirror_mode": {
    "name": "ipython",
    "version": 3
   },
   "file_extension": ".py",
   "mimetype": "text/x-python",
   "name": "python",
   "nbconvert_exporter": "python",
   "pygments_lexer": "ipython3",
   "version": "3.11.7"
  }
 },
 "nbformat": 4,
 "nbformat_minor": 5
}

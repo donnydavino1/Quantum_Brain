{
 "cells": [
  {
   "cell_type": "code",
   "id": "initial_id",
   "metadata": {
    "collapsed": true,
    "ExecuteTime": {
     "end_time": "2025-01-29T23:53:03.220105Z",
     "start_time": "2025-01-29T23:53:03.214001Z"
    }
   },
   "source": [
    "SFO1 = 202.4744410 * 10 ** 6\n",
    "SFO2 = 202.4751948 * 10 ** 6\n",
    "import numpy as np\n",
    "import numpy as np\n",
    "from scipy.optimize import fsolve\n",
    "pi=np.pi\n",
    "(SFO1-SFO2)**2*4*np.pi*((0.35)*10**(-11))**2 "
   ],
   "outputs": [
    {
     "data": {
      "text/plain": [
       "8.746981721078084e-17"
      ]
     },
     "execution_count": 392,
     "metadata": {},
     "output_type": "execute_result"
    }
   ],
   "execution_count": 392
  },
  {
   "metadata": {
    "ExecuteTime": {
     "end_time": "2025-01-29T23:53:03.230161Z",
     "start_time": "2025-01-29T23:53:03.225091Z"
    }
   },
   "cell_type": "code",
   "source": "(SFO1-SFO2)",
   "id": "3df5c071bca37497",
   "outputs": [
    {
     "data": {
      "text/plain": [
       "-753.8000000119209"
      ]
     },
     "execution_count": 393,
     "metadata": {},
     "output_type": "execute_result"
    }
   ],
   "execution_count": 393
  },
  {
   "metadata": {
    "ExecuteTime": {
     "end_time": "2025-01-29T23:53:03.241122Z",
     "start_time": "2025-01-29T23:53:03.231161Z"
    }
   },
   "cell_type": "code",
   "source": [
    "#H20 all units are in cgs (GAUSS)\n",
    "I=1/2\n",
    "h=6.626196e-27   #erg*s\n",
    "hbar=h/(2*pi)\n",
    "mu_N=5.050783e-24 #erg*G-1\n",
    "mu_p=2.793*mu_N \n",
    "\n",
    "#gamma\n",
    "gamma=(2*pi*mu_p)/(I*h)\n",
    "\n",
    "#Tau_c\n",
    "a=1.5e-8 #cm\n",
    "k=1.380622e-16 # erg K-1\n",
    "#T= 310.15 #K\n",
    "T= 293.15 #K\n",
    "nu=.01\n",
    "tau_c=4*pi*nu*a**3/(3*k*T)\n",
    "\n",
    "r=a #cm\n",
    "\n",
    "T1_inverse=(9*tau_c*(gamma**4)*(hbar**2))/(10*r**6)\n",
    "T1=T1_inverse**-1\n",
    "\n",
    "print(\"gamma = \", gamma)\n",
    "print(\"tau_c = \", tau_c)\n",
    "print(\"T1 inverse = \", T1_inverse)\n",
    "print(\"T1 = \", T1)"
   ],
   "id": "c41f4ad8de3199dd",
   "outputs": [
    {
     "name": "stdout",
     "output_type": "stream",
     "text": [
      "gamma =  26753.168925350034\n",
      "tau_c =  3.492992864220078e-12\n",
      "T1 inverse =  0.15723977001181721\n",
      "T1 =  6.359714211772543\n"
     ]
    }
   ],
   "execution_count": 394
  },
  {
   "metadata": {
    "ExecuteTime": {
     "end_time": "2025-01-29T23:53:03.260222Z",
     "start_time": "2025-01-29T23:53:03.245693Z"
    }
   },
   "cell_type": "code",
   "source": [
    "#ADP all units are in cgs (GAUSS)\n",
    "I=1/2\n",
    "h=6.626196e-27   #erg*s\n",
    "hbar=h/(2*pi)\n",
    "mu_N=5.050783e-24 #erg*G-1\n",
    "mu_p=2.793*mu_N \n",
    "\n",
    "#gamma\n",
    "gamma=(2*pi*mu_p)/(I*h)\n",
    "\n",
    "#Tau_c\n",
    "a=(11.188/2)*1e-8 #cm       #radius of molecule\n",
    "k=1.380622e-16 # erg K-1\n",
    "T= 310.15 #K\n",
    "#T= 298.15 #K\n",
    "nu=.01\n",
    "tau_c=4*pi*nu*a**3/(3*k*T)\n",
    "\n",
    "r=2.977 #angstrom    #distance between spin 1/2 particles\n",
    "r=r*1e-8 #cm   #https://pubmed.ncbi.nlm.nih.gov/30156411/\n",
    "\n",
    "T1_inverse=(9*tau_c*(gamma**4)*(hbar**2))/(10*r**6)\n",
    "T1=T1_inverse**-1\n",
    "\n",
    "print(\"gamma = \", gamma)\n",
    "print(\"tau_c = \", tau_c)\n",
    "print(\"T1 inverse = \", T1_inverse)\n",
    "print(\"T1 = \", T1)"
   ],
   "id": "af1d6c8b878f7c1d",
   "outputs": [
    {
     "name": "stdout",
     "output_type": "stream",
     "text": [
      "gamma =  26753.168925350034\n",
      "tau_c =  1.712416565275625e-10\n",
      "T1 inverse =  0.1261387922295572\n",
      "T1 =  7.927775288827263\n"
     ]
    }
   ],
   "execution_count": 395
  },
  {
   "metadata": {
    "ExecuteTime": {
     "end_time": "2025-01-29T23:53:03.277537Z",
     "start_time": "2025-01-29T23:53:03.270566Z"
    }
   },
   "cell_type": "code",
   "source": [
    "# Define the function to solve for T2'\n",
    "def equation(T2_prime):\n",
    "    return (1 / T2_prime)**2 - (3 / np.pi) * C1 * np.arctan(2 * tau_c / T2_prime)\n",
    "\n",
    "# Provide an initial guess for T2_prime (should be a reasonable positive number)\n",
    "initial_guess = 1.0\n",
    "\n",
    "# Solve for T2_prime\n",
    "solution = fsolve(equation, initial_guess)\n",
    "\n",
    "# Print the result\n",
    "print(\"T2' =\", solution[0])"
   ],
   "id": "d6d7e78eebf8518b",
   "outputs": [
    {
     "name": "stdout",
     "output_type": "stream",
     "text": [
      "T2' = 12.452920303345214\n"
     ]
    }
   ],
   "execution_count": 396
  },
  {
   "metadata": {
    "ExecuteTime": {
     "end_time": "2025-01-29T23:54:02.162132Z",
     "start_time": "2025-01-29T23:54:02.154825Z"
    }
   },
   "cell_type": "code",
   "source": [
    "T2_inverse=(2/pi)**(1/2)*(1/solution[0])+(1/(2*T1))\n",
    "T2_inverse"
   ],
   "id": "97371c997d96332a",
   "outputs": [
    {
     "data": {
      "text/plain": [
       "0.12714148052284557"
      ]
     },
     "execution_count": 398,
     "metadata": {},
     "output_type": "execute_result"
    }
   ],
   "execution_count": 398
  },
  {
   "metadata": {
    "ExecuteTime": {
     "end_time": "2025-01-29T23:53:03.289975Z",
     "start_time": "2025-01-29T23:53:03.287763Z"
    }
   },
   "cell_type": "code",
   "source": "",
   "id": "355c9c386e93a0dc",
   "outputs": [],
   "execution_count": 397
  }
 ],
 "metadata": {
  "kernelspec": {
   "display_name": "Python 3",
   "language": "python",
   "name": "python3"
  },
  "language_info": {
   "codemirror_mode": {
    "name": "ipython",
    "version": 2
   },
   "file_extension": ".py",
   "mimetype": "text/x-python",
   "name": "python",
   "nbconvert_exporter": "python",
   "pygments_lexer": "ipython2",
   "version": "2.7.6"
  }
 },
 "nbformat": 4,
 "nbformat_minor": 5
}

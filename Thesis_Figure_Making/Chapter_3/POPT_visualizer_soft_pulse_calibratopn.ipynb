{
 "cells": [
  {
   "cell_type": "code",
   "metadata": {
    "ExecuteTime": {
     "end_time": "2024-12-28T20:28:41.272842Z",
     "start_time": "2024-12-28T20:28:41.269700Z"
    }
   },
   "source": [
    "#This code uses Topspin pulse program: cpmg. In order for this version of the code to run, experiment should be calibrated\n",
    "#with the same parameters that allow zg spectrum to be centerd on only doublet.\n",
    "\n",
    "#It may be possible to change this code to analyze multiple doublets, but have to think more about how chemical shift evolution would affect this, and how to account for correct x axis with multiple peaks."
   ],
   "outputs": [],
   "execution_count": 15
  },
  {
   "cell_type": "code",
   "metadata": {
    "ExecuteTime": {
     "end_time": "2024-12-28T20:28:41.614571Z",
     "start_time": "2024-12-28T20:28:41.606969Z"
    }
   },
   "source": [
    "import os\n",
    "import pandas as pd\n",
    "import matplotlib as mpl\n",
    "import matplotlib.pyplot as plt\n",
    "import nmrglue as ng\n",
    "import numpy as np\n",
    "from scipy import integrate\n",
    "from scipy.optimize import curve_fit\n",
    "\n",
    "import global_constants as glob\n",
    "\n",
    "#%matplotlib notebook # commented out cuz it causes my computer to not plot anything\n",
    "# import pulsee.simulation as sim\n",
    "# from statistics import median\n",
    "plt.rcParams['figure.dpi'] = glob.DPI_DISPLAY\n",
    "\n",
    "plt.rcParams['font.family'] = ['Helvetica']\n",
    "\"\"\" This is to save plots as PDF with editable text (so that Adobe illustrator recognizes text) \"\"\"\n",
    "mpl.rcParams['pdf.fonttype'] = 42\n",
    "mpl.rcParams['ps.fonttype'] = 42\n",
    "\n"
   ],
   "outputs": [],
   "execution_count": 16
  },
  {
   "metadata": {},
   "cell_type": "markdown",
   "source": "# Helper Functions"
  },
  {
   "metadata": {
    "ExecuteTime": {
     "end_time": "2024-12-28T20:28:41.667221Z",
     "start_time": "2024-12-28T20:28:41.661536Z"
    }
   },
   "cell_type": "code",
   "source": [
    "def combine_to_magnitude(real, imag):\n",
    "    assert len(real) == len(imag)\n",
    "    return np.sqrt(real ** 2 + imag ** 2)\n",
    "\n",
    "\n",
    "def get_folder_path(f_n):\n",
    "    return fr\"{Bruker_folders_path}\\{f_n}\\pdata\\1\"\n",
    "\n",
    "# Inversion Recovery\n",
    "def t1_func(tau, a, t1):\n",
    "    return a * (1 - 2 * np.exp(-tau / t1))\n",
    "\n",
    "def t2_func(x, t2, a, b, k, offset):\n",
    "    return a * np.exp(-x / t2) + b * np.sin(k * x) + offset\n",
    "\n",
    "\n",
    "def t2_func_exp(x, T2, A, omega, Tj, C, offset1, offset2):\n",
    "    return (A * np.cos(omega * x + offset2) * np.exp(-x / Tj) + C) * np.exp(-x / T2) + offset1"
   ],
   "outputs": [],
   "execution_count": 17
  },
  {
   "cell_type": "markdown",
   "metadata": {
    "jupyter": {
     "outputs_hidden": false
    }
   },
   "source": [
    "# Importing Data\n",
    "#### Select Filepath to CPMG Experiment"
   ]
  },
  {
   "cell_type": "code",
   "metadata": {
    "jupyter": {
     "outputs_hidden": false
    },
    "ExecuteTime": {
     "end_time": "2024-12-28T20:28:41.710232Z",
     "start_time": "2024-12-28T20:28:41.706248Z"
    }
   },
   "source": [
    "# Bruker_folders_path = r\"C:\\Users\\donny\\Desktop\\desktop_files\\Brown\\All_data\\All_data_after_7_25\\Sample132_05_07_2024\"\n",
    "Bruker_folders_path = r\"C:\\Users\\donny\\Desktop\\desktop_files\\Brown\\All_data\\Final_Organized_MIT_DATA\\2024_12_23-24\\NOT_TOMOGRAPHY\\POPT_D7\""
   ],
   "outputs": [],
   "execution_count": 18
  },
  {
   "cell_type": "code",
   "metadata": {
    "jupyter": {
     "outputs_hidden": false
    },
    "ExecuteTime": {
     "end_time": "2024-12-28T20:28:41.764138Z",
     "start_time": "2024-12-28T20:28:41.759742Z"
    }
   },
   "source": [
    "folder_nums = os.listdir(f\"{Bruker_folders_path}\")\n",
    "folder_nums_sorted = sorted(folder_nums, key=lambda x: int(''.join(filter(str.isdigit, x))))\n",
    "print(folder_nums_sorted)\n",
    "folder_name = folder_nums_sorted[0]\n",
    "#folder_nums = [str(s) for s in (sorted([int(x) for x in folder_nums]))] # ordering by increasing number value\n",
    "print(folder_name)"
   ],
   "outputs": [
    {
     "name": "stdout",
     "output_type": "stream",
     "text": [
      "['110']\n",
      "110\n"
     ]
    }
   ],
   "execution_count": 19
  },
  {
   "metadata": {
    "ExecuteTime": {
     "end_time": "2024-12-28T20:28:41.786139Z",
     "start_time": "2024-12-28T20:28:41.781974Z"
    }
   },
   "cell_type": "code",
   "source": "get_folder_path(folder_name)",
   "outputs": [
    {
     "data": {
      "text/plain": [
       "'C:\\\\Users\\\\donny\\\\Desktop\\\\desktop_files\\\\Brown\\\\All_data\\\\Final_Organized_MIT_DATA\\\\2024_12_23-24\\\\NOT_TOMOGRAPHY\\\\POPT_D7\\\\110\\\\pdata\\\\1'"
      ]
     },
     "execution_count": 20,
     "metadata": {},
     "output_type": "execute_result"
    }
   ],
   "execution_count": 20
  },
  {
   "cell_type": "code",
   "metadata": {
    "jupyter": {
     "outputs_hidden": false
    },
    "ExecuteTime": {
     "end_time": "2024-12-28T20:28:41.817236Z",
     "start_time": "2024-12-28T20:28:41.810487Z"
    }
   },
   "source": [
    "# all_components=True to get both the real & imaginary spectra\n",
    "all_data = ng.bruker.read_pdata(get_folder_path(folder_name), all_components=True)[1]\n",
    "all_data = np.array(all_data)\n",
    "print(all_data.shape)\n",
    "#this step will not work without \"XF2\" which makes 2ii file from 2rr\n",
    "print(\n",
    "    'Output of this cell should look something like \"(2, 1024, 32768)\". If it is only 2 numbers long you need to open the Topspin file and run \"XF2\".')"
   ],
   "outputs": [
    {
     "name": "stdout",
     "output_type": "stream",
     "text": [
      "(2, 32768)\n",
      "Output of this cell should look something like \"(2, 1024, 32768)\". If it is only 2 numbers long you need to open the Topspin file and run \"XF2\".\n"
     ]
    }
   ],
   "execution_count": 21
  },
  {
   "metadata": {
    "ExecuteTime": {
     "end_time": "2024-12-28T20:28:41.914318Z",
     "start_time": "2024-12-28T20:28:41.903415Z"
    }
   },
   "cell_type": "code",
   "source": [
    "import nmrglue as ng\n",
    "import matplotlib.pyplot as plt\n",
    "\n",
    "# read in the bruker formatted data\n",
    "dic, data = ng.fileio.bruker.read_pdata(r\"C:\\Users\\donny\\Desktop\\desktop_files\\Brown\\All_data\\Final_Organized_MIT_DATA\\2024_12_23-24\\NOT_TOMOGRAPHY\\POPT_SPW1\\109\\pdata\\999\")\n",
    "\n",
    "\n",
    "data"
   ],
   "outputs": [
    {
     "data": {
      "text/plain": [
       "array([-385174., -400236., -425465., ..., 1548972., 1512319., 1455329.])"
      ]
     },
     "execution_count": 22,
     "metadata": {},
     "output_type": "execute_result"
    }
   ],
   "execution_count": 22
  },
  {
   "metadata": {
    "ExecuteTime": {
     "end_time": "2024-12-28T20:28:42.318346Z",
     "start_time": "2024-12-28T20:28:41.935742Z"
    }
   },
   "cell_type": "code",
   "source": [
    "AQ=1.6 #s\n",
    "End=.02016\n",
    "# Create a DataFrame with real, imaginary, and time values\n",
    "time = np.linspace(0, End, len(data))\n",
    "df = pd.DataFrame({\n",
    "    \"Power\": time,\n",
    "    \"Real\": data,\n",
    "})\n",
    "\n",
    "# Plot Real and Imaginary FID on the same plot\n",
    "plt.figure(figsize=(10, 6))\n",
    "plt.plot(df[\"Power\"], df[\"Real\"], label=\"Real\")\n",
    "plt.xlabel('Power (W)', fontsize=18)\n",
    "plt.ylabel('Signal (a.u.)', fontsize=18)\n",
    "plt.title('SPW1 POPT', fontsize=26)\n",
    "plt.legend()\n",
    "plt.grid(True)\n",
    "plt.show()"
   ],
   "outputs": [
    {
     "data": {
      "text/plain": [
       "<Figure size 1000x600 with 1 Axes>"
      ],
      "image/png": "[encoded data removed]"
     },
     "metadata": {},
     "output_type": "display_data"
    }
   ],
   "execution_count": 23
  },
  {
   "metadata": {
    "ExecuteTime": {
     "end_time": "2024-12-28T20:28:42.695903Z",
     "start_time": "2024-12-28T20:28:42.319347Z"
    }
   },
   "cell_type": "code",
   "source": [
    "#data=ng.process.proc_autophase.autops(data, \"acme\", p0=90.0, p1=0.0)\n",
    "\n",
    "# Create a DataFrame with real, imaginary, and time values\n",
    "time = np.linspace(0, AQ, len(data))\n",
    "df = pd.DataFrame({\n",
    "    \"Time\": time,\n",
    "    \"Real\": data,\n",
    "})\n",
    "\n",
    "# Plot Real and Imaginary FID on the same plot\n",
    "plt.figure(figsize=(10, 6))\n",
    "plt.plot(df[\"Time\"], df[\"Real\"], label=\"Real\")\n",
    "plt.xlabel('Time (s)', fontsize=18)\n",
    "plt.ylabel('Signal (a.u.)', fontsize=18)\n",
    "plt.title('Real and Imaginary FID', fontsize=26)\n",
    "plt.legend()\n",
    "plt.grid(True)\n",
    "plt.xlim(0,.4)\n",
    "plt.show()"
   ],
   "outputs": [
    {
     "data": {
      "text/plain": [
       "<Figure size 1000x600 with 1 Axes>"
      ],
      "image/png": "[encoded data removed]"
     },
     "metadata": {},
     "output_type": "display_data"
    }
   ],
   "execution_count": 24
  },
  {
   "metadata": {
    "ExecuteTime": {
     "end_time": "2024-12-28T20:28:42.721168Z",
     "start_time": "2024-12-28T20:28:42.696912Z"
    }
   },
   "cell_type": "code",
   "source": [
    "\n",
    "\n",
    "# Create a DataFrame with real and time values\n",
    "time = np.linspace(0, AQ, len(data))\n",
    "df = pd.DataFrame({\n",
    "    \"Time\": time,\n",
    "    \"Real\": data,\n",
    "})\n",
    "\n",
    "# Apply a 90-degree phase shift using the Hilbert transform\n",
    "analytic_signal = hilbert(data)  # Compute the analytic signal\n",
    "shifted_signal = np.imag(analytic_signal)  # The imaginary part is the 90° phase-shifted signal\n",
    "\n",
    "# Add the shifted signal to the DataFrame\n",
    "df[\"Shifted\"] = shifted_signal\n",
    "\n",
    "# Plot the original and phase-shifted signals\n",
    "plt.figure(figsize=(10, 6))\n",
    "plt.plot(df[\"Time\"], df[\"Real\"], label=\"Original Signal (Real)\")\n",
    "plt.plot(df[\"Time\"], df[\"Shifted\"], label=\"90° Phase-Shifted Signal\")\n",
    "plt.xlabel('Time (s)', fontsize=18)\n",
    "plt.ylabel('Signal (a.u.)', fontsize=18)\n",
    "plt.title('Original and 90° Phase-Shifted Signal', fontsize=26)\n",
    "plt.legend()\n",
    "plt.grid(True)\n",
    "plt.xlim(0, 0.4)\n",
    "plt.show()\n"
   ],
   "outputs": [
    {
     "ename": "NameError",
     "evalue": "name 'hilbert' is not defined",
     "output_type": "error",
     "traceback": [
      "\u001B[1;31m---------------------------------------------------------------------------\u001B[0m",
      "\u001B[1;31mNameError\u001B[0m                                 Traceback (most recent call last)",
      "Cell \u001B[1;32mIn[25], line 9\u001B[0m\n\u001B[0;32m      3\u001B[0m df \u001B[38;5;241m=\u001B[39m pd\u001B[38;5;241m.\u001B[39mDataFrame({\n\u001B[0;32m      4\u001B[0m     \u001B[38;5;124m\"\u001B[39m\u001B[38;5;124mTime\u001B[39m\u001B[38;5;124m\"\u001B[39m: time,\n\u001B[0;32m      5\u001B[0m     \u001B[38;5;124m\"\u001B[39m\u001B[38;5;124mReal\u001B[39m\u001B[38;5;124m\"\u001B[39m: data,\n\u001B[0;32m      6\u001B[0m })\n\u001B[0;32m      8\u001B[0m \u001B[38;5;66;03m# Apply a 90-degree phase shift using the Hilbert transform\u001B[39;00m\n\u001B[1;32m----> 9\u001B[0m analytic_signal \u001B[38;5;241m=\u001B[39m hilbert(data)  \u001B[38;5;66;03m# Compute the analytic signal\u001B[39;00m\n\u001B[0;32m     10\u001B[0m shifted_signal \u001B[38;5;241m=\u001B[39m np\u001B[38;5;241m.\u001B[39mimag(analytic_signal)  \u001B[38;5;66;03m# The imaginary part is the 90° phase-shifted signal\u001B[39;00m\n\u001B[0;32m     12\u001B[0m \u001B[38;5;66;03m# Add the shifted signal to the DataFrame\u001B[39;00m\n",
      "\u001B[1;31mNameError\u001B[0m: name 'hilbert' is not defined"
     ]
    }
   ],
   "execution_count": 25
  },
  {
   "cell_type": "markdown",
   "metadata": {},
   "source": [
    "# Define Parameters Needed for Calculation"
   ]
  },
  {
   "cell_type": "code",
   "metadata": {},
   "source": [
    "SIZE_OF_FID = 44\n",
    "VD_START = 0\n",
    "VD_END = .245\n",
    "VD_STEP_SIZE = 0.005\n",
    "VDS = np.linspace(VD_START, VD_END, SIZE_OF_FID)  # inclusive of start & end\n",
    "\n",
    "PULSE_DURATION_90 = 16.6E-6  # (s)\n",
    "PULSE_DURATION_180 = 33.1E-6  # (s)\n",
    "# d20 = 1.25E-3  # (s) [d20-180-d20] loop\n",
    "SPECTRUM_WIDTH = 8196.721  # Hz #for F2 I believe\n",
    "J = 21.77  # Hz\n",
    "#ns 8\n",
    "\n",
    "# DO NOT NEED FOR CALCULATION\n",
    "#B_0 = 9  # Tesla\n",
    "#SPECTRUM_OFFSET = 49697.66\n",
    "#w_1_Bruker = 242950699.7  # Hz\n",
    "#w_2_Bruker = 242951648.8  # Hz\n",
    "#TEMP = 310  # Kelvin\n",
    "#BF1 = 161.9755930"
   ],
   "outputs": [],
   "execution_count": null
  },
  {
   "cell_type": "markdown",
   "metadata": {
    "jupyter": {
     "outputs_hidden": false
    }
   },
   "source": [
    "### Plot Bruker Spectrum Data"
   ]
  },
  {
   "cell_type": "code",
   "metadata": {
    "jupyter": {
     "outputs_hidden": false
    }
   },
   "source": [
    "all_data = np.flip(all_data, axis=2)  #Flip the frequency axis\n",
    "# Cut off all zero data point\n",
    "all_data = all_data[:, :SIZE_OF_FID, :]  #(-1 python starts at index zero)\n",
    "\n",
    "\n",
    "# data_mag = combine_to_magnitude(all_data[0], all_data[1])\n",
    "data_mag = all_data[0]  # wrong name! but keeping it for now\n",
    "print(all_data.shape, data_mag.shape)"
   ],
   "outputs": [],
   "execution_count": null
  },
  {
   "cell_type": "code",
   "metadata": {},
   "source": [
    "#2nd method\n",
    "# #Auto Phase Data\n",
    "# complex_data = np.array(all_data[0] + 1j * all_data[1])\n",
    "# fixed=ng.process.proc_autophase.autops(complex_data, \"acme\", p0=0.0, p1=0.0)\n",
    "# real_part = np.real(fixed)\n",
    "# imaginary_part = np.imag(fixed)\n",
    "\n",
    "# tt=np.sqrt(real_part**2 + imaginary_part**2)\n",
    "# tt.shape\n",
    "# plt.plot(tt[8])"
   ],
   "outputs": [],
   "execution_count": null
  },
  {
   "cell_type": "code",
   "metadata": {
    "jupyter": {
     "outputs_hidden": false
    }
   },
   "source": [
    "plt.plot(data_mag[0])\n",
    "plt.plot(data_mag[round(SIZE_OF_FID / 8)])\n",
    "plt.plot(data_mag[round(SIZE_OF_FID / 2)])\n",
    "plt.plot(data_mag[SIZE_OF_FID - 1])"
   ],
   "outputs": [],
   "execution_count": null
  },
  {
   "cell_type": "markdown",
   "metadata": {},
   "source": [
    "# Calculating the frequency axis for the spectrum\n",
    "According to Bruker's software, the middle of the spectrum should be the experimental larmor frequency (with chemical shift included), and we can set this to 0 Hz. In other words, the frequency axis range is: (-spectrum_width/2, spectrum/2), with 0 in the middle, and left peak should occur at -$J$ and right peak at $J$"
   ]
  },
  {
   "cell_type": "code",
   "metadata": {},
   "source": [
    "freqs = np.linspace(-SPECTRUM_WIDTH / 2, SPECTRUM_WIDTH / 2, data_mag.shape[1])\n",
    "L_FREQ = -J / 2\n",
    "R_FREQ = J / 2"
   ],
   "outputs": [],
   "execution_count": null
  },
  {
   "metadata": {},
   "cell_type": "code",
   "source": [
    "I_RANDOM = 0\n",
    "fig, ax = plt.subplots()\n",
    "Y_OFFSET = 1E8\n",
    "\n",
    "for i in range(SIZE_OF_FID):\n",
    "    ax.plot(freqs, data_mag[i] + Y_OFFSET * i)\n",
    "ax.set_xlim(-820, -720)"
   ],
   "outputs": [],
   "execution_count": null
  },
  {
   "cell_type": "markdown",
   "metadata": {},
   "source": [
    "# Plotting a Few Spectra"
   ]
  },
  {
   "cell_type": "code",
   "metadata": {},
   "source": [
    "DISPLAY_INDICES = [0, round(SIZE_OF_FID / 8), round(SIZE_OF_FID / 2),\n",
    "                   SIZE_OF_FID - 1]  #Python starts couting at 0, while Bruker starts counting at zero hence the \"-1\"\n",
    "N_DISPLAY = len(DISPLAY_INDICES)\n",
    "\n",
    "INTGR_WIDTH = 10  # in Hz. The width to integrate over.\n",
    "X_LIMS_DISPLAY = [-20, 20]\n",
    "i_L = np.absolute(freqs - X_LIMS_DISPLAY[0]).argmin()\n",
    "i_R = np.absolute(freqs - X_LIMS_DISPLAY[1]).argmin()\n",
    "\n",
    "fig, axs = plt.subplots(N_DISPLAY, 1, figsize=(2 * N_DISPLAY, 8), sharex=True, sharey=False)\n",
    "\n",
    "# Making an offset so the red lines visually line up with the peaks\n",
    "intgr_offset = 0\n",
    "intgr_centers = (L_FREQ + intgr_offset, R_FREQ + intgr_offset)\n",
    "\n",
    "for i_axis, i_spectrum in enumerate(DISPLAY_INDICES):\n",
    "    # plot the spectrum\n",
    "    ax = axs[i_axis]\n",
    "    ax.plot(freqs[i_L: i_R + 1], data_mag[i_spectrum][i_L: i_R + 1])\n",
    "    ax.grid(alpha=0.5)\n",
    "    ax.set(xlabel='Offset Freq (Hz)')\n",
    "    ax.label_outer()\n",
    "    ax.tick_params(direction='in')\n",
    "\n",
    "    # red centers\n",
    "    ax.axvline(intgr_centers[0], color='r', alpha=0.5)\n",
    "    ax.axvline(intgr_centers[1], color='r', alpha=0.5)\n",
    "    # orange integration window\n",
    "    ax.axvspan(intgr_centers[0] - INTGR_WIDTH / 2, intgr_centers[0] + INTGR_WIDTH / 2, color='orange', alpha=0.5)\n",
    "    ax.axvspan(intgr_centers[1] - INTGR_WIDTH / 2, intgr_centers[1] + INTGR_WIDTH / 2, color='orange', alpha=0.5)\n",
    "\n",
    "    # plot integration lines\n",
    "\n",
    "fig.suptitle('Spectra_Theory for T2')\n",
    "fig.tight_layout()\n",
    "plt.show()"
   ],
   "outputs": [],
   "execution_count": null
  },
  {
   "cell_type": "markdown",
   "metadata": {},
   "source": [
    "# Integrate each spectrum to get the peak intensities\n",
    "1. Integrate sample points using (`scipy.integrate.trapezoid`)\n",
    "2. Integrate sample points using (`scipy.integrate.simpson`)"
   ]
  },
  {
   "cell_type": "code",
   "metadata": {},
   "source": [
    "def integrate_doublet(spectrum):\n",
    "    i_L_lo = np.abs(freqs - (intgr_centers[0] - INTGR_WIDTH / 2)).argmin()\n",
    "    i_L_hi = np.abs(freqs - (intgr_centers[0] + INTGR_WIDTH / 2)).argmin()\n",
    "    i_R_lo = np.abs(freqs - (intgr_centers[1] - INTGR_WIDTH / 2)).argmin()\n",
    "    i_R_hi = np.abs(freqs - (intgr_centers[1] + INTGR_WIDTH / 2)).argmin()\n",
    "\n",
    "    area_L = integrate.trapezoid(spectrum[i_L_lo: i_L_hi])\n",
    "    area_R = integrate.trapezoid(spectrum[i_R_lo: i_R_hi])\n",
    "    return area_L, area_R"
   ],
   "outputs": [],
   "execution_count": null
  },
  {
   "cell_type": "code",
   "metadata": {
    "jupyter": {
     "outputs_hidden": false
    }
   },
   "source": [
    "areas_all = [integrate_doublet(spectrum) for spectrum in data_mag]\n",
    "areas_all = np.array(areas_all)\n",
    "areas_all.shape"
   ],
   "outputs": [],
   "execution_count": null
  },
  {
   "cell_type": "code",
   "metadata": {
    "jupyter": {
     "outputs_hidden": false
    }
   },
   "source": [
    "areas_left = areas_all[:, 0]\n",
    "areas_right = areas_all[:, 1]"
   ],
   "outputs": [],
   "execution_count": null
  },
  {
   "cell_type": "markdown",
   "metadata": {
    "jupyter": {
     "outputs_hidden": false
    }
   },
   "source": [
    "# Simple Plot and Fit"
   ]
  },
  {
   "metadata": {},
   "cell_type": "code",
   "source": "",
   "outputs": [],
   "execution_count": null
  },
  {
   "cell_type": "code",
   "metadata": {
    "jupyter": {
     "outputs_hidden": false
    }
   },
   "source": [
    "wait_times = []\n",
    "\n",
    "for vd in VDS:\n",
    "    time = PULSE_DURATION_90 + vd + PULSE_DURATION_180 + vd + PULSE_DURATION_180\n",
    "    #time = PULSE_DURATION_180 + vd + PULSE_DURATION_90\n",
    "    wait_times.append(time)\n",
    "\n",
    "wait_times = np.array(wait_times)\n",
    "wait_times\n",
    "\n",
    "#should start time start at beginning, middle, or end of first pulse?"
   ],
   "outputs": [],
   "execution_count": null
  },
  {
   "cell_type": "code",
   "metadata": {
    "jupyter": {
     "outputs_hidden": false
    }
   },
   "source": [
    "guesses = [ 2.15596580e-01,  2.14270367e+10,  6.00267028e+01,  2.05186193e+11,\n",
    "        1.84219662e+08, -1.32915336e+07,  4.48370558e-01]\n",
    "\n",
    "# T2, A, omega, Tj, C, offset1, offset2\n",
    "#(A * np.cos(omega * x + offset2) * np.exp(-x / Tj) + C) * np.exp(-x / T2) + offset1\n",
    "\n",
    "lower_bounds = [0, 0, 0, 0, -1e12, -1e12,-2*np.pi]\n",
    "upper_bounds = [1, 1e12, 1e12, 1e12, 1e12, 1e12,2*np.pi]\n",
    "\n",
    "popt_left, pcov_left = curve_fit(t2_func_exp, wait_times, areas_left, p0=guesses, bounds=(lower_bounds, upper_bounds))\n",
    "popt_right, pcov_right = curve_fit(t2_func_exp, wait_times, areas_right, p0=guesses, bounds=(lower_bounds, upper_bounds))\n",
    "\n",
    "t2_left, t2_left_err = popt_left[0], np.sqrt(pcov_left[0,0])\n",
    "t2_right, t2_right_err = popt_right[0], np.sqrt(pcov_right[0,0])\n",
    "\n",
    "PLUS_MINUS = u'\\u00b1'\n",
    "display(popt_left)\n",
    "display(popt_right)\n",
    "print(f\"Left peak: T2 = {t2_left: .3f} {PLUS_MINUS} {t2_left_err:.3f}\")\n",
    "print(f\"Right peak: T2 = {t2_right: .3f} {PLUS_MINUS} {t2_right_err:.3f}\")"
   ],
   "outputs": [],
   "execution_count": null
  },
  {
   "cell_type": "code",
   "metadata": {},
   "source": [
    "# Create the figure and axis with adjusted layout for publication\n",
    "fig_t2, axs_t2 = plt.subplots(2, 1, figsize=(8, 6), sharex=True, sharey=True)\n",
    "\n",
    "# Plot data points with a distinct color and marker size for clarity\n",
    "axs_t2[0].plot(wait_times, areas_left, 'o', markersize=6, label='Left Peak Data')\n",
    "axs_t2[1].plot(wait_times, areas_right, 'o', markersize=6, label='Right Peak Data')\n",
    "\n",
    "# Plot fit lines with higher contrast against the data points\n",
    "axs_t2[0].plot(wait_times, t2_func_exp(wait_times, *popt_left), linestyle='--', linewidth=2,\n",
    "               label=f\"Fit T2 = {t2_left: .3f} {PLUS_MINUS} {t2_left_err:.3f} s\")\n",
    "axs_t2[1].plot(wait_times, t2_func_exp(wait_times, *popt_right), linestyle='--', linewidth=2,\n",
    "               label=f\"Fit T2 = {t2_right: .3f} {PLUS_MINUS} {t2_right_err:.3f} s\")\n",
    "\n",
    "# Set labels and increase font size for publication readability\n",
    "axs_t2[0].set_ylabel(\"Intensity of Left Peak\")\n",
    "axs_t2[1].set_ylabel(\"Intensity of Right Peak\")\n",
    "axs_t2[1].set_xlabel(\"Wait Times (s)\")\n",
    "\n",
    "# Set legend positions and adjust font size\n",
    "axs_t2[0].legend()\n",
    "axs_t2[1].legend()\n",
    "\n",
    "# Set title and adjust spacing\n",
    "fig_t2.suptitle('T2 Curves for Left and Right Peaks', fontsize=14, weight='bold', y=0.93)\n",
    "\n",
    "# Enable grid with a subtle color and style\n",
    "[ax.grid(color='gray', linestyle='--', alpha=0.3) for ax in axs_t2]\n",
    "\n",
    "# Optimize layout for spacing and readability\n",
    "# fig_t2.tight_layout(pad=2.0)\n",
    "fig_t2.tight_layout()\n",
    "\n",
    "# Show the plot\n",
    "plt.show()\n"
   ],
   "outputs": [],
   "execution_count": null
  },
  {
   "metadata": {},
   "cell_type": "code",
   "source": [
    "print(popt_left[2]/(2*np.pi))\n",
    "print(popt_right[2]/(2*np.pi))\n",
    "print(popt_left[2])\n",
    "print(popt_right[2])"
   ],
   "outputs": [],
   "execution_count": null
  },
  {
   "metadata": {},
   "cell_type": "code",
   "source": "pcov_left",
   "outputs": [],
   "execution_count": null
  },
  {
   "metadata": {},
   "cell_type": "code",
   "source": [
    "print(np.sqrt(pcov_left[2,2]))\n",
    "print(np.sqrt(pcov_right[2,2]))"
   ],
   "outputs": [],
   "execution_count": null
  },
  {
   "metadata": {},
   "cell_type": "markdown",
   "source": "# Integrating the other doublet\n"
  },
  {
   "metadata": {},
   "cell_type": "code",
   "source": [
    "DOUBLET_OFFSET = -768.5\n",
    "L_FREQ_OTHER = -J / 2 + DOUBLET_OFFSET\n",
    "R_FREQ_OTHER = J / 2 + DOUBLET_OFFSET"
   ],
   "outputs": [],
   "execution_count": null
  },
  {
   "metadata": {},
   "cell_type": "code",
   "source": [
    "DISPLAY_INDICES = [0, 10, 20, 30, 40]  #Python starts couting at 0, while Bruker starts counting at zero hence the \"-1\"\n",
    "N_DISPLAY = len(DISPLAY_INDICES)\n",
    "\n",
    "INTGR_WIDTH = 15  # in Hz. The width to integrate over.\n",
    "X_LIMS_DISPLAY = [-20 + DOUBLET_OFFSET, 20 + DOUBLET_OFFSET]\n",
    "i_L = np.absolute(freqs - X_LIMS_DISPLAY[0]).argmin()\n",
    "i_R = np.absolute(freqs - X_LIMS_DISPLAY[1]).argmin()\n",
    "\n",
    "fig, axs = plt.subplots(N_DISPLAY, 1, figsize=(2 * N_DISPLAY, 8), sharex=True, sharey=False)\n",
    "\n",
    "# Making an offset so the red lines visually line up with the peaks\n",
    "intgr_offset = 0\n",
    "intgr_centers = (L_FREQ_OTHER + intgr_offset, R_FREQ_OTHER + intgr_offset)\n",
    "\n",
    "for i_axis, i_spectrum in enumerate(DISPLAY_INDICES):\n",
    "    # plot the spectrum\n",
    "    ax = axs[i_axis]\n",
    "    ax.plot(freqs[i_L: i_R + 1], data_mag[i_spectrum][i_L: i_R + 1])\n",
    "    ax.grid(alpha=0.5)\n",
    "    ax.set(xlabel='Offset Freq (Hz)')\n",
    "    ax.label_outer()\n",
    "    ax.tick_params(direction='in')\n",
    "\n",
    "    # red centers\n",
    "    ax.axvline(intgr_centers[0], color='r', alpha=0.5)\n",
    "    ax.axvline(intgr_centers[1], color='r', alpha=0.5)\n",
    "    # orange integration window\n",
    "    ax.axvspan(intgr_centers[0] - INTGR_WIDTH / 2, intgr_centers[0] + INTGR_WIDTH / 2, color='orange', alpha=0.5)\n",
    "    ax.axvspan(intgr_centers[1] - INTGR_WIDTH / 2, intgr_centers[1] + INTGR_WIDTH / 2, color='orange', alpha=0.5)\n",
    "\n",
    "    # plot integration lines\n",
    "\n",
    "fig.suptitle('Spectra_Theory for T2')\n",
    "fig.tight_layout()\n",
    "plt.show()"
   ],
   "outputs": [],
   "execution_count": null
  },
  {
   "metadata": {},
   "cell_type": "code",
   "source": "",
   "outputs": [],
   "execution_count": null
  },
  {
   "metadata": {},
   "cell_type": "code",
   "source": [
    "def integrate_doublet(spectrum):\n",
    "    i_L_lo = np.abs(freqs - (intgr_centers[0] - INTGR_WIDTH / 2)).argmin()\n",
    "    i_L_hi = np.abs(freqs - (intgr_centers[0] + INTGR_WIDTH / 2)).argmin()\n",
    "    i_R_lo = np.abs(freqs - (intgr_centers[1] - INTGR_WIDTH / 2)).argmin()\n",
    "    i_R_hi = np.abs(freqs - (intgr_centers[1] + INTGR_WIDTH / 2)).argmin()\n",
    "\n",
    "    area_L = integrate.trapezoid(spectrum[i_L_lo: i_L_hi])\n",
    "    area_R = integrate.trapezoid(spectrum[i_R_lo: i_R_hi])\n",
    "    return area_L, area_R"
   ],
   "outputs": [],
   "execution_count": null
  },
  {
   "metadata": {
    "jupyter": {
     "outputs_hidden": false
    }
   },
   "cell_type": "code",
   "source": [
    "areas_all = [integrate_doublet(spectrum) for spectrum in data_mag]\n",
    "areas_all = np.array(areas_all)\n",
    "areas_all.shape"
   ],
   "outputs": [],
   "execution_count": null
  },
  {
   "metadata": {
    "jupyter": {
     "outputs_hidden": false
    }
   },
   "cell_type": "code",
   "source": [
    "areas_left = areas_all[:, 0]\n",
    "areas_right = areas_all[:, 1]"
   ],
   "outputs": [],
   "execution_count": null
  },
  {
   "metadata": {
    "jupyter": {
     "outputs_hidden": false
    }
   },
   "cell_type": "code",
   "source": [
    "guesses = [2e10, 1]\n",
    "#a, t1\n",
    "lower_bounds = [0, 0]\n",
    "upper_bounds = [np.inf, 1e3]\n",
    "\n",
    "popt_left, pcov_left = curve_fit(t1_func, wait_times, areas_left, p0=guesses, bounds=(lower_bounds, upper_bounds))\n",
    "popt_right, pcov_right = curve_fit(t1_func, wait_times, areas_right, p0=guesses, bounds=(lower_bounds, upper_bounds))\n",
    "\n",
    "t1_left, t1_left_err = popt_left[1], np.sqrt(pcov_left[1,1])\n",
    "t1_right, t1_right_err = popt_right[1], np.sqrt(pcov_right[1,1])\n",
    "\n",
    "PLUS_MINUS = u'\\u00b1'\n",
    "display(popt_left)\n",
    "display(popt_right)\n",
    "print(f\"Left peak: T1 = {t1_left: .3f} {PLUS_MINUS} {t1_left_err:.3f}\")\n",
    "print(f\"Right peak: T1 = {t1_right: .3f} {PLUS_MINUS} {t1_right_err:.3f}\")"
   ],
   "outputs": [],
   "execution_count": null
  },
  {
   "metadata": {},
   "cell_type": "code",
   "source": [
    "# Create the figure and axis with adjusted layout for publication\n",
    "fig_t2, axs_t2 = plt.subplots(2, 1, figsize=(8, 6), sharex=True, sharey=True)\n",
    "\n",
    "# Plot data points with a distinct color and marker size for clarity\n",
    "axs_t2[0].plot(wait_times, areas_left, 'o', markersize=6, label='Left Peak Data')\n",
    "axs_t2[1].plot(wait_times, areas_right, 'o', markersize=6, label='Right Peak Data')\n",
    "\n",
    "# Plot fit lines with higher contrast against the data points\n",
    "axs_t2[0].plot(wait_times, t1_func(wait_times, *popt_left), linestyle='--', linewidth=2,\n",
    "               label=f\"Fit T1 = {t1_left: .3f} {PLUS_MINUS} {t1_left_err:.3f} s\")\n",
    "axs_t2[1].plot(wait_times, t1_func(wait_times, *popt_right), linestyle='--', linewidth=2,\n",
    "               label=f\"Fit T1 = {t1_right: .3f} {PLUS_MINUS} {t1_right_err:.3f} s\")\n",
    "\n",
    "# Set labels and increase font size for publication readability\n",
    "axs_t2[0].set_ylabel(\"Intensity of Left Peak\")\n",
    "axs_t2[1].set_ylabel(\"Intensity of Right Peak\")\n",
    "axs_t2[1].set_xlabel(\"Wait Times (s)\")\n",
    "\n",
    "# Set legend positions and adjust font size\n",
    "axs_t2[0].legend()\n",
    "axs_t2[1].legend()\n",
    "\n",
    "# Set title and adjust spacing\n",
    "fig_t2.suptitle('T2 Curves for Left and Right Peaks', fontsize=14, weight='bold', y=0.93)\n",
    "\n",
    "# Enable grid with a subtle color and style\n",
    "[ax.grid(color='gray', linestyle='--', alpha=0.3) for ax in axs_t2]\n",
    "\n",
    "# Optimize layout for spacing and readability\n",
    "# fig_t2.tight_layout(pad=2.0)\n",
    "fig_t2.tight_layout()\n",
    "\n",
    "# Show the plot\n",
    "plt.show()\n"
   ],
   "outputs": [],
   "execution_count": null
  }
 ],
 "metadata": {
  "kernelspec": {
   "display_name": "Python 3 (ipykernel)",
   "language": "python",
   "name": "python3"
  },
  "language_info": {
   "codemirror_mode": {
    "name": "ipython",
    "version": 3
   },
   "file_extension": ".py",
   "mimetype": "text/x-python",
   "name": "python",
   "nbconvert_exporter": "python",
   "pygments_lexer": "ipython3",
   "version": "3.11.5"
  }
 },
 "nbformat": 4,
 "nbformat_minor": 4
}

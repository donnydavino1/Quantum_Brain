{
 "cells": [
  {
   "cell_type": "code",
   "id": "initial_id",
   "metadata": {
    "collapsed": true,
    "ExecuteTime": {
     "end_time": "2025-02-26T03:44:39.420660Z",
     "start_time": "2025-02-26T03:44:39.416792Z"
    }
   },
   "source": [
    "#Specificity constant (also known as the catalytic efficiency)     k_a=k_cat/K_m           Unit:   M^-1s^-1\n",
    "#Michaelis constant                                                K_m                     Unit:   M\n",
    "#Catalytic rate constant                                           k_cat=                  Unit:   s^-1"
   ],
   "outputs": [],
   "execution_count": 3
  },
  {
   "metadata": {
    "ExecuteTime": {
     "end_time": "2025-02-26T03:44:39.446498Z",
     "start_time": "2025-02-26T03:44:39.442364Z"
    }
   },
   "cell_type": "code",
   "source": [
    "#Carbonic anhydrase\n",
    "\n",
    "k_a = 1.5e10\n",
    "#K_m =\n",
    "#k_cat =\n",
    "\n",
    "#a       the concentration of the substrate A         Unit: M\n",
    "#e_0     the concentration of                         Unit: M"
   ],
   "id": "7dc79c0c1379483c",
   "outputs": [],
   "execution_count": 4
  },
  {
   "metadata": {
    "ExecuteTime": {
     "end_time": "2025-02-26T03:45:33.839845Z",
     "start_time": "2025-02-26T03:45:33.805576Z"
    }
   },
   "cell_type": "code",
   "source": "v=k_cat*e_0*a/(K_m+a)",
   "id": "cc15ba10ed51f6d8",
   "outputs": [
    {
     "ename": "NameError",
     "evalue": "name 'k_cat' is not defined",
     "output_type": "error",
     "traceback": [
      "\u001B[1;31m---------------------------------------------------------------------------\u001B[0m",
      "\u001B[1;31mNameError\u001B[0m                                 Traceback (most recent call last)",
      "Cell \u001B[1;32mIn[5], line 1\u001B[0m\n\u001B[1;32m----> 1\u001B[0m v\u001B[38;5;241m=\u001B[39m\u001B[43mk_cat\u001B[49m\u001B[38;5;241m*\u001B[39me_0\u001B[38;5;241m*\u001B[39ma\u001B[38;5;241m/\u001B[39m(K_m\u001B[38;5;241m+\u001B[39ma)\n",
      "\u001B[1;31mNameError\u001B[0m: name 'k_cat' is not defined"
     ]
    }
   ],
   "execution_count": 5
  },
  {
   "metadata": {
    "ExecuteTime": {
     "end_time": "2025-02-26T03:56:53.367725Z",
     "start_time": "2025-02-26T03:56:53.360497Z"
    }
   },
   "cell_type": "code",
   "source": [
    "#for K_m>>a\n",
    "e_0 = 1e-3\n",
    "a = 100e-3\n",
    "\n",
    "v = k_a * e_0 * a                #     Unit:   M*s^-1\n",
    "print(v)"
   ],
   "id": "73b322591bfbb5a5",
   "outputs": [
    {
     "name": "stdout",
     "output_type": "stream",
     "text": [
      "1500000.0\n"
     ]
    }
   ],
   "execution_count": 7
  },
  {
   "metadata": {},
   "cell_type": "code",
   "outputs": [],
   "execution_count": null,
   "source": "",
   "id": "9bea7d2940b40342"
  }
 ],
 "metadata": {
  "kernelspec": {
   "display_name": "Python 3",
   "language": "python",
   "name": "python3"
  },
  "language_info": {
   "codemirror_mode": {
    "name": "ipython",
    "version": 2
   },
   "file_extension": ".py",
   "mimetype": "text/x-python",
   "name": "python",
   "nbconvert_exporter": "python",
   "pygments_lexer": "ipython2",
   "version": "2.7.6"
  }
 },
 "nbformat": 4,
 "nbformat_minor": 5
}
